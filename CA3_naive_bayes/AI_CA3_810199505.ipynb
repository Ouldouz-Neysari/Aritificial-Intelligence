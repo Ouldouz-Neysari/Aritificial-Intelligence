{
  "nbformat": 4,
  "nbformat_minor": 0,
  "metadata": {
    "colab": {
      "provenance": []
    },
    "kernelspec": {
      "name": "python3",
      "display_name": "Python 3"
    },
    "language_info": {
      "name": "python"
    }
  },
  "cells": [
    {
      "cell_type": "markdown",
      "source": [
        "## Phase 1"
      ],
      "metadata": {
        "id": "cVMORQ5PpXeS"
      }
    },
    {
      "cell_type": "markdown",
      "source": [
        "installing parsivar and hazm libraries :\n"
      ],
      "metadata": {
        "id": "w68Rgn5DprNP"
      }
    },
    {
      "cell_type": "code",
      "execution_count": 2,
      "metadata": {
        "colab": {
          "base_uri": "https://localhost:8080/"
        },
        "id": "_zeAns7pMMhD",
        "outputId": "36d8566d-fcfe-47cc-867d-04774cea048a"
      },
      "outputs": [
        {
          "output_type": "stream",
          "name": "stdout",
          "text": [
            "Looking in indexes: https://pypi.org/simple, https://us-python.pkg.dev/colab-wheels/public/simple/\n",
            "Collecting parsivar\n",
            "  Downloading parsivar-0.2.3.tar.gz (36.2 MB)\n",
            "\u001b[K     |████████████████████████████████| 36.2 MB 214 kB/s \n",
            "\u001b[?25hCollecting nltk==3.4.5\n",
            "  Downloading nltk-3.4.5.zip (1.5 MB)\n",
            "\u001b[K     |████████████████████████████████| 1.5 MB 41.3 MB/s \n",
            "\u001b[?25hRequirement already satisfied: six in /usr/local/lib/python3.8/dist-packages (from nltk==3.4.5->parsivar) (1.15.0)\n",
            "Building wheels for collected packages: parsivar, nltk\n",
            "  Building wheel for parsivar (setup.py) ... \u001b[?25l\u001b[?25hdone\n",
            "  Created wheel for parsivar: filename=parsivar-0.2.3-py3-none-any.whl size=36492971 sha256=575467d26e18505986ae65165c66063a9d748146fd57789a4e6f169fef5da9a8\n",
            "  Stored in directory: /root/.cache/pip/wheels/54/0a/38/7d0b1aabbd644340a94fb8685fd20d9f35814d735973d07f40\n",
            "  Building wheel for nltk (setup.py) ... \u001b[?25l\u001b[?25hdone\n",
            "  Created wheel for nltk: filename=nltk-3.4.5-py3-none-any.whl size=1449923 sha256=8ef2189864d35d0b48ef5185753ca166b9dd3c5fe1611eebe3443610bcbef4db\n",
            "  Stored in directory: /root/.cache/pip/wheels/23/18/48/8fd6ec11da38406b309470566d6f099c04805d2ec61d7829e7\n",
            "Successfully built parsivar nltk\n",
            "Installing collected packages: nltk, parsivar\n",
            "  Attempting uninstall: nltk\n",
            "    Found existing installation: nltk 3.7\n",
            "    Uninstalling nltk-3.7:\n",
            "      Successfully uninstalled nltk-3.7\n",
            "Successfully installed nltk-3.4.5 parsivar-0.2.3\n"
          ]
        }
      ],
      "source": [
        "!pip3 install parsivar"
      ]
    },
    {
      "cell_type": "code",
      "source": [
        "!pip install hazm"
      ],
      "metadata": {
        "colab": {
          "base_uri": "https://localhost:8080/"
        },
        "id": "JMWOgu4gND2X",
        "outputId": "1ac6f3de-87a0-4a6c-e008-50d7ff3d123a"
      },
      "execution_count": 3,
      "outputs": [
        {
          "output_type": "stream",
          "name": "stdout",
          "text": [
            "Looking in indexes: https://pypi.org/simple, https://us-python.pkg.dev/colab-wheels/public/simple/\n",
            "Collecting hazm\n",
            "  Downloading hazm-0.7.0-py3-none-any.whl (316 kB)\n",
            "\u001b[K     |████████████████████████████████| 316 kB 4.8 MB/s \n",
            "\u001b[?25hCollecting nltk==3.3\n",
            "  Downloading nltk-3.3.0.zip (1.4 MB)\n",
            "\u001b[K     |████████████████████████████████| 1.4 MB 46.5 MB/s \n",
            "\u001b[?25hCollecting libwapiti>=0.2.1\n",
            "  Downloading libwapiti-0.2.1.tar.gz (233 kB)\n",
            "\u001b[K     |████████████████████████████████| 233 kB 55.3 MB/s \n",
            "\u001b[?25hRequirement already satisfied: six in /usr/local/lib/python3.8/dist-packages (from nltk==3.3->hazm) (1.15.0)\n",
            "Building wheels for collected packages: nltk, libwapiti\n",
            "  Building wheel for nltk (setup.py) ... \u001b[?25l\u001b[?25hdone\n",
            "  Created wheel for nltk: filename=nltk-3.3-py3-none-any.whl size=1394482 sha256=e021c5a5f51270e18f7a4125dda28583ff8f2886e2170b5740770d7530ab093d\n",
            "  Stored in directory: /root/.cache/pip/wheels/19/1d/3a/0a8c14c30132b4f9ffd796efbb6746f15b3d6bcfc1055a9346\n",
            "  Building wheel for libwapiti (setup.py) ... \u001b[?25l\u001b[?25hdone\n",
            "  Created wheel for libwapiti: filename=libwapiti-0.2.1-cp38-cp38-linux_x86_64.whl size=154950 sha256=636c42e517235e90ebc9ee8ba87ab14d75abb2a9334694ae65dcdc48128e1995\n",
            "  Stored in directory: /root/.cache/pip/wheels/3c/d8/9f/59fd78b2b7d1e9ffcb68fb6de80c2e7c20b804c8cbc4d8fc23\n",
            "Successfully built nltk libwapiti\n",
            "Installing collected packages: nltk, libwapiti, hazm\n",
            "  Attempting uninstall: nltk\n",
            "    Found existing installation: nltk 3.4.5\n",
            "    Uninstalling nltk-3.4.5:\n",
            "      Successfully uninstalled nltk-3.4.5\n",
            "\u001b[31mERROR: pip's dependency resolver does not currently take into account all the packages that are installed. This behaviour is the source of the following dependency conflicts.\n",
            "parsivar 0.2.3 requires nltk==3.4.5, but you have nltk 3.3 which is incompatible.\u001b[0m\n",
            "Successfully installed hazm-0.7.0 libwapiti-0.2.1 nltk-3.3\n"
          ]
        }
      ]
    },
    {
      "cell_type": "code",
      "source": [
        "import pandas as pd"
      ],
      "metadata": {
        "id": "xh5J9bLzNenB"
      },
      "execution_count": 4,
      "outputs": []
    },
    {
      "cell_type": "markdown",
      "source": [
        "loading databases:"
      ],
      "metadata": {
        "id": "tl2ihhiMqSgI"
      }
    },
    {
      "cell_type": "code",
      "source": [
        "data_test = pd.read_csv(\"test.csv\")\n",
        "data_train = pd.read_csv(\"train.csv\")"
      ],
      "metadata": {
        "id": "c9cPqBocOCgR"
      },
      "execution_count": 5,
      "outputs": []
    },
    {
      "cell_type": "code",
      "source": [
        "data_train"
      ],
      "metadata": {
        "colab": {
          "base_uri": "https://localhost:8080/",
          "height": 424
        },
        "id": "zI7vF41_OM5a",
        "outputId": "f815928b-14d3-42b8-b2cb-4566e4a37797"
      },
      "execution_count": 6,
      "outputs": [
        {
          "output_type": "execute_result",
          "data": {
            "text/plain": [
              "            label                                            content\n",
              "0          فناوری  گزارش های منتشر شده حاکی از آن است که کاربران ...\n",
              "1           ورزشی  سوپر استار سینما و از قهرمانان سابق ووشو ــ کو...\n",
              "2           حوادث  مدیرعامل شرکت عمران آب کیش از فوت یک نفر در آت...\n",
              "3          فناوری  یک نوجوان انگلیسی به اتهام هک حساب‌های کاربری ...\n",
              "4           سلامت  دانشمندان در جدیدترین مطالعات خود اثرات جدید و...\n",
              "...           ...                                                ...\n",
              "8995        حوادث  شانزدهم مهر امسال درپی تماس با مرکز فوریت‌های ...\n",
              "8996        ورزشی  اتحادیه فوتبال ترینیداد و توباگو اعلام کرده تی...\n",
              "8997  فرهنگی/هنری  اسامی 18 فیلم بخش مسابقه مستند ششمین دوره جشنو...\n",
              "8998        حوادث  کامیونت حامل بار تخته‌های چوبی عصر دیروز چهارش...\n",
              "8999       فناوری  چهارمین لیگ بازی‌های رایانه‌ای ایران از روز ۶ ...\n",
              "\n",
              "[9000 rows x 2 columns]"
            ],
            "text/html": [
              "\n",
              "  <div id=\"df-afc4153b-e5cc-47f9-9c76-d2fa961f3558\">\n",
              "    <div class=\"colab-df-container\">\n",
              "      <div>\n",
              "<style scoped>\n",
              "    .dataframe tbody tr th:only-of-type {\n",
              "        vertical-align: middle;\n",
              "    }\n",
              "\n",
              "    .dataframe tbody tr th {\n",
              "        vertical-align: top;\n",
              "    }\n",
              "\n",
              "    .dataframe thead th {\n",
              "        text-align: right;\n",
              "    }\n",
              "</style>\n",
              "<table border=\"1\" class=\"dataframe\">\n",
              "  <thead>\n",
              "    <tr style=\"text-align: right;\">\n",
              "      <th></th>\n",
              "      <th>label</th>\n",
              "      <th>content</th>\n",
              "    </tr>\n",
              "  </thead>\n",
              "  <tbody>\n",
              "    <tr>\n",
              "      <th>0</th>\n",
              "      <td>فناوری</td>\n",
              "      <td>گزارش های منتشر شده حاکی از آن است که کاربران ...</td>\n",
              "    </tr>\n",
              "    <tr>\n",
              "      <th>1</th>\n",
              "      <td>ورزشی</td>\n",
              "      <td>سوپر استار سینما و از قهرمانان سابق ووشو ــ کو...</td>\n",
              "    </tr>\n",
              "    <tr>\n",
              "      <th>2</th>\n",
              "      <td>حوادث</td>\n",
              "      <td>مدیرعامل شرکت عمران آب کیش از فوت یک نفر در آت...</td>\n",
              "    </tr>\n",
              "    <tr>\n",
              "      <th>3</th>\n",
              "      <td>فناوری</td>\n",
              "      <td>یک نوجوان انگلیسی به اتهام هک حساب‌های کاربری ...</td>\n",
              "    </tr>\n",
              "    <tr>\n",
              "      <th>4</th>\n",
              "      <td>سلامت</td>\n",
              "      <td>دانشمندان در جدیدترین مطالعات خود اثرات جدید و...</td>\n",
              "    </tr>\n",
              "    <tr>\n",
              "      <th>...</th>\n",
              "      <td>...</td>\n",
              "      <td>...</td>\n",
              "    </tr>\n",
              "    <tr>\n",
              "      <th>8995</th>\n",
              "      <td>حوادث</td>\n",
              "      <td>شانزدهم مهر امسال درپی تماس با مرکز فوریت‌های ...</td>\n",
              "    </tr>\n",
              "    <tr>\n",
              "      <th>8996</th>\n",
              "      <td>ورزشی</td>\n",
              "      <td>اتحادیه فوتبال ترینیداد و توباگو اعلام کرده تی...</td>\n",
              "    </tr>\n",
              "    <tr>\n",
              "      <th>8997</th>\n",
              "      <td>فرهنگی/هنری</td>\n",
              "      <td>اسامی 18 فیلم بخش مسابقه مستند ششمین دوره جشنو...</td>\n",
              "    </tr>\n",
              "    <tr>\n",
              "      <th>8998</th>\n",
              "      <td>حوادث</td>\n",
              "      <td>کامیونت حامل بار تخته‌های چوبی عصر دیروز چهارش...</td>\n",
              "    </tr>\n",
              "    <tr>\n",
              "      <th>8999</th>\n",
              "      <td>فناوری</td>\n",
              "      <td>چهارمین لیگ بازی‌های رایانه‌ای ایران از روز ۶ ...</td>\n",
              "    </tr>\n",
              "  </tbody>\n",
              "</table>\n",
              "<p>9000 rows × 2 columns</p>\n",
              "</div>\n",
              "      <button class=\"colab-df-convert\" onclick=\"convertToInteractive('df-afc4153b-e5cc-47f9-9c76-d2fa961f3558')\"\n",
              "              title=\"Convert this dataframe to an interactive table.\"\n",
              "              style=\"display:none;\">\n",
              "        \n",
              "  <svg xmlns=\"http://www.w3.org/2000/svg\" height=\"24px\"viewBox=\"0 0 24 24\"\n",
              "       width=\"24px\">\n",
              "    <path d=\"M0 0h24v24H0V0z\" fill=\"none\"/>\n",
              "    <path d=\"M18.56 5.44l.94 2.06.94-2.06 2.06-.94-2.06-.94-.94-2.06-.94 2.06-2.06.94zm-11 1L8.5 8.5l.94-2.06 2.06-.94-2.06-.94L8.5 2.5l-.94 2.06-2.06.94zm10 10l.94 2.06.94-2.06 2.06-.94-2.06-.94-.94-2.06-.94 2.06-2.06.94z\"/><path d=\"M17.41 7.96l-1.37-1.37c-.4-.4-.92-.59-1.43-.59-.52 0-1.04.2-1.43.59L10.3 9.45l-7.72 7.72c-.78.78-.78 2.05 0 2.83L4 21.41c.39.39.9.59 1.41.59.51 0 1.02-.2 1.41-.59l7.78-7.78 2.81-2.81c.8-.78.8-2.07 0-2.86zM5.41 20L4 18.59l7.72-7.72 1.47 1.35L5.41 20z\"/>\n",
              "  </svg>\n",
              "      </button>\n",
              "      \n",
              "  <style>\n",
              "    .colab-df-container {\n",
              "      display:flex;\n",
              "      flex-wrap:wrap;\n",
              "      gap: 12px;\n",
              "    }\n",
              "\n",
              "    .colab-df-convert {\n",
              "      background-color: #E8F0FE;\n",
              "      border: none;\n",
              "      border-radius: 50%;\n",
              "      cursor: pointer;\n",
              "      display: none;\n",
              "      fill: #1967D2;\n",
              "      height: 32px;\n",
              "      padding: 0 0 0 0;\n",
              "      width: 32px;\n",
              "    }\n",
              "\n",
              "    .colab-df-convert:hover {\n",
              "      background-color: #E2EBFA;\n",
              "      box-shadow: 0px 1px 2px rgba(60, 64, 67, 0.3), 0px 1px 3px 1px rgba(60, 64, 67, 0.15);\n",
              "      fill: #174EA6;\n",
              "    }\n",
              "\n",
              "    [theme=dark] .colab-df-convert {\n",
              "      background-color: #3B4455;\n",
              "      fill: #D2E3FC;\n",
              "    }\n",
              "\n",
              "    [theme=dark] .colab-df-convert:hover {\n",
              "      background-color: #434B5C;\n",
              "      box-shadow: 0px 1px 3px 1px rgba(0, 0, 0, 0.15);\n",
              "      filter: drop-shadow(0px 1px 2px rgba(0, 0, 0, 0.3));\n",
              "      fill: #FFFFFF;\n",
              "    }\n",
              "  </style>\n",
              "\n",
              "      <script>\n",
              "        const buttonEl =\n",
              "          document.querySelector('#df-afc4153b-e5cc-47f9-9c76-d2fa961f3558 button.colab-df-convert');\n",
              "        buttonEl.style.display =\n",
              "          google.colab.kernel.accessAllowed ? 'block' : 'none';\n",
              "\n",
              "        async function convertToInteractive(key) {\n",
              "          const element = document.querySelector('#df-afc4153b-e5cc-47f9-9c76-d2fa961f3558');\n",
              "          const dataTable =\n",
              "            await google.colab.kernel.invokeFunction('convertToInteractive',\n",
              "                                                     [key], {});\n",
              "          if (!dataTable) return;\n",
              "\n",
              "          const docLinkHtml = 'Like what you see? Visit the ' +\n",
              "            '<a target=\"_blank\" href=https://colab.research.google.com/notebooks/data_table.ipynb>data table notebook</a>'\n",
              "            + ' to learn more about interactive tables.';\n",
              "          element.innerHTML = '';\n",
              "          dataTable['output_type'] = 'display_data';\n",
              "          await google.colab.output.renderOutput(dataTable, element);\n",
              "          const docLink = document.createElement('div');\n",
              "          docLink.innerHTML = docLinkHtml;\n",
              "          element.appendChild(docLink);\n",
              "        }\n",
              "      </script>\n",
              "    </div>\n",
              "  </div>\n",
              "  "
            ]
          },
          "metadata": {},
          "execution_count": 6
        }
      ]
    },
    {
      "cell_type": "code",
      "source": [
        "data_test"
      ],
      "metadata": {
        "colab": {
          "base_uri": "https://localhost:8080/",
          "height": 424
        },
        "id": "CTuEZcoyX8cg",
        "outputId": "2c772060-1768-49af-8721-7d9d87e5fd8c"
      },
      "execution_count": 7,
      "outputs": [
        {
          "output_type": "execute_result",
          "data": {
            "text/plain": [
              "            label                                            content\n",
              "0          فناوری  بعد از اعلام لیست ۲۳ شرکت مجاز ثبت سفارش و ارا...\n",
              "1     فرهنگی/هنری  یک استاد علم قرائت قرآن کریم، گفت: ریشه موسیقی...\n",
              "2           حوادث  آتش سوزی های زنجیره ای جنگل های زاگرس در استان...\n",
              "3          فناوری  استفاده از سرویس‌های iMassage یا Facetime محصو...\n",
              "4           حوادث  دادستان عمومی و انقلاب یاسوج گفت: 10 میلیون دل...\n",
              "...           ...                                                ...\n",
              "1110        ورزشی  عضو هیات مدیره باشگاه استقلال گفت:من هیچوقت به...\n",
              "1111        حوادث  مدیر آموزش و پرورش شهرستان جیرفت از دستگیری دا...\n",
              "1112        سیاسی  رییس جمهور با بیان اینکه در هفته گذشته هیچ شهر...\n",
              "1113       فناوری  دارندگان مدل‌های اعلام‌شده گوشی‌های هوآوی، می‌...\n",
              "1114        سلامت  مطالعه ای جدید نشان داده است که احتمال مثبت بو...\n",
              "\n",
              "[1115 rows x 2 columns]"
            ],
            "text/html": [
              "\n",
              "  <div id=\"df-8aac9a79-1ff0-4f25-b3b4-adf7608eed26\">\n",
              "    <div class=\"colab-df-container\">\n",
              "      <div>\n",
              "<style scoped>\n",
              "    .dataframe tbody tr th:only-of-type {\n",
              "        vertical-align: middle;\n",
              "    }\n",
              "\n",
              "    .dataframe tbody tr th {\n",
              "        vertical-align: top;\n",
              "    }\n",
              "\n",
              "    .dataframe thead th {\n",
              "        text-align: right;\n",
              "    }\n",
              "</style>\n",
              "<table border=\"1\" class=\"dataframe\">\n",
              "  <thead>\n",
              "    <tr style=\"text-align: right;\">\n",
              "      <th></th>\n",
              "      <th>label</th>\n",
              "      <th>content</th>\n",
              "    </tr>\n",
              "  </thead>\n",
              "  <tbody>\n",
              "    <tr>\n",
              "      <th>0</th>\n",
              "      <td>فناوری</td>\n",
              "      <td>بعد از اعلام لیست ۲۳ شرکت مجاز ثبت سفارش و ارا...</td>\n",
              "    </tr>\n",
              "    <tr>\n",
              "      <th>1</th>\n",
              "      <td>فرهنگی/هنری</td>\n",
              "      <td>یک استاد علم قرائت قرآن کریم، گفت: ریشه موسیقی...</td>\n",
              "    </tr>\n",
              "    <tr>\n",
              "      <th>2</th>\n",
              "      <td>حوادث</td>\n",
              "      <td>آتش سوزی های زنجیره ای جنگل های زاگرس در استان...</td>\n",
              "    </tr>\n",
              "    <tr>\n",
              "      <th>3</th>\n",
              "      <td>فناوری</td>\n",
              "      <td>استفاده از سرویس‌های iMassage یا Facetime محصو...</td>\n",
              "    </tr>\n",
              "    <tr>\n",
              "      <th>4</th>\n",
              "      <td>حوادث</td>\n",
              "      <td>دادستان عمومی و انقلاب یاسوج گفت: 10 میلیون دل...</td>\n",
              "    </tr>\n",
              "    <tr>\n",
              "      <th>...</th>\n",
              "      <td>...</td>\n",
              "      <td>...</td>\n",
              "    </tr>\n",
              "    <tr>\n",
              "      <th>1110</th>\n",
              "      <td>ورزشی</td>\n",
              "      <td>عضو هیات مدیره باشگاه استقلال گفت:من هیچوقت به...</td>\n",
              "    </tr>\n",
              "    <tr>\n",
              "      <th>1111</th>\n",
              "      <td>حوادث</td>\n",
              "      <td>مدیر آموزش و پرورش شهرستان جیرفت از دستگیری دا...</td>\n",
              "    </tr>\n",
              "    <tr>\n",
              "      <th>1112</th>\n",
              "      <td>سیاسی</td>\n",
              "      <td>رییس جمهور با بیان اینکه در هفته گذشته هیچ شهر...</td>\n",
              "    </tr>\n",
              "    <tr>\n",
              "      <th>1113</th>\n",
              "      <td>فناوری</td>\n",
              "      <td>دارندگان مدل‌های اعلام‌شده گوشی‌های هوآوی، می‌...</td>\n",
              "    </tr>\n",
              "    <tr>\n",
              "      <th>1114</th>\n",
              "      <td>سلامت</td>\n",
              "      <td>مطالعه ای جدید نشان داده است که احتمال مثبت بو...</td>\n",
              "    </tr>\n",
              "  </tbody>\n",
              "</table>\n",
              "<p>1115 rows × 2 columns</p>\n",
              "</div>\n",
              "      <button class=\"colab-df-convert\" onclick=\"convertToInteractive('df-8aac9a79-1ff0-4f25-b3b4-adf7608eed26')\"\n",
              "              title=\"Convert this dataframe to an interactive table.\"\n",
              "              style=\"display:none;\">\n",
              "        \n",
              "  <svg xmlns=\"http://www.w3.org/2000/svg\" height=\"24px\"viewBox=\"0 0 24 24\"\n",
              "       width=\"24px\">\n",
              "    <path d=\"M0 0h24v24H0V0z\" fill=\"none\"/>\n",
              "    <path d=\"M18.56 5.44l.94 2.06.94-2.06 2.06-.94-2.06-.94-.94-2.06-.94 2.06-2.06.94zm-11 1L8.5 8.5l.94-2.06 2.06-.94-2.06-.94L8.5 2.5l-.94 2.06-2.06.94zm10 10l.94 2.06.94-2.06 2.06-.94-2.06-.94-.94-2.06-.94 2.06-2.06.94z\"/><path d=\"M17.41 7.96l-1.37-1.37c-.4-.4-.92-.59-1.43-.59-.52 0-1.04.2-1.43.59L10.3 9.45l-7.72 7.72c-.78.78-.78 2.05 0 2.83L4 21.41c.39.39.9.59 1.41.59.51 0 1.02-.2 1.41-.59l7.78-7.78 2.81-2.81c.8-.78.8-2.07 0-2.86zM5.41 20L4 18.59l7.72-7.72 1.47 1.35L5.41 20z\"/>\n",
              "  </svg>\n",
              "      </button>\n",
              "      \n",
              "  <style>\n",
              "    .colab-df-container {\n",
              "      display:flex;\n",
              "      flex-wrap:wrap;\n",
              "      gap: 12px;\n",
              "    }\n",
              "\n",
              "    .colab-df-convert {\n",
              "      background-color: #E8F0FE;\n",
              "      border: none;\n",
              "      border-radius: 50%;\n",
              "      cursor: pointer;\n",
              "      display: none;\n",
              "      fill: #1967D2;\n",
              "      height: 32px;\n",
              "      padding: 0 0 0 0;\n",
              "      width: 32px;\n",
              "    }\n",
              "\n",
              "    .colab-df-convert:hover {\n",
              "      background-color: #E2EBFA;\n",
              "      box-shadow: 0px 1px 2px rgba(60, 64, 67, 0.3), 0px 1px 3px 1px rgba(60, 64, 67, 0.15);\n",
              "      fill: #174EA6;\n",
              "    }\n",
              "\n",
              "    [theme=dark] .colab-df-convert {\n",
              "      background-color: #3B4455;\n",
              "      fill: #D2E3FC;\n",
              "    }\n",
              "\n",
              "    [theme=dark] .colab-df-convert:hover {\n",
              "      background-color: #434B5C;\n",
              "      box-shadow: 0px 1px 3px 1px rgba(0, 0, 0, 0.15);\n",
              "      filter: drop-shadow(0px 1px 2px rgba(0, 0, 0, 0.3));\n",
              "      fill: #FFFFFF;\n",
              "    }\n",
              "  </style>\n",
              "\n",
              "      <script>\n",
              "        const buttonEl =\n",
              "          document.querySelector('#df-8aac9a79-1ff0-4f25-b3b4-adf7608eed26 button.colab-df-convert');\n",
              "        buttonEl.style.display =\n",
              "          google.colab.kernel.accessAllowed ? 'block' : 'none';\n",
              "\n",
              "        async function convertToInteractive(key) {\n",
              "          const element = document.querySelector('#df-8aac9a79-1ff0-4f25-b3b4-adf7608eed26');\n",
              "          const dataTable =\n",
              "            await google.colab.kernel.invokeFunction('convertToInteractive',\n",
              "                                                     [key], {});\n",
              "          if (!dataTable) return;\n",
              "\n",
              "          const docLinkHtml = 'Like what you see? Visit the ' +\n",
              "            '<a target=\"_blank\" href=https://colab.research.google.com/notebooks/data_table.ipynb>data table notebook</a>'\n",
              "            + ' to learn more about interactive tables.';\n",
              "          element.innerHTML = '';\n",
              "          dataTable['output_type'] = 'display_data';\n",
              "          await google.colab.output.renderOutput(dataTable, element);\n",
              "          const docLink = document.createElement('div');\n",
              "          docLink.innerHTML = docLinkHtml;\n",
              "          element.appendChild(docLink);\n",
              "        }\n",
              "      </script>\n",
              "    </div>\n",
              "  </div>\n",
              "  "
            ]
          },
          "metadata": {},
          "execution_count": 7
        }
      ]
    },
    {
      "cell_type": "markdown",
      "source": [
        "برای حذف ایست واژه ها و کاراکتر های بی اهمیت به این صورت عمل می کنیم که در فایلی تمام کلمات و کاراکتر هایی که احتمال ظاهر شدن دارند را قرار می دهیم "
      ],
      "metadata": {
        "id": "qCbrJ11Dqp_9"
      }
    },
    {
      "cell_type": "code",
      "source": [
        "with open('persian') as _f:\n",
        "    stop_words = [line.rstrip() for line in _f]\n",
        "\n",
        "stop_words = [x.strip() for x in stop_words]\n",
        "\n",
        "stop_words[40:50]"
      ],
      "metadata": {
        "colab": {
          "base_uri": "https://localhost:8080/"
        },
        "id": "d1mkrgkYaGPH",
        "outputId": "23f191b7-f613-4093-b2fc-293b394ee9a4"
      },
      "execution_count": 8,
      "outputs": [
        {
          "output_type": "execute_result",
          "data": {
            "text/plain": [
              "['آن',\n",
              " 'آن گاه',\n",
              " 'آنان',\n",
              " 'آنانی',\n",
              " 'آنجا',\n",
              " 'آنرا',\n",
              " 'آنطور',\n",
              " 'آنقدر',\n",
              " 'آنها',\n",
              " 'آنهاست']"
            ]
          },
          "metadata": {},
          "execution_count": 8
        }
      ]
    },
    {
      "cell_type": "code",
      "source": [
        "import hazm\n",
        "import parsivar"
      ],
      "metadata": {
        "id": "Fq-mp5xsdC1X"
      },
      "execution_count": 9,
      "outputs": []
    },
    {
      "cell_type": "markdown",
      "source": [
        "By looping over the rows of train dataset , first we normalize each row's content column and the we tokenize the the content column and make arrays of words. For each word in arrays of words we check wheter it is a stop word or not. If it is not, we append it to new set of words. For every row we replace the new set of words."
      ],
      "metadata": {
        "id": "Ga4AWueMsOsK"
      }
    },
    {
      "cell_type": "code",
      "source": [
        "normalizer = parsivar.Normalizer()\n",
        "row_num = data_train.shape[0]\n",
        "col_num = data_train.shape[1]\n",
        "for i in range(0, row_num):\n",
        "    data_train.iat[i,1] = normalizer.normalize(str(data_train.iloc[i][1]))\n",
        "    word_tokens = hazm.word_tokenize(data_train.iloc[i][1])\n",
        "    edited_sentc = []\n",
        "    for w in word_tokens:\n",
        "      if w not in stop_words:\n",
        "        edited_sentc.append(w)\n",
        "    data_train.iat[i, 1] = edited_sentc\n",
        "\n",
        "data_train"
      ],
      "metadata": {
        "colab": {
          "base_uri": "https://localhost:8080/",
          "height": 424
        },
        "id": "m1gf8_dHa8HT",
        "outputId": "4fc26176-9d7b-45b5-e6cf-2fe51ce6f940"
      },
      "execution_count": 10,
      "outputs": [
        {
          "output_type": "execute_result",
          "data": {
            "text/plain": [
              "            label                                            content\n",
              "0          فناوری  [گزارش‌های, منتشر‌شده‌حاکی, کاربران, تلگرام, م...\n",
              "1           ورزشی  [سوپر, استار, سینما, قهرمانان, ووشو, کونگ‌فو, ...\n",
              "2           حوادث  [مدیرعامل, شرکت, عمران, آب, کیش, فوت, نفر, آتش...\n",
              "3          فناوری  [نوجوان, انگلیسی, اتهام, هک, حساب‌های, کاربری,...\n",
              "4           سلامت  [دانشمندان, جدیدترین, مطالعات, اثرات, ویروس, ک...\n",
              "...           ...                                                ...\n",
              "8995        حوادث  [شانزدهم, مهر, درپی, تماس, مرکز, فوریت‌های, پل...\n",
              "8996        ورزشی  [اتحادیه, فوتبال, ترینیداد, توباگو, تیم, ملی, ...\n",
              "8997  فرهنگی/هنری  [اسامی, 18, فیلم, مسابقه, ششمین, دوره, جشنواره...\n",
              "8998        حوادث  [کامیونت, حامل, تخته‌های, چوبی, عصر, چهارشنبه,...\n",
              "8999       فناوری  [چهارمین, لیگ, بازی‌های, رایانه‌ای, ایران, 6, ...\n",
              "\n",
              "[9000 rows x 2 columns]"
            ],
            "text/html": [
              "\n",
              "  <div id=\"df-0cc80686-5dfc-4f3c-aef2-6a267436dbf2\">\n",
              "    <div class=\"colab-df-container\">\n",
              "      <div>\n",
              "<style scoped>\n",
              "    .dataframe tbody tr th:only-of-type {\n",
              "        vertical-align: middle;\n",
              "    }\n",
              "\n",
              "    .dataframe tbody tr th {\n",
              "        vertical-align: top;\n",
              "    }\n",
              "\n",
              "    .dataframe thead th {\n",
              "        text-align: right;\n",
              "    }\n",
              "</style>\n",
              "<table border=\"1\" class=\"dataframe\">\n",
              "  <thead>\n",
              "    <tr style=\"text-align: right;\">\n",
              "      <th></th>\n",
              "      <th>label</th>\n",
              "      <th>content</th>\n",
              "    </tr>\n",
              "  </thead>\n",
              "  <tbody>\n",
              "    <tr>\n",
              "      <th>0</th>\n",
              "      <td>فناوری</td>\n",
              "      <td>[گزارش‌های, منتشر‌شده‌حاکی, کاربران, تلگرام, م...</td>\n",
              "    </tr>\n",
              "    <tr>\n",
              "      <th>1</th>\n",
              "      <td>ورزشی</td>\n",
              "      <td>[سوپر, استار, سینما, قهرمانان, ووشو, کونگ‌فو, ...</td>\n",
              "    </tr>\n",
              "    <tr>\n",
              "      <th>2</th>\n",
              "      <td>حوادث</td>\n",
              "      <td>[مدیرعامل, شرکت, عمران, آب, کیش, فوت, نفر, آتش...</td>\n",
              "    </tr>\n",
              "    <tr>\n",
              "      <th>3</th>\n",
              "      <td>فناوری</td>\n",
              "      <td>[نوجوان, انگلیسی, اتهام, هک, حساب‌های, کاربری,...</td>\n",
              "    </tr>\n",
              "    <tr>\n",
              "      <th>4</th>\n",
              "      <td>سلامت</td>\n",
              "      <td>[دانشمندان, جدیدترین, مطالعات, اثرات, ویروس, ک...</td>\n",
              "    </tr>\n",
              "    <tr>\n",
              "      <th>...</th>\n",
              "      <td>...</td>\n",
              "      <td>...</td>\n",
              "    </tr>\n",
              "    <tr>\n",
              "      <th>8995</th>\n",
              "      <td>حوادث</td>\n",
              "      <td>[شانزدهم, مهر, درپی, تماس, مرکز, فوریت‌های, پل...</td>\n",
              "    </tr>\n",
              "    <tr>\n",
              "      <th>8996</th>\n",
              "      <td>ورزشی</td>\n",
              "      <td>[اتحادیه, فوتبال, ترینیداد, توباگو, تیم, ملی, ...</td>\n",
              "    </tr>\n",
              "    <tr>\n",
              "      <th>8997</th>\n",
              "      <td>فرهنگی/هنری</td>\n",
              "      <td>[اسامی, 18, فیلم, مسابقه, ششمین, دوره, جشنواره...</td>\n",
              "    </tr>\n",
              "    <tr>\n",
              "      <th>8998</th>\n",
              "      <td>حوادث</td>\n",
              "      <td>[کامیونت, حامل, تخته‌های, چوبی, عصر, چهارشنبه,...</td>\n",
              "    </tr>\n",
              "    <tr>\n",
              "      <th>8999</th>\n",
              "      <td>فناوری</td>\n",
              "      <td>[چهارمین, لیگ, بازی‌های, رایانه‌ای, ایران, 6, ...</td>\n",
              "    </tr>\n",
              "  </tbody>\n",
              "</table>\n",
              "<p>9000 rows × 2 columns</p>\n",
              "</div>\n",
              "      <button class=\"colab-df-convert\" onclick=\"convertToInteractive('df-0cc80686-5dfc-4f3c-aef2-6a267436dbf2')\"\n",
              "              title=\"Convert this dataframe to an interactive table.\"\n",
              "              style=\"display:none;\">\n",
              "        \n",
              "  <svg xmlns=\"http://www.w3.org/2000/svg\" height=\"24px\"viewBox=\"0 0 24 24\"\n",
              "       width=\"24px\">\n",
              "    <path d=\"M0 0h24v24H0V0z\" fill=\"none\"/>\n",
              "    <path d=\"M18.56 5.44l.94 2.06.94-2.06 2.06-.94-2.06-.94-.94-2.06-.94 2.06-2.06.94zm-11 1L8.5 8.5l.94-2.06 2.06-.94-2.06-.94L8.5 2.5l-.94 2.06-2.06.94zm10 10l.94 2.06.94-2.06 2.06-.94-2.06-.94-.94-2.06-.94 2.06-2.06.94z\"/><path d=\"M17.41 7.96l-1.37-1.37c-.4-.4-.92-.59-1.43-.59-.52 0-1.04.2-1.43.59L10.3 9.45l-7.72 7.72c-.78.78-.78 2.05 0 2.83L4 21.41c.39.39.9.59 1.41.59.51 0 1.02-.2 1.41-.59l7.78-7.78 2.81-2.81c.8-.78.8-2.07 0-2.86zM5.41 20L4 18.59l7.72-7.72 1.47 1.35L5.41 20z\"/>\n",
              "  </svg>\n",
              "      </button>\n",
              "      \n",
              "  <style>\n",
              "    .colab-df-container {\n",
              "      display:flex;\n",
              "      flex-wrap:wrap;\n",
              "      gap: 12px;\n",
              "    }\n",
              "\n",
              "    .colab-df-convert {\n",
              "      background-color: #E8F0FE;\n",
              "      border: none;\n",
              "      border-radius: 50%;\n",
              "      cursor: pointer;\n",
              "      display: none;\n",
              "      fill: #1967D2;\n",
              "      height: 32px;\n",
              "      padding: 0 0 0 0;\n",
              "      width: 32px;\n",
              "    }\n",
              "\n",
              "    .colab-df-convert:hover {\n",
              "      background-color: #E2EBFA;\n",
              "      box-shadow: 0px 1px 2px rgba(60, 64, 67, 0.3), 0px 1px 3px 1px rgba(60, 64, 67, 0.15);\n",
              "      fill: #174EA6;\n",
              "    }\n",
              "\n",
              "    [theme=dark] .colab-df-convert {\n",
              "      background-color: #3B4455;\n",
              "      fill: #D2E3FC;\n",
              "    }\n",
              "\n",
              "    [theme=dark] .colab-df-convert:hover {\n",
              "      background-color: #434B5C;\n",
              "      box-shadow: 0px 1px 3px 1px rgba(0, 0, 0, 0.15);\n",
              "      filter: drop-shadow(0px 1px 2px rgba(0, 0, 0, 0.3));\n",
              "      fill: #FFFFFF;\n",
              "    }\n",
              "  </style>\n",
              "\n",
              "      <script>\n",
              "        const buttonEl =\n",
              "          document.querySelector('#df-0cc80686-5dfc-4f3c-aef2-6a267436dbf2 button.colab-df-convert');\n",
              "        buttonEl.style.display =\n",
              "          google.colab.kernel.accessAllowed ? 'block' : 'none';\n",
              "\n",
              "        async function convertToInteractive(key) {\n",
              "          const element = document.querySelector('#df-0cc80686-5dfc-4f3c-aef2-6a267436dbf2');\n",
              "          const dataTable =\n",
              "            await google.colab.kernel.invokeFunction('convertToInteractive',\n",
              "                                                     [key], {});\n",
              "          if (!dataTable) return;\n",
              "\n",
              "          const docLinkHtml = 'Like what you see? Visit the ' +\n",
              "            '<a target=\"_blank\" href=https://colab.research.google.com/notebooks/data_table.ipynb>data table notebook</a>'\n",
              "            + ' to learn more about interactive tables.';\n",
              "          element.innerHTML = '';\n",
              "          dataTable['output_type'] = 'display_data';\n",
              "          await google.colab.output.renderOutput(dataTable, element);\n",
              "          const docLink = document.createElement('div');\n",
              "          docLink.innerHTML = docLinkHtml;\n",
              "          element.appendChild(docLink);\n",
              "        }\n",
              "      </script>\n",
              "    </div>\n",
              "  </div>\n",
              "  "
            ]
          },
          "metadata": {},
          "execution_count": 10
        }
      ]
    },
    {
      "cell_type": "markdown",
      "source": [
        "repeating the previos procodure for test dataset:"
      ],
      "metadata": {
        "id": "OJ5xSQZGtojV"
      }
    },
    {
      "cell_type": "code",
      "source": [
        "row_num_test = data_test.shape[0]\n",
        "for i in range(0, row_num_test):\n",
        "    data_test.iat[i,1] = normalizer.normalize(str(data_test.iloc[i][1]))\n",
        "    word_tokens = hazm.word_tokenize(data_test.iloc[i][1])\n",
        "    edited_sentc = []\n",
        "    for w in word_tokens:\n",
        "      if w not in stop_words:\n",
        "        edited_sentc.append(w)\n",
        "    data_test.iat[i, 1] = edited_sentc\n",
        "\n",
        "data_test"
      ],
      "metadata": {
        "colab": {
          "base_uri": "https://localhost:8080/",
          "height": 424
        },
        "id": "OVSlRy1imAtP",
        "outputId": "591190f3-ea32-4292-b069-4c4eb1e6228a"
      },
      "execution_count": 11,
      "outputs": [
        {
          "output_type": "execute_result",
          "data": {
            "text/plain": [
              "            label                                            content\n",
              "0          فناوری  [لیست, 23, شرکت, مجاز, ثبت, سفارش, ارائه, فروش...\n",
              "1     فرهنگی/هنری  [استاد, علم, قرائت, قرآن, کریم, ریشه, موسیقی, ...\n",
              "2           حوادث  [آتش, سوزی‌های, زنجیره‌ای, جنگل‌های, زاگرس, اس...\n",
              "3          فناوری  [سرویس‌های, iMassage, Facetime, محصولات, شرکت,...\n",
              "4           حوادث  [دادستان, عمومی, انقلاب, یاسوج, 10, دلار, جعلی...\n",
              "...           ...                                                ...\n",
              "1110        ورزشی  [عضو, هیات, مدیره, باشگاه, استقلال, دنبال, مدی...\n",
              "1111        حوادث  [مدیر, آموزش, پرورش, شهرستان, جیرفت, دستگیری, ...\n",
              "1112        سیاسی  [رییس‌جمهور, بیان, هفته, شهر, قرمزی, کشور, خوز...\n",
              "1113       فناوری  [دارندگان, مدل‌های, اعلام‌شده, گوشی‌های, هوآوی...\n",
              "1114        سلامت  [مطالعه‌ای, داده_است, احتمال, مثبت, نتیجه, آزم...\n",
              "\n",
              "[1115 rows x 2 columns]"
            ],
            "text/html": [
              "\n",
              "  <div id=\"df-bb68fdcd-76e5-4815-8b6f-213ef03f12cd\">\n",
              "    <div class=\"colab-df-container\">\n",
              "      <div>\n",
              "<style scoped>\n",
              "    .dataframe tbody tr th:only-of-type {\n",
              "        vertical-align: middle;\n",
              "    }\n",
              "\n",
              "    .dataframe tbody tr th {\n",
              "        vertical-align: top;\n",
              "    }\n",
              "\n",
              "    .dataframe thead th {\n",
              "        text-align: right;\n",
              "    }\n",
              "</style>\n",
              "<table border=\"1\" class=\"dataframe\">\n",
              "  <thead>\n",
              "    <tr style=\"text-align: right;\">\n",
              "      <th></th>\n",
              "      <th>label</th>\n",
              "      <th>content</th>\n",
              "    </tr>\n",
              "  </thead>\n",
              "  <tbody>\n",
              "    <tr>\n",
              "      <th>0</th>\n",
              "      <td>فناوری</td>\n",
              "      <td>[لیست, 23, شرکت, مجاز, ثبت, سفارش, ارائه, فروش...</td>\n",
              "    </tr>\n",
              "    <tr>\n",
              "      <th>1</th>\n",
              "      <td>فرهنگی/هنری</td>\n",
              "      <td>[استاد, علم, قرائت, قرآن, کریم, ریشه, موسیقی, ...</td>\n",
              "    </tr>\n",
              "    <tr>\n",
              "      <th>2</th>\n",
              "      <td>حوادث</td>\n",
              "      <td>[آتش, سوزی‌های, زنجیره‌ای, جنگل‌های, زاگرس, اس...</td>\n",
              "    </tr>\n",
              "    <tr>\n",
              "      <th>3</th>\n",
              "      <td>فناوری</td>\n",
              "      <td>[سرویس‌های, iMassage, Facetime, محصولات, شرکت,...</td>\n",
              "    </tr>\n",
              "    <tr>\n",
              "      <th>4</th>\n",
              "      <td>حوادث</td>\n",
              "      <td>[دادستان, عمومی, انقلاب, یاسوج, 10, دلار, جعلی...</td>\n",
              "    </tr>\n",
              "    <tr>\n",
              "      <th>...</th>\n",
              "      <td>...</td>\n",
              "      <td>...</td>\n",
              "    </tr>\n",
              "    <tr>\n",
              "      <th>1110</th>\n",
              "      <td>ورزشی</td>\n",
              "      <td>[عضو, هیات, مدیره, باشگاه, استقلال, دنبال, مدی...</td>\n",
              "    </tr>\n",
              "    <tr>\n",
              "      <th>1111</th>\n",
              "      <td>حوادث</td>\n",
              "      <td>[مدیر, آموزش, پرورش, شهرستان, جیرفت, دستگیری, ...</td>\n",
              "    </tr>\n",
              "    <tr>\n",
              "      <th>1112</th>\n",
              "      <td>سیاسی</td>\n",
              "      <td>[رییس‌جمهور, بیان, هفته, شهر, قرمزی, کشور, خوز...</td>\n",
              "    </tr>\n",
              "    <tr>\n",
              "      <th>1113</th>\n",
              "      <td>فناوری</td>\n",
              "      <td>[دارندگان, مدل‌های, اعلام‌شده, گوشی‌های, هوآوی...</td>\n",
              "    </tr>\n",
              "    <tr>\n",
              "      <th>1114</th>\n",
              "      <td>سلامت</td>\n",
              "      <td>[مطالعه‌ای, داده_است, احتمال, مثبت, نتیجه, آزم...</td>\n",
              "    </tr>\n",
              "  </tbody>\n",
              "</table>\n",
              "<p>1115 rows × 2 columns</p>\n",
              "</div>\n",
              "      <button class=\"colab-df-convert\" onclick=\"convertToInteractive('df-bb68fdcd-76e5-4815-8b6f-213ef03f12cd')\"\n",
              "              title=\"Convert this dataframe to an interactive table.\"\n",
              "              style=\"display:none;\">\n",
              "        \n",
              "  <svg xmlns=\"http://www.w3.org/2000/svg\" height=\"24px\"viewBox=\"0 0 24 24\"\n",
              "       width=\"24px\">\n",
              "    <path d=\"M0 0h24v24H0V0z\" fill=\"none\"/>\n",
              "    <path d=\"M18.56 5.44l.94 2.06.94-2.06 2.06-.94-2.06-.94-.94-2.06-.94 2.06-2.06.94zm-11 1L8.5 8.5l.94-2.06 2.06-.94-2.06-.94L8.5 2.5l-.94 2.06-2.06.94zm10 10l.94 2.06.94-2.06 2.06-.94-2.06-.94-.94-2.06-.94 2.06-2.06.94z\"/><path d=\"M17.41 7.96l-1.37-1.37c-.4-.4-.92-.59-1.43-.59-.52 0-1.04.2-1.43.59L10.3 9.45l-7.72 7.72c-.78.78-.78 2.05 0 2.83L4 21.41c.39.39.9.59 1.41.59.51 0 1.02-.2 1.41-.59l7.78-7.78 2.81-2.81c.8-.78.8-2.07 0-2.86zM5.41 20L4 18.59l7.72-7.72 1.47 1.35L5.41 20z\"/>\n",
              "  </svg>\n",
              "      </button>\n",
              "      \n",
              "  <style>\n",
              "    .colab-df-container {\n",
              "      display:flex;\n",
              "      flex-wrap:wrap;\n",
              "      gap: 12px;\n",
              "    }\n",
              "\n",
              "    .colab-df-convert {\n",
              "      background-color: #E8F0FE;\n",
              "      border: none;\n",
              "      border-radius: 50%;\n",
              "      cursor: pointer;\n",
              "      display: none;\n",
              "      fill: #1967D2;\n",
              "      height: 32px;\n",
              "      padding: 0 0 0 0;\n",
              "      width: 32px;\n",
              "    }\n",
              "\n",
              "    .colab-df-convert:hover {\n",
              "      background-color: #E2EBFA;\n",
              "      box-shadow: 0px 1px 2px rgba(60, 64, 67, 0.3), 0px 1px 3px 1px rgba(60, 64, 67, 0.15);\n",
              "      fill: #174EA6;\n",
              "    }\n",
              "\n",
              "    [theme=dark] .colab-df-convert {\n",
              "      background-color: #3B4455;\n",
              "      fill: #D2E3FC;\n",
              "    }\n",
              "\n",
              "    [theme=dark] .colab-df-convert:hover {\n",
              "      background-color: #434B5C;\n",
              "      box-shadow: 0px 1px 3px 1px rgba(0, 0, 0, 0.15);\n",
              "      filter: drop-shadow(0px 1px 2px rgba(0, 0, 0, 0.3));\n",
              "      fill: #FFFFFF;\n",
              "    }\n",
              "  </style>\n",
              "\n",
              "      <script>\n",
              "        const buttonEl =\n",
              "          document.querySelector('#df-bb68fdcd-76e5-4815-8b6f-213ef03f12cd button.colab-df-convert');\n",
              "        buttonEl.style.display =\n",
              "          google.colab.kernel.accessAllowed ? 'block' : 'none';\n",
              "\n",
              "        async function convertToInteractive(key) {\n",
              "          const element = document.querySelector('#df-bb68fdcd-76e5-4815-8b6f-213ef03f12cd');\n",
              "          const dataTable =\n",
              "            await google.colab.kernel.invokeFunction('convertToInteractive',\n",
              "                                                     [key], {});\n",
              "          if (!dataTable) return;\n",
              "\n",
              "          const docLinkHtml = 'Like what you see? Visit the ' +\n",
              "            '<a target=\"_blank\" href=https://colab.research.google.com/notebooks/data_table.ipynb>data table notebook</a>'\n",
              "            + ' to learn more about interactive tables.';\n",
              "          element.innerHTML = '';\n",
              "          dataTable['output_type'] = 'display_data';\n",
              "          await google.colab.output.renderOutput(dataTable, element);\n",
              "          const docLink = document.createElement('div');\n",
              "          docLink.innerHTML = docLinkHtml;\n",
              "          element.appendChild(docLink);\n",
              "        }\n",
              "      </script>\n",
              "    </div>\n",
              "  </div>\n",
              "  "
            ]
          },
          "metadata": {},
          "execution_count": 11
        }
      ]
    },
    {
      "cell_type": "markdown",
      "source": [
        "##Question 1"
      ],
      "metadata": {
        "id": "Cc1qf3eVy7zz"
      }
    },
    {
      "cell_type": "markdown",
      "source": [
        "## Stemming :\n",
        "در این روش از ابتدا و انتهای کلمه پیشوند ها و پسوند های شناخته شده حذف می شود و بخش میانی کلمه بازگردانده می شود"
      ],
      "metadata": {
        "id": "ZiSTLykpRqe9"
      }
    },
    {
      "cell_type": "markdown",
      "source": [
        "##lemmatization\n",
        "این روش هم بسیار مشابه قبلی است با این تفاوت که آگاهانه تر و با احتیاط بیشتر این پیشوند ها و پسوند ها را جدا می کند و به نوعی می توان گفت که دقیق تر است.\n",
        "\n",
        "برای مقایسه دو حالت می توان مثال زیر را مطرح کرد به فرض کرد که میخواهیم این کلمه را پردازش کنیم :\n",
        "studies \n",
        "\n",
        "stemming -> studi\n",
        "\n",
        "lemmatization->study\n",
        "\n",
        "به دلیل دقت بالاتر و نتیجه مطلوب تری که در نهایت روش دوم به ما می دهد ، ما از آن استفاده می کنیم:"
      ],
      "metadata": {
        "id": "cW1Ai1TkShDP"
      }
    },
    {
      "cell_type": "code",
      "source": [
        "lemmatizer = hazm.Lemmatizer()\n",
        "\n",
        "for i in range(0, row_num):\n",
        "  words = data_train.iat[i,1]\n",
        "  new_words = []\n",
        "  for word in words:\n",
        "    lem_edit = lemmatizer.lemmatize(word) \n",
        "    new_words.append(lem_edit)\n",
        "  data_train.iat[i, 1] = new_words\n",
        "\n",
        "data_train"
      ],
      "metadata": {
        "colab": {
          "base_uri": "https://localhost:8080/",
          "height": 424
        },
        "id": "bADCHQMin8bQ",
        "outputId": "9da5c6bf-9a2d-4e26-c59c-fc38e75fcd07"
      },
      "execution_count": 12,
      "outputs": [
        {
          "output_type": "execute_result",
          "data": {
            "text/plain": [
              "            label                                            content\n",
              "0          فناوری  [گزارش, منتشر‌شده‌حاکی, کاربر, تلگرام, مناطق, ...\n",
              "1           ورزشی  [سوپر, استار, سینما, قهرمان, ووشو, کونگ‌فو, حض...\n",
              "2           حوادث  [مدیرعامل, شرکت, عمران, آب, کیش, فوت, نفر, آتش...\n",
              "3          فناوری  [نوجوان, انگلیسی, اتهام, هک, حساب, کاربر, ایمی...\n",
              "4           سلامت  [دانشمند, جدید, مطالعات, اثرات, ویروس, کرونا, ...\n",
              "...           ...                                                ...\n",
              "8995        حوادث  [شانزدهم, مهر, درپی, تماس, مرکز, فوریت, پلیس, ...\n",
              "8996        ورزشی  [اتحادیه, فوتبال, ترینیداد, توباگو, تیم, ملی, ...\n",
              "8997  فرهنگی/هنری  [اسامی, 18, فیلم, مسابقه, ششمین, دوره, جشنواره...\n",
              "8998        حوادث  [کامیونت, حامل, تخته, چوب, عصر, چهارشنبه, برخو...\n",
              "8999       فناوری  [چهارمین, لیگ, بازی, رایانه, ایران, 6, شهریور,...\n",
              "\n",
              "[9000 rows x 2 columns]"
            ],
            "text/html": [
              "\n",
              "  <div id=\"df-2def5aa1-2050-4959-9b6d-ba525e4b3884\">\n",
              "    <div class=\"colab-df-container\">\n",
              "      <div>\n",
              "<style scoped>\n",
              "    .dataframe tbody tr th:only-of-type {\n",
              "        vertical-align: middle;\n",
              "    }\n",
              "\n",
              "    .dataframe tbody tr th {\n",
              "        vertical-align: top;\n",
              "    }\n",
              "\n",
              "    .dataframe thead th {\n",
              "        text-align: right;\n",
              "    }\n",
              "</style>\n",
              "<table border=\"1\" class=\"dataframe\">\n",
              "  <thead>\n",
              "    <tr style=\"text-align: right;\">\n",
              "      <th></th>\n",
              "      <th>label</th>\n",
              "      <th>content</th>\n",
              "    </tr>\n",
              "  </thead>\n",
              "  <tbody>\n",
              "    <tr>\n",
              "      <th>0</th>\n",
              "      <td>فناوری</td>\n",
              "      <td>[گزارش, منتشر‌شده‌حاکی, کاربر, تلگرام, مناطق, ...</td>\n",
              "    </tr>\n",
              "    <tr>\n",
              "      <th>1</th>\n",
              "      <td>ورزشی</td>\n",
              "      <td>[سوپر, استار, سینما, قهرمان, ووشو, کونگ‌فو, حض...</td>\n",
              "    </tr>\n",
              "    <tr>\n",
              "      <th>2</th>\n",
              "      <td>حوادث</td>\n",
              "      <td>[مدیرعامل, شرکت, عمران, آب, کیش, فوت, نفر, آتش...</td>\n",
              "    </tr>\n",
              "    <tr>\n",
              "      <th>3</th>\n",
              "      <td>فناوری</td>\n",
              "      <td>[نوجوان, انگلیسی, اتهام, هک, حساب, کاربر, ایمی...</td>\n",
              "    </tr>\n",
              "    <tr>\n",
              "      <th>4</th>\n",
              "      <td>سلامت</td>\n",
              "      <td>[دانشمند, جدید, مطالعات, اثرات, ویروس, کرونا, ...</td>\n",
              "    </tr>\n",
              "    <tr>\n",
              "      <th>...</th>\n",
              "      <td>...</td>\n",
              "      <td>...</td>\n",
              "    </tr>\n",
              "    <tr>\n",
              "      <th>8995</th>\n",
              "      <td>حوادث</td>\n",
              "      <td>[شانزدهم, مهر, درپی, تماس, مرکز, فوریت, پلیس, ...</td>\n",
              "    </tr>\n",
              "    <tr>\n",
              "      <th>8996</th>\n",
              "      <td>ورزشی</td>\n",
              "      <td>[اتحادیه, فوتبال, ترینیداد, توباگو, تیم, ملی, ...</td>\n",
              "    </tr>\n",
              "    <tr>\n",
              "      <th>8997</th>\n",
              "      <td>فرهنگی/هنری</td>\n",
              "      <td>[اسامی, 18, فیلم, مسابقه, ششمین, دوره, جشنواره...</td>\n",
              "    </tr>\n",
              "    <tr>\n",
              "      <th>8998</th>\n",
              "      <td>حوادث</td>\n",
              "      <td>[کامیونت, حامل, تخته, چوب, عصر, چهارشنبه, برخو...</td>\n",
              "    </tr>\n",
              "    <tr>\n",
              "      <th>8999</th>\n",
              "      <td>فناوری</td>\n",
              "      <td>[چهارمین, لیگ, بازی, رایانه, ایران, 6, شهریور,...</td>\n",
              "    </tr>\n",
              "  </tbody>\n",
              "</table>\n",
              "<p>9000 rows × 2 columns</p>\n",
              "</div>\n",
              "      <button class=\"colab-df-convert\" onclick=\"convertToInteractive('df-2def5aa1-2050-4959-9b6d-ba525e4b3884')\"\n",
              "              title=\"Convert this dataframe to an interactive table.\"\n",
              "              style=\"display:none;\">\n",
              "        \n",
              "  <svg xmlns=\"http://www.w3.org/2000/svg\" height=\"24px\"viewBox=\"0 0 24 24\"\n",
              "       width=\"24px\">\n",
              "    <path d=\"M0 0h24v24H0V0z\" fill=\"none\"/>\n",
              "    <path d=\"M18.56 5.44l.94 2.06.94-2.06 2.06-.94-2.06-.94-.94-2.06-.94 2.06-2.06.94zm-11 1L8.5 8.5l.94-2.06 2.06-.94-2.06-.94L8.5 2.5l-.94 2.06-2.06.94zm10 10l.94 2.06.94-2.06 2.06-.94-2.06-.94-.94-2.06-.94 2.06-2.06.94z\"/><path d=\"M17.41 7.96l-1.37-1.37c-.4-.4-.92-.59-1.43-.59-.52 0-1.04.2-1.43.59L10.3 9.45l-7.72 7.72c-.78.78-.78 2.05 0 2.83L4 21.41c.39.39.9.59 1.41.59.51 0 1.02-.2 1.41-.59l7.78-7.78 2.81-2.81c.8-.78.8-2.07 0-2.86zM5.41 20L4 18.59l7.72-7.72 1.47 1.35L5.41 20z\"/>\n",
              "  </svg>\n",
              "      </button>\n",
              "      \n",
              "  <style>\n",
              "    .colab-df-container {\n",
              "      display:flex;\n",
              "      flex-wrap:wrap;\n",
              "      gap: 12px;\n",
              "    }\n",
              "\n",
              "    .colab-df-convert {\n",
              "      background-color: #E8F0FE;\n",
              "      border: none;\n",
              "      border-radius: 50%;\n",
              "      cursor: pointer;\n",
              "      display: none;\n",
              "      fill: #1967D2;\n",
              "      height: 32px;\n",
              "      padding: 0 0 0 0;\n",
              "      width: 32px;\n",
              "    }\n",
              "\n",
              "    .colab-df-convert:hover {\n",
              "      background-color: #E2EBFA;\n",
              "      box-shadow: 0px 1px 2px rgba(60, 64, 67, 0.3), 0px 1px 3px 1px rgba(60, 64, 67, 0.15);\n",
              "      fill: #174EA6;\n",
              "    }\n",
              "\n",
              "    [theme=dark] .colab-df-convert {\n",
              "      background-color: #3B4455;\n",
              "      fill: #D2E3FC;\n",
              "    }\n",
              "\n",
              "    [theme=dark] .colab-df-convert:hover {\n",
              "      background-color: #434B5C;\n",
              "      box-shadow: 0px 1px 3px 1px rgba(0, 0, 0, 0.15);\n",
              "      filter: drop-shadow(0px 1px 2px rgba(0, 0, 0, 0.3));\n",
              "      fill: #FFFFFF;\n",
              "    }\n",
              "  </style>\n",
              "\n",
              "      <script>\n",
              "        const buttonEl =\n",
              "          document.querySelector('#df-2def5aa1-2050-4959-9b6d-ba525e4b3884 button.colab-df-convert');\n",
              "        buttonEl.style.display =\n",
              "          google.colab.kernel.accessAllowed ? 'block' : 'none';\n",
              "\n",
              "        async function convertToInteractive(key) {\n",
              "          const element = document.querySelector('#df-2def5aa1-2050-4959-9b6d-ba525e4b3884');\n",
              "          const dataTable =\n",
              "            await google.colab.kernel.invokeFunction('convertToInteractive',\n",
              "                                                     [key], {});\n",
              "          if (!dataTable) return;\n",
              "\n",
              "          const docLinkHtml = 'Like what you see? Visit the ' +\n",
              "            '<a target=\"_blank\" href=https://colab.research.google.com/notebooks/data_table.ipynb>data table notebook</a>'\n",
              "            + ' to learn more about interactive tables.';\n",
              "          element.innerHTML = '';\n",
              "          dataTable['output_type'] = 'display_data';\n",
              "          await google.colab.output.renderOutput(dataTable, element);\n",
              "          const docLink = document.createElement('div');\n",
              "          docLink.innerHTML = docLinkHtml;\n",
              "          element.appendChild(docLink);\n",
              "        }\n",
              "      </script>\n",
              "    </div>\n",
              "  </div>\n",
              "  "
            ]
          },
          "metadata": {},
          "execution_count": 12
        }
      ]
    },
    {
      "cell_type": "code",
      "source": [
        "for i in range(0, row_num_test):\n",
        "  words = data_test.iat[i,1]\n",
        "  new_words = []\n",
        "  for word in words:\n",
        "    lem_edit = lemmatizer.lemmatize(word) \n",
        "    new_words.append(lem_edit)\n",
        "  data_test.iat[i, 1] = new_words\n",
        "\n",
        "data_test"
      ],
      "metadata": {
        "id": "jKg2VCb5xjhK",
        "colab": {
          "base_uri": "https://localhost:8080/",
          "height": 424
        },
        "outputId": "7d7536f7-e823-4b19-cd5d-36589358a714"
      },
      "execution_count": 13,
      "outputs": [
        {
          "output_type": "execute_result",
          "data": {
            "text/plain": [
              "            label                                            content\n",
              "0          فناوری  [لیس, 23, شرکت, مجاز, ثبت, سفارش, ارائه, فروش,...\n",
              "1     فرهنگی/هنری  [استاد, علم, قرائت, قرآن, کریم, ریشه, موسیقی, ...\n",
              "2           حوادث  [آتش, سوزی‌های, زنجیره, جنگل, زاگرس, استان, ای...\n",
              "3          فناوری  [سرویس‌های, iMassage, Facetime, محصولات, شرکت,...\n",
              "4           حوادث  [دادستان, عموم, انقلاب, یاسوج, 10, دلار, جعلی,...\n",
              "...           ...                                                ...\n",
              "1110        ورزشی  [عضو, هیات, مدیره, باشگاه, استقلال, دنبال, مدی...\n",
              "1111        حوادث  [مدیر, آموزش, پرورش, شهرستان, جیرفت, دستگیر, د...\n",
              "1112        سیاسی  [رییس‌جمهور, بیان, هفته, شهر, قرمزی, کشور, خوز...\n",
              "1113       فناوری  [دارندگان, مدل‌های, اعلام‌شده, گوشی‌های, هوآوی...\n",
              "1114        سلامت  [مطالعه, داد#ده, احتمال, مثبت, نتیجه, آزمایش, ...\n",
              "\n",
              "[1115 rows x 2 columns]"
            ],
            "text/html": [
              "\n",
              "  <div id=\"df-fee29279-976f-484d-8aec-33e46268e181\">\n",
              "    <div class=\"colab-df-container\">\n",
              "      <div>\n",
              "<style scoped>\n",
              "    .dataframe tbody tr th:only-of-type {\n",
              "        vertical-align: middle;\n",
              "    }\n",
              "\n",
              "    .dataframe tbody tr th {\n",
              "        vertical-align: top;\n",
              "    }\n",
              "\n",
              "    .dataframe thead th {\n",
              "        text-align: right;\n",
              "    }\n",
              "</style>\n",
              "<table border=\"1\" class=\"dataframe\">\n",
              "  <thead>\n",
              "    <tr style=\"text-align: right;\">\n",
              "      <th></th>\n",
              "      <th>label</th>\n",
              "      <th>content</th>\n",
              "    </tr>\n",
              "  </thead>\n",
              "  <tbody>\n",
              "    <tr>\n",
              "      <th>0</th>\n",
              "      <td>فناوری</td>\n",
              "      <td>[لیس, 23, شرکت, مجاز, ثبت, سفارش, ارائه, فروش,...</td>\n",
              "    </tr>\n",
              "    <tr>\n",
              "      <th>1</th>\n",
              "      <td>فرهنگی/هنری</td>\n",
              "      <td>[استاد, علم, قرائت, قرآن, کریم, ریشه, موسیقی, ...</td>\n",
              "    </tr>\n",
              "    <tr>\n",
              "      <th>2</th>\n",
              "      <td>حوادث</td>\n",
              "      <td>[آتش, سوزی‌های, زنجیره, جنگل, زاگرس, استان, ای...</td>\n",
              "    </tr>\n",
              "    <tr>\n",
              "      <th>3</th>\n",
              "      <td>فناوری</td>\n",
              "      <td>[سرویس‌های, iMassage, Facetime, محصولات, شرکت,...</td>\n",
              "    </tr>\n",
              "    <tr>\n",
              "      <th>4</th>\n",
              "      <td>حوادث</td>\n",
              "      <td>[دادستان, عموم, انقلاب, یاسوج, 10, دلار, جعلی,...</td>\n",
              "    </tr>\n",
              "    <tr>\n",
              "      <th>...</th>\n",
              "      <td>...</td>\n",
              "      <td>...</td>\n",
              "    </tr>\n",
              "    <tr>\n",
              "      <th>1110</th>\n",
              "      <td>ورزشی</td>\n",
              "      <td>[عضو, هیات, مدیره, باشگاه, استقلال, دنبال, مدی...</td>\n",
              "    </tr>\n",
              "    <tr>\n",
              "      <th>1111</th>\n",
              "      <td>حوادث</td>\n",
              "      <td>[مدیر, آموزش, پرورش, شهرستان, جیرفت, دستگیر, د...</td>\n",
              "    </tr>\n",
              "    <tr>\n",
              "      <th>1112</th>\n",
              "      <td>سیاسی</td>\n",
              "      <td>[رییس‌جمهور, بیان, هفته, شهر, قرمزی, کشور, خوز...</td>\n",
              "    </tr>\n",
              "    <tr>\n",
              "      <th>1113</th>\n",
              "      <td>فناوری</td>\n",
              "      <td>[دارندگان, مدل‌های, اعلام‌شده, گوشی‌های, هوآوی...</td>\n",
              "    </tr>\n",
              "    <tr>\n",
              "      <th>1114</th>\n",
              "      <td>سلامت</td>\n",
              "      <td>[مطالعه, داد#ده, احتمال, مثبت, نتیجه, آزمایش, ...</td>\n",
              "    </tr>\n",
              "  </tbody>\n",
              "</table>\n",
              "<p>1115 rows × 2 columns</p>\n",
              "</div>\n",
              "      <button class=\"colab-df-convert\" onclick=\"convertToInteractive('df-fee29279-976f-484d-8aec-33e46268e181')\"\n",
              "              title=\"Convert this dataframe to an interactive table.\"\n",
              "              style=\"display:none;\">\n",
              "        \n",
              "  <svg xmlns=\"http://www.w3.org/2000/svg\" height=\"24px\"viewBox=\"0 0 24 24\"\n",
              "       width=\"24px\">\n",
              "    <path d=\"M0 0h24v24H0V0z\" fill=\"none\"/>\n",
              "    <path d=\"M18.56 5.44l.94 2.06.94-2.06 2.06-.94-2.06-.94-.94-2.06-.94 2.06-2.06.94zm-11 1L8.5 8.5l.94-2.06 2.06-.94-2.06-.94L8.5 2.5l-.94 2.06-2.06.94zm10 10l.94 2.06.94-2.06 2.06-.94-2.06-.94-.94-2.06-.94 2.06-2.06.94z\"/><path d=\"M17.41 7.96l-1.37-1.37c-.4-.4-.92-.59-1.43-.59-.52 0-1.04.2-1.43.59L10.3 9.45l-7.72 7.72c-.78.78-.78 2.05 0 2.83L4 21.41c.39.39.9.59 1.41.59.51 0 1.02-.2 1.41-.59l7.78-7.78 2.81-2.81c.8-.78.8-2.07 0-2.86zM5.41 20L4 18.59l7.72-7.72 1.47 1.35L5.41 20z\"/>\n",
              "  </svg>\n",
              "      </button>\n",
              "      \n",
              "  <style>\n",
              "    .colab-df-container {\n",
              "      display:flex;\n",
              "      flex-wrap:wrap;\n",
              "      gap: 12px;\n",
              "    }\n",
              "\n",
              "    .colab-df-convert {\n",
              "      background-color: #E8F0FE;\n",
              "      border: none;\n",
              "      border-radius: 50%;\n",
              "      cursor: pointer;\n",
              "      display: none;\n",
              "      fill: #1967D2;\n",
              "      height: 32px;\n",
              "      padding: 0 0 0 0;\n",
              "      width: 32px;\n",
              "    }\n",
              "\n",
              "    .colab-df-convert:hover {\n",
              "      background-color: #E2EBFA;\n",
              "      box-shadow: 0px 1px 2px rgba(60, 64, 67, 0.3), 0px 1px 3px 1px rgba(60, 64, 67, 0.15);\n",
              "      fill: #174EA6;\n",
              "    }\n",
              "\n",
              "    [theme=dark] .colab-df-convert {\n",
              "      background-color: #3B4455;\n",
              "      fill: #D2E3FC;\n",
              "    }\n",
              "\n",
              "    [theme=dark] .colab-df-convert:hover {\n",
              "      background-color: #434B5C;\n",
              "      box-shadow: 0px 1px 3px 1px rgba(0, 0, 0, 0.15);\n",
              "      filter: drop-shadow(0px 1px 2px rgba(0, 0, 0, 0.3));\n",
              "      fill: #FFFFFF;\n",
              "    }\n",
              "  </style>\n",
              "\n",
              "      <script>\n",
              "        const buttonEl =\n",
              "          document.querySelector('#df-fee29279-976f-484d-8aec-33e46268e181 button.colab-df-convert');\n",
              "        buttonEl.style.display =\n",
              "          google.colab.kernel.accessAllowed ? 'block' : 'none';\n",
              "\n",
              "        async function convertToInteractive(key) {\n",
              "          const element = document.querySelector('#df-fee29279-976f-484d-8aec-33e46268e181');\n",
              "          const dataTable =\n",
              "            await google.colab.kernel.invokeFunction('convertToInteractive',\n",
              "                                                     [key], {});\n",
              "          if (!dataTable) return;\n",
              "\n",
              "          const docLinkHtml = 'Like what you see? Visit the ' +\n",
              "            '<a target=\"_blank\" href=https://colab.research.google.com/notebooks/data_table.ipynb>data table notebook</a>'\n",
              "            + ' to learn more about interactive tables.';\n",
              "          element.innerHTML = '';\n",
              "          dataTable['output_type'] = 'display_data';\n",
              "          await google.colab.output.renderOutput(dataTable, element);\n",
              "          const docLink = document.createElement('div');\n",
              "          docLink.innerHTML = docLinkHtml;\n",
              "          element.appendChild(docLink);\n",
              "        }\n",
              "      </script>\n",
              "    </div>\n",
              "  </div>\n",
              "  "
            ]
          },
          "metadata": {},
          "execution_count": 13
        }
      ]
    },
    {
      "cell_type": "markdown",
      "source": [
        "برای هر یک از دسته بندی های خبری یک دیشکنری و یک متغیر سایز نسبت می دهیم. دیشکنری به این صورت است که تعداد تکرار هر یک از کلمه ها از کلمه های متن خبر ها را برای ما نگه می دارد. هر بار یکی از سطر های دیتافریم را بررسی می کنیم ، مربوط به هر دسته ای که بود یکی یکی کلمات آن را بررسی می کنیم .اگر کلمه قبلا در دیشکنری موجود بود به تعداد تکرار آن کلمه در دیشکنری یکی می افزاییم اگر نه آن کلمه را با مقدار 1 به دیکشنری اضافه می کنیم.هر بار هم که هر کلمه را میخوانیم یک واحد به متغیر سایز دسته بندی اضافه می کنیم"
      ],
      "metadata": {
        "id": "7nFZfJbPU3xe"
      }
    },
    {
      "cell_type": "code",
      "source": [
        "fanavari={}\n",
        "fan_size=0\n",
        "varzeshi={}\n",
        "varzeshi_size=0\n",
        "havades={}\n",
        "havades_size=0\n",
        "salamat={}\n",
        "salamat_size=0\n",
        "siasi={}\n",
        "siasi_size=0\n",
        "farhangi={}\n",
        "farhangi_size=0\n",
        "salamat={}\n",
        "salamat_size=0\n",
        "ct_unique_words={'fanavari':0,'varzeshi':0,'havades':0,'siasi':0,'farhangi':0,'salamat':0}\n",
        "\n",
        "\n",
        "for index, row in data_train.iterrows():\n",
        "  #print(row['label'])\n",
        "  if row['label']=='فناوری':\n",
        "    #print(index)\n",
        "    for word in row['content']:\n",
        "      #print(type(word))\n",
        "      if word in fanavari.keys():\n",
        "        fanavari[word]+=1\n",
        "      else:\n",
        "        ct_unique_words['fanavari']+=1\n",
        "        fanavari[word]=1\n",
        "      fan_size+=1\n",
        "  elif row['label']=='ورزشی':\n",
        "    for word in row['content']:\n",
        "      if word in varzeshi.keys():\n",
        "        varzeshi[word]+=1\n",
        "      else:\n",
        "        ct_unique_words['varzeshi']+=1\n",
        "        varzeshi[word]=1\n",
        "      varzeshi_size+=1\n",
        "  elif row['label']=='حوادث':\n",
        "    for word in row['content']:\n",
        "      if word in havades.keys():\n",
        "        havades[word]+=1\n",
        "      else:\n",
        "        ct_unique_words['havades']+=1\n",
        "        havades[word]=1\n",
        "      havades_size+=1\n",
        "  elif row['label']=='سیاسی':\n",
        "    for word in row['content']:\n",
        "      if word in siasi.keys():\n",
        "        siasi[word]+=1\n",
        "      else:\n",
        "        ct_unique_words['siasi']+=1\n",
        "        siasi[word]=1\n",
        "      siasi_size+=1\n",
        "  elif row['label']=='فرهنگی/هنری':\n",
        "    for word in row['content']:\n",
        "      if word in farhangi.keys():\n",
        "        farhangi[word]+=1\n",
        "      else:\n",
        "        ct_unique_words['farhangi']+=1\n",
        "        farhangi[word]=1\n",
        "      farhangi_size+=1\n",
        "  elif row['label']=='سلامت':\n",
        "    for word in row['content']:\n",
        "      if word in salamat.keys():\n",
        "        salamat[word]+=1\n",
        "      else:\n",
        "        ct_unique_words['salamat']+=1\n",
        "        salamat[word]=1\n",
        "      salamat_size+=1\n",
        "\n",
        "print(fan_size)\n",
        "print(varzeshi_size)\n",
        "print(havades_size)\n",
        "print(siasi_size)\n",
        "print(farhangi_size)\n",
        "print(salamat_size)\n",
        "print(varzeshi_size,ct_unique_words['varzeshi'])"
      ],
      "metadata": {
        "id": "S-fabkQ3p32V",
        "colab": {
          "base_uri": "https://localhost:8080/"
        },
        "outputId": "a85408dc-3cfd-43ae-9aba-8a25c5ae53df"
      },
      "execution_count": 14,
      "outputs": [
        {
          "output_type": "stream",
          "name": "stdout",
          "text": [
            "356903\n",
            "226781\n",
            "183602\n",
            "364210\n",
            "330974\n",
            "429548\n",
            "226781 14861\n"
          ]
        }
      ]
    },
    {
      "cell_type": "markdown",
      "source": [
        "یک دیکشنری جامع می سازیم و هر یک از دیشکنری هایی که در قسمت قبل ساختیم را در قالب مقدار برای هر یک عنوان های دسته بندی به دیکشنری جدید می دهیم .همچنین دیکشنری دیگری برای ذخیره سازی تعداد کلمات دیده شده در هر دسته بندی می سازیم و مقدار هایی که در قبل به دست آمده را به آن اضافه می کنیم.\n",
        "\n"
      ],
      "metadata": {
        "id": "xMDZzKjAVYAU"
      }
    },
    {
      "cell_type": "markdown",
      "source": [
        "![Screenshot 2022-12-27 152256.png](data:image/png;base64,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)"
      ],
      "metadata": {
        "id": "cMj871tLbF15"
      }
    },
    {
      "cell_type": "markdown",
      "source": [
        "##Question 2\n",
        "\n",
        "\n",
        "\n",
        "*   posterior probility : احتمال متعلق بودن خبر به یکی از دسته بندی ها به شرط وجود مجموعه کلماتش\n",
        "*   likelihood : احتمال متعلق بودن هر کلمه به یکی از دسته بندی ها ، به عبارتی احتمال تکرار آن کلمه در آن دسته بندی\n",
        "\n",
        "\n",
        "*   prior probility :  احتمال متعلق بودن یک خبر به یک دسته بندی\n",
        "*   evidence : کلمه هایی که می دانیم در هر خبر داریم\n",
        "\n",
        "\n",
        "\n"
      ],
      "metadata": {
        "id": "LDVU2QtmHeJR"
      }
    },
    {
      "cell_type": "markdown",
      "source": [
        "در حقیقت کاری که می خواهیم انجام دهیم این است که احتمال هر یک از یک دسته بندی ها را به شرط مجموعه کلماتش برای هر خبر بسنجیم .برای این منظور احتمال حضور هر یک از کلماتش در دسته بندی را محاسبه می کنیم و در نهایت طبق رابطه نوشته شده در خط پایین عکس این احتمالات را در یک دیگر ضرب می کنیم و در احتمال کلاس ضرب می کنیم .که البته چون در این مسئله  این احتمال برای همه دسته بندی ها یکسان است.\n",
        "\n",
        "به علاوه به دلیل آن که گاهی ضرب شدن احتمالات بسیار کوچک در تعداد زیاد که اینجا به دلیل زیاد بودن تعداد کلمات هر خبر ممکن است پیش بیاید ممکن است باعث ایجاد اعداد بسیار کوچک شود .از طرفین رابطه لگاریتم می گیریم."
      ],
      "metadata": {
        "id": "MmNrf9Vebhgr"
      }
    },
    {
      "cell_type": "markdown",
      "source": [
        "کد این بخش هم دقیقا روند ذکر شده را انجام میدهد.\n",
        "برای هر یک از سطر ها ( خبرها) احتمال بودن هر یک از کلماتش در آن کلاس را محاسبه می کنیم .این احتمال هم برابر است با تعداد تکرار آن کلمه در دیشکنری آن دسته بندی تقسیم بر تعداد کل کلمات آن دسته بندی. در اینجا چون لگاریتم می گیریم می شود لگاریتم تعداد تکرار آن کلمه منهی لگاریتم کل کلمات آن دسته بندی .\n",
        "\n",
        "برای هر خبر احتمال حضور کلماتش در هریک از دسته بندی ها را در دیکشنری کت پارتیسیپیشن نگه می داریم.\n",
        "\n",
        "بعد از محاسبه احتمال های هر یک از دسته بندی ها بررسی می کنیم و بیشترین احتمال را به عنوان دسته بندی آن خبر تعیین می کنیم و به آرایه پیش بینی هایمان اضافه می کنیم."
      ],
      "metadata": {
        "id": "WMp-7GK6ddjJ"
      }
    },
    {
      "cell_type": "markdown",
      "source": [
        "هم چنین یک دیکشنری دیگه هم می سازیم که درآن تعداد پیش بنی های عر دسته بندی را نگه می داریم."
      ],
      "metadata": {
        "id": "I5tO5ja5iugB"
      }
    },
    {
      "cell_type": "code",
      "source": [
        "from math import log\n",
        "\n",
        "\n",
        "all_cat_dicts={'fanavari':fanavari,'varzeshi':varzeshi,'havades':havades,'siasi':siasi,'farhangi':farhangi,'salamat':salamat}\n",
        "all_cat_sizes={'fanavari':fan_size,'varzeshi':varzeshi_size,'havades':havades_size,'siasi':siasi_size,'farhangi':farhangi_size,'salamat':salamat_size}\n",
        "\n",
        "predictions=[]\n",
        "test_cat_sizes={'fanavari':0,'varzeshi':0,'havades':0,'siasi':0,'farhangi':0,'salamat':0}\n",
        "for index, row in data_test.iterrows():\n",
        "\n",
        "  cat_labes=['fanavari', 'varzeshi' ,'havades' , 'siasi' , 'farhangi' , 'salamat']\n",
        "  cat_participation={'fanavari':0 , 'varzeshi':0 ,'havades':0 , 'siasi':0 , 'farhangi':0 , 'salamat':0}\n",
        "  for ct in cat_labes:\n",
        "    ct_prob=0\n",
        "    for word in row['content']:\n",
        "      if(word in all_cat_dicts[ct]):\n",
        "        #ct_prob=ct_prob \n",
        "        cat_participation[ct]=cat_participation[ct]+ log(all_cat_dicts[ct][word]) - log(all_cat_sizes[ct])\n",
        "        #test_cat_sizes[ct]+=1\n",
        "  if(index==5):\n",
        "    print(cat_participation)\n",
        "\n",
        "  suitable_cat=cat_labes[0]\n",
        "  for _ct in cat_labes:\n",
        "    if(cat_participation[_ct] > cat_participation[suitable_cat]):\n",
        "      suitable_cat=_ct\n",
        "    \n",
        "  \n",
        "  predictions.append(suitable_cat)\n",
        "  test_cat_sizes[suitable_cat]+=1\n",
        "\n",
        "\n",
        "print(predictions)\n",
        "print(test_cat_sizes)\n",
        "  \n"
      ],
      "metadata": {
        "colab": {
          "base_uri": "https://localhost:8080/"
        },
        "id": "X_Okjxad86nU",
        "outputId": "0b8bd3d1-0c3f-449b-9582-fc5a97480bd2"
      },
      "execution_count": 15,
      "outputs": [
        {
          "output_type": "stream",
          "name": "stdout",
          "text": [
            "{'fanavari': -106.17595675991942, 'varzeshi': -127.44116500894023, 'havades': -103.27722469875073, 'siasi': -121.56988179320922, 'farhangi': -125.1184358585954, 'salamat': -112.64197384039178}\n",
            "['fanavari', 'havades', 'siasi', 'varzeshi', 'fanavari', 'havades', 'havades', 'havades', 'havades', 'varzeshi', 'siasi', 'havades', 'varzeshi', 'salamat', 'farhangi', 'varzeshi', 'siasi', 'varzeshi', 'havades', 'havades', 'varzeshi', 'varzeshi', 'varzeshi', 'fanavari', 'havades', 'salamat', 'havades', 'varzeshi', 'salamat', 'havades', 'havades', 'fanavari', 'varzeshi', 'varzeshi', 'fanavari', 'havades', 'havades', 'siasi', 'fanavari', 'varzeshi', 'havades', 'havades', 'havades', 'varzeshi', 'salamat', 'havades', 'salamat', 'varzeshi', 'varzeshi', 'salamat', 'varzeshi', 'havades', 'varzeshi', 'fanavari', 'fanavari', 'havades', 'fanavari', 'varzeshi', 'fanavari', 'havades', 'varzeshi', 'varzeshi', 'siasi', 'fanavari', 'siasi', 'fanavari', 'havades', 'havades', 'salamat', 'farhangi', 'varzeshi', 'siasi', 'havades', 'siasi', 'havades', 'salamat', 'havades', 'havades', 'havades', 'havades', 'havades', 'farhangi', 'salamat', 'varzeshi', 'varzeshi', 'varzeshi', 'varzeshi', 'varzeshi', 'havades', 'salamat', 'havades', 'fanavari', 'salamat', 'havades', 'varzeshi', 'havades', 'havades', 'havades', 'varzeshi', 'varzeshi', 'siasi', 'varzeshi', 'havades', 'salamat', 'salamat', 'varzeshi', 'salamat', 'salamat', 'havades', 'havades', 'varzeshi', 'havades', 'havades', 'salamat', 'havades', 'varzeshi', 'siasi', 'salamat', 'havades', 'havades', 'salamat', 'varzeshi', 'havades', 'havades', 'varzeshi', 'havades', 'varzeshi', 'varzeshi', 'varzeshi', 'havades', 'havades', 'salamat', 'varzeshi', 'varzeshi', 'havades', 'varzeshi', 'varzeshi', 'havades', 'varzeshi', 'siasi', 'varzeshi', 'varzeshi', 'varzeshi', 'varzeshi', 'havades', 'havades', 'fanavari', 'havades', 'varzeshi', 'havades', 'havades', 'havades', 'varzeshi', 'varzeshi', 'siasi', 'varzeshi', 'varzeshi', 'varzeshi', 'varzeshi', 'havades', 'varzeshi', 'havades', 'varzeshi', 'havades', 'salamat', 'havades', 'varzeshi', 'havades', 'havades', 'havades', 'salamat', 'havades', 'siasi', 'salamat', 'varzeshi', 'salamat', 'varzeshi', 'havades', 'havades', 'varzeshi', 'siasi', 'varzeshi', 'havades', 'varzeshi', 'salamat', 'havades', 'siasi', 'havades', 'havades', 'havades', 'varzeshi', 'siasi', 'havades', 'siasi', 'farhangi', 'havades', 'havades', 'havades', 'varzeshi', 'varzeshi', 'havades', 'havades', 'havades', 'siasi', 'salamat', 'havades', 'havades', 'havades', 'varzeshi', 'siasi', 'salamat', 'varzeshi', 'havades', 'salamat', 'siasi', 'varzeshi', 'varzeshi', 'siasi', 'varzeshi', 'havades', 'farhangi', 'salamat', 'varzeshi', 'varzeshi', 'havades', 'havades', 'varzeshi', 'salamat', 'varzeshi', 'havades', 'salamat', 'havades', 'havades', 'havades', 'havades', 'siasi', 'havades', 'havades', 'havades', 'varzeshi', 'havades', 'havades', 'havades', 'havades', 'farhangi', 'salamat', 'siasi', 'havades', 'siasi', 'varzeshi', 'havades', 'havades', 'fanavari', 'salamat', 'fanavari', 'havades', 'siasi', 'varzeshi', 'varzeshi', 'varzeshi', 'havades', 'havades', 'havades', 'varzeshi', 'farhangi', 'siasi', 'havades', 'havades', 'havades', 'varzeshi', 'siasi', 'salamat', 'havades', 'havades', 'havades', 'siasi', 'varzeshi', 'havades', 'havades', 'havades', 'havades', 'havades', 'havades', 'havades', 'fanavari', 'havades', 'varzeshi', 'havades', 'havades', 'havades', 'havades', 'salamat', 'havades', 'havades', 'varzeshi', 'salamat', 'havades', 'salamat', 'havades', 'siasi', 'havades', 'varzeshi', 'havades', 'havades', 'varzeshi', 'varzeshi', 'varzeshi', 'farhangi', 'varzeshi', 'varzeshi', 'varzeshi', 'havades', 'salamat', 'havades', 'havades', 'havades', 'havades', 'havades', 'varzeshi', 'siasi', 'havades', 'varzeshi', 'siasi', 'salamat', 'varzeshi', 'havades', 'havades', 'salamat', 'havades', 'salamat', 'siasi', 'havades', 'farhangi', 'varzeshi', 'siasi', 'havades', 'havades', 'havades', 'havades', 'havades', 'havades', 'varzeshi', 'varzeshi', 'salamat', 'farhangi', 'siasi', 'varzeshi', 'havades', 'fanavari', 'havades', 'havades', 'farhangi', 'havades', 'havades', 'salamat', 'fanavari', 'salamat', 'varzeshi', 'havades', 'varzeshi', 'varzeshi', 'salamat', 'salamat', 'salamat', 'havades', 'varzeshi', 'varzeshi', 'varzeshi', 'varzeshi', 'havades', 'varzeshi', 'salamat', 'havades', 'havades', 'havades', 'havades', 'siasi', 'varzeshi', 'fanavari', 'havades', 'havades', 'havades', 'havades', 'havades', 'varzeshi', 'havades', 'havades', 'havades', 'siasi', 'varzeshi', 'havades', 'havades', 'varzeshi', 'varzeshi', 'varzeshi', 'havades', 'salamat', 'varzeshi', 'havades', 'salamat', 'havades', 'salamat', 'havades', 'varzeshi', 'havades', 'havades', 'salamat', 'siasi', 'havades', 'varzeshi', 'havades', 'siasi', 'havades', 'havades', 'salamat', 'varzeshi', 'fanavari', 'havades', 'salamat', 'havades', 'siasi', 'salamat', 'varzeshi', 'havades', 'havades', 'fanavari', 'farhangi', 'varzeshi', 'havades', 'havades', 'siasi', 'havades', 'varzeshi', 'varzeshi', 'havades', 'havades', 'havades', 'havades', 'havades', 'havades', 'havades', 'siasi', 'varzeshi', 'havades', 'varzeshi', 'salamat', 'havades', 'havades', 'havades', 'havades', 'fanavari', 'salamat', 'fanavari', 'havades', 'varzeshi', 'varzeshi', 'varzeshi', 'siasi', 'varzeshi', 'siasi', 'varzeshi', 'varzeshi', 'varzeshi', 'havades', 'siasi', 'havades', 'havades', 'varzeshi', 'havades', 'varzeshi', 'havades', 'havades', 'varzeshi', 'havades', 'havades', 'havades', 'varzeshi', 'siasi', 'havades', 'varzeshi', 'salamat', 'farhangi', 'siasi', 'salamat', 'varzeshi', 'varzeshi', 'varzeshi', 'salamat', 'varzeshi', 'havades', 'havades', 'havades', 'farhangi', 'varzeshi', 'salamat', 'varzeshi', 'fanavari', 'havades', 'varzeshi', 'fanavari', 'havades', 'siasi', 'havades', 'varzeshi', 'varzeshi', 'varzeshi', 'siasi', 'havades', 'havades', 'fanavari', 'varzeshi', 'varzeshi', 'havades', 'fanavari', 'salamat', 'farhangi', 'havades', 'salamat', 'havades', 'havades', 'havades', 'siasi', 'varzeshi', 'siasi', 'siasi', 'salamat', 'salamat', 'havades', 'havades', 'salamat', 'salamat', 'havades', 'havades', 'siasi', 'havades', 'havades', 'salamat', 'salamat', 'havades', 'varzeshi', 'farhangi', 'salamat', 'varzeshi', 'havades', 'havades', 'havades', 'havades', 'varzeshi', 'farhangi', 'varzeshi', 'varzeshi', 'havades', 'havades', 'havades', 'siasi', 'salamat', 'siasi', 'havades', 'varzeshi', 'havades', 'havades', 'varzeshi', 'varzeshi', 'havades', 'havades', 'havades', 'havades', 'havades', 'havades', 'varzeshi', 'varzeshi', 'havades', 'varzeshi', 'havades', 'salamat', 'havades', 'varzeshi', 'varzeshi', 'varzeshi', 'havades', 'havades', 'siasi', 'varzeshi', 'havades', 'siasi', 'havades', 'varzeshi', 'siasi', 'salamat', 'siasi', 'salamat', 'siasi', 'varzeshi', 'fanavari', 'fanavari', 'havades', 'siasi', 'varzeshi', 'fanavari', 'havades', 'havades', 'havades', 'salamat', 'havades', 'siasi', 'havades', 'havades', 'havades', 'salamat', 'varzeshi', 'havades', 'havades', 'havades', 'varzeshi', 'havades', 'siasi', 'farhangi', 'fanavari', 'havades', 'varzeshi', 'farhangi', 'havades', 'siasi', 'havades', 'fanavari', 'varzeshi', 'fanavari', 'fanavari', 'varzeshi', 'havades', 'havades', 'farhangi', 'havades', 'fanavari', 'siasi', 'salamat', 'siasi', 'havades', 'varzeshi', 'havades', 'varzeshi', 'varzeshi', 'varzeshi', 'fanavari', 'havades', 'havades', 'havades', 'salamat', 'havades', 'havades', 'varzeshi', 'varzeshi', 'havades', 'havades', 'havades', 'farhangi', 'fanavari', 'siasi', 'fanavari', 'varzeshi', 'fanavari', 'farhangi', 'siasi', 'varzeshi', 'havades', 'siasi', 'varzeshi', 'havades', 'salamat', 'havades', 'siasi', 'varzeshi', 'havades', 'havades', 'varzeshi', 'havades', 'varzeshi', 'salamat', 'varzeshi', 'varzeshi', 'varzeshi', 'havades', 'siasi', 'fanavari', 'salamat', 'varzeshi', 'fanavari', 'farhangi', 'havades', 'havades', 'havades', 'havades', 'varzeshi', 'varzeshi', 'havades', 'varzeshi', 'salamat', 'havades', 'fanavari', 'farhangi', 'havades', 'farhangi', 'varzeshi', 'havades', 'havades', 'havades', 'havades', 'varzeshi', 'farhangi', 'havades', 'havades', 'havades', 'havades', 'salamat', 'havades', 'havades', 'havades', 'havades', 'varzeshi', 'salamat', 'salamat', 'siasi', 'havades', 'salamat', 'havades', 'farhangi', 'varzeshi', 'siasi', 'fanavari', 'siasi', 'havades', 'siasi', 'fanavari', 'fanavari', 'havades', 'havades', 'havades', 'varzeshi', 'varzeshi', 'varzeshi', 'havades', 'varzeshi', 'salamat', 'havades', 'salamat', 'havades', 'havades', 'siasi', 'havades', 'havades', 'havades', 'havades', 'siasi', 'fanavari', 'varzeshi', 'havades', 'havades', 'varzeshi', 'havades', 'havades', 'havades', 'salamat', 'siasi', 'salamat', 'salamat', 'havades', 'salamat', 'havades', 'havades', 'salamat', 'siasi', 'varzeshi', 'varzeshi', 'havades', 'havades', 'havades', 'havades', 'havades', 'farhangi', 'havades', 'havades', 'havades', 'salamat', 'havades', 'varzeshi', 'varzeshi', 'varzeshi', 'farhangi', 'salamat', 'havades', 'salamat', 'havades', 'havades', 'havades', 'havades', 'varzeshi', 'havades', 'havades', 'varzeshi', 'havades', 'varzeshi', 'siasi', 'varzeshi', 'fanavari', 'farhangi', 'havades', 'varzeshi', 'havades', 'fanavari', 'varzeshi', 'salamat', 'havades', 'havades', 'havades', 'havades', 'varzeshi', 'salamat', 'siasi', 'havades', 'salamat', 'havades', 'varzeshi', 'salamat', 'havades', 'havades', 'varzeshi', 'havades', 'salamat', 'havades', 'varzeshi', 'havades', 'varzeshi', 'havades', 'havades', 'varzeshi', 'varzeshi', 'fanavari', 'havades', 'havades', 'siasi', 'varzeshi', 'havades', 'siasi', 'havades', 'siasi', 'varzeshi', 'havades', 'fanavari', 'salamat', 'havades', 'varzeshi', 'havades', 'havades', 'varzeshi', 'varzeshi', 'varzeshi', 'siasi', 'havades', 'varzeshi', 'havades', 'havades', 'varzeshi', 'havades', 'varzeshi', 'siasi', 'havades', 'havades', 'havades', 'salamat', 'havades', 'varzeshi', 'havades', 'havades', 'varzeshi', 'havades', 'havades', 'siasi', 'havades', 'havades', 'havades', 'havades', 'salamat', 'havades', 'siasi', 'havades', 'siasi', 'siasi', 'havades', 'fanavari', 'havades', 'siasi', 'havades', 'siasi', 'havades', 'varzeshi', 'varzeshi', 'havades', 'salamat', 'salamat', 'salamat', 'havades', 'varzeshi', 'havades', 'salamat', 'havades', 'havades', 'varzeshi', 'havades', 'fanavari', 'havades', 'havades', 'salamat', 'havades', 'havades', 'havades', 'farhangi', 'havades', 'farhangi', 'havades', 'fanavari', 'siasi', 'salamat', 'havades', 'havades', 'havades', 'siasi', 'siasi', 'havades', 'fanavari', 'havades', 'havades', 'varzeshi', 'varzeshi', 'havades', 'havades', 'salamat', 'havades', 'havades', 'siasi', 'fanavari', 'havades', 'havades', 'havades', 'fanavari', 'fanavari', 'siasi', 'farhangi', 'havades', 'havades', 'varzeshi', 'havades', 'varzeshi', 'havades', 'havades', 'havades', 'havades', 'siasi', 'siasi', 'varzeshi', 'havades', 'varzeshi', 'fanavari', 'havades', 'havades', 'havades', 'varzeshi', 'salamat', 'havades', 'varzeshi', 'havades', 'havades', 'fanavari', 'fanavari', 'varzeshi', 'havades', 'havades', 'varzeshi', 'havades', 'havades', 'havades', 'havades', 'varzeshi', 'fanavari', 'salamat', 'varzeshi', 'fanavari', 'siasi', 'siasi', 'varzeshi', 'varzeshi', 'havades', 'varzeshi', 'varzeshi', 'havades', 'havades', 'havades', 'siasi', 'salamat', 'varzeshi', 'havades', 'fanavari', 'siasi', 'siasi', 'varzeshi', 'havades', 'havades', 'havades', 'fanavari', 'havades', 'varzeshi', 'varzeshi', 'havades', 'fanavari', 'havades', 'havades', 'siasi', 'havades', 'varzeshi', 'varzeshi', 'varzeshi', 'fanavari', 'havades', 'salamat', 'siasi', 'varzeshi', 'varzeshi', 'havades', 'havades', 'varzeshi', 'siasi', 'fanavari', 'varzeshi', 'varzeshi', 'havades', 'siasi', 'siasi', 'siasi', 'varzeshi', 'havades', 'havades', 'varzeshi', 'havades', 'fanavari', 'havades', 'varzeshi', 'havades', 'havades', 'havades', 'farhangi', 'varzeshi', 'fanavari', 'varzeshi', 'siasi', 'siasi', 'varzeshi', 'farhangi', 'havades', 'havades', 'varzeshi', 'havades', 'varzeshi', 'salamat', 'havades', 'havades', 'salamat', 'varzeshi', 'varzeshi', 'havades', 'varzeshi', 'salamat', 'salamat', 'varzeshi', 'havades', 'siasi', 'havades', 'havades', 'farhangi', 'siasi', 'varzeshi', 'varzeshi', 'varzeshi', 'varzeshi', 'varzeshi', 'havades', 'havades', 'havades', 'salamat', 'varzeshi', 'fanavari', 'havades', 'havades', 'havades', 'havades', 'havades', 'havades', 'havades', 'fanavari', 'salamat', 'siasi', 'havades', 'havades', 'varzeshi', 'siasi', 'havades', 'havades', 'havades', 'siasi', 'varzeshi', 'havades', 'varzeshi', 'varzeshi', 'havades', 'salamat', 'havades', 'havades']\n",
            "{'fanavari': 72, 'varzeshi': 282, 'havades': 488, 'siasi': 116, 'farhangi': 36, 'salamat': 121}\n"
          ]
        }
      ]
    },
    {
      "cell_type": "markdown",
      "source": [
        "##Question 3\n",
        "\n",
        "الف)امواج سهمگین دریا باعث غرق شدن مردی 40 ساله شد.\n",
        "\n",
        "ب)دانشمندان موفق شدن به کمک امواج مغناطیسی دستگاهی برای تشخیص بیماری ها بسازند.\n",
        "\n",
        "خبر اول خبری مربوط به دسته حوادث است و خبر دوم مربوط به دسته فناوری است اما برنامه ما با بررسی کلمه \"امواج\" به تنهایی ممکن است تشخیص اشتباهی بدهد.در مثال دوم انتخاب گروه 2 کلمه ای کافی است و کلمه \"مغناطیسی \" تا حدود زیادی کمک کننده می شود. اما ممکن است گروه های 2 کلمه ای هم کافی نباشد و مجبور شویم گروه های بزرگتری را برای بررسی انتخاب کنیم.\n"
      ],
      "metadata": {
        "id": "BatCBF-VG5GH"
      }
    },
    {
      "cell_type": "markdown",
      "source": [
        "##Question 4\n",
        "\n",
        "زمانی که یک کلمه در مجموعه کلمات یک دسته بندی نیست \n",
        "\n",
        "\n",
        "P(x|c)\n",
        "\n",
        "\n",
        "برای آن کلمه برابر 0 می شود که وقتی که از آن لگاریتم می گیریم مقدار منفی بینهایت با آن جمع می شود که مقدار بایاس بسیار بزرگی به احتمال ما وارد می کند و همین بایاس باعث ایجاد نا دقیق شدن می شود \n",
        "\n",
        "##Question 5\n",
        "\n",
        "این روش به این صورت عمل می کند که برای جلوگیری از 0 شدن احتمال در محاسبه احتمال یک کلمه به شرط یک دسته بندی تعداد تکرار ها را با یک مقدار ثابت آلفا جمع می کند و تقسیم بر تعداد کل کلمات به علاوه همان ضریب آلفا در تعداد کلمات متفاوت دسته می کند .با این روش مطمئن هستیم که از 0 شدن احتمال جلوگیری کرده ایم و توازن احتمالی را هم رعایت کرده ایم"
      ],
      "metadata": {
        "id": "6rBAQJkvL7jc"
      }
    },
    {
      "cell_type": "markdown",
      "source": [
        "##Qiestion 6"
      ],
      "metadata": {
        "id": "iDQiSVL0PuAZ"
      }
    },
    {
      "cell_type": "markdown",
      "source": [
        "در این بخش نمودار های هر یک از دسته بندی ها و 5 کلمه با بیشترین تعداد تکرار را \n",
        "برای آن ها رسم می کنیم.\n",
        "\n",
        "در سلول اول کتابخانه های مورد نیاز به علاوه امتحان کردن یکی از دسته ها را داریم و قسمت دوم برای همه دسته بندی ها می کشیم."
      ],
      "metadata": {
        "id": "7zhK1ROIk1cG"
      }
    },
    {
      "cell_type": "code",
      "source": [
        "from matplotlib import pyplot as plt\n",
        "from operator import itemgetter\n",
        "\n",
        "sort_fanavari = dict(sorted(fanavari.items(), key = itemgetter(1), reverse = True)[:6])\n",
        "\n",
        "fanavari_words = sort_fanavari.keys()\n",
        "fanavari_iterations = sort_fanavari.values()\n",
        "plt.bar(fanavari_words, fanavari_iterations)\n",
        "plt.xlabel('words in fanavari')\n",
        "plt.ylabel('frequency')\n",
        "plt.show()"
      ],
      "metadata": {
        "colab": {
          "base_uri": "https://localhost:8080/",
          "height": 282
        },
        "id": "MN8wfHSLrHW-",
        "outputId": "1e269150-542f-49a1-a26b-e1700f115c8f"
      },
      "execution_count": 16,
      "outputs": [
        {
          "output_type": "display_data",
          "data": {
            "text/plain": [
              "<Figure size 432x288 with 1 Axes>"
            ],
            "image/png": "[encoded data removed]"
          },
          "metadata": {
            "needs_background": "light"
          }
        }
      ]
    },
    {
      "cell_type": "code",
      "source": [
        "for news_cat in all_cat_dicts.keys():\n",
        "\n",
        "  cat_temp_dict=all_cat_dicts[news_cat]\n",
        "  sorted_cat_dict = dict(sorted(cat_temp_dict.items(), key = itemgetter(1), reverse = True)[:6])\n",
        "\n",
        "  _words = sorted_cat_dict.keys()\n",
        "  _iterations = sorted_cat_dict.values()\n",
        "  plt.bar(_words,_iterations)\n",
        "  plt.xlabel(news_cat)\n",
        "  plt.ylabel('frequency')\n",
        "  plt.show()\n",
        "\n",
        "\n"
      ],
      "metadata": {
        "colab": {
          "base_uri": "https://localhost:8080/",
          "height": 1000
        },
        "id": "R1cmGxRJ3Kmu",
        "outputId": "f3dc5686-2fc1-4870-f170-347097ef534f"
      },
      "execution_count": 17,
      "outputs": [
        {
          "output_type": "display_data",
          "data": {
            "text/plain": [
              "<Figure size 432x288 with 1 Axes>"
            ],
            "image/png": "[encoded data removed]"
          },
          "metadata": {
            "needs_background": "light"
          }
        },
        {
          "output_type": "display_data",
          "data": {
            "text/plain": [
              "<Figure size 432x288 with 1 Axes>"
            ],
            "image/png": "[encoded data removed]"
          },
          "metadata": {
            "needs_background": "light"
          }
        },
        {
          "output_type": "display_data",
          "data": {
            "text/plain": [
              "<Figure size 432x288 with 1 Axes>"
            ],
            "image/png": "[encoded data removed]"
          },
          "metadata": {
            "needs_background": "light"
          }
        },
        {
          "output_type": "display_data",
          "data": {
            "text/plain": [
              "<Figure size 432x288 with 1 Axes>"
            ],
            "image/png": "[encoded data removed]"
          },
          "metadata": {
            "needs_background": "light"
          }
        },
        {
          "output_type": "display_data",
          "data": {
            "text/plain": [
              "<Figure size 432x288 with 1 Axes>"
            ],
            "image/png": "[encoded data removed]"
          },
          "metadata": {
            "needs_background": "light"
          }
        },
        {
          "output_type": "display_data",
          "data": {
            "text/plain": [
              "<Figure size 432x288 with 1 Axes>"
            ],
            "image/png": "[encoded data removed]"
          },
          "metadata": {
            "needs_background": "light"
          }
        }
      ]
    },
    {
      "cell_type": "markdown",
      "source": [
        "در این بخش بر اساس پیش بینی که انجام دادیم و با مقایسه آن با دیتا تست ، نتایجی به دست می آوریم .\n",
        "دو دیشکنری می سازیم یکی برای آن که بدانیم در داده تست از هر دسته بندی چند خبر داریم و دیگری برای آن که بدانیم برای هر دسته بندی چند خبر به درستی تشخیص داده شده اند .\n",
        "\n",
        "سطر به سطر بررسی می کنیم اگر مربوط به هر دسته ای بود به مقدار آن دسته یک واحد اضافه می کنیم .اگر دسته واقعی آن با دسته پیش بینی شده آن یکسان بود به مقدار آن دسته در دیکشنری دوم اضافه می کنیم."
      ],
      "metadata": {
        "id": "OwYHZlCQmyCS"
      }
    },
    {
      "cell_type": "code",
      "source": [
        "original_test_ct_size={'fanavari':0 , 'varzeshi':0 ,'havades':0 , 'siasi':0 , 'farhangi':0 , 'salamat':0}\n",
        "true_detections={'fanavari':0 , 'varzeshi':0 ,'havades':0 , 'siasi':0 , 'farhangi':0 , 'salamat':0}\n",
        "for index, row in data_test.iterrows():\n",
        "    \n",
        "    this_label=row['label']\n",
        "    if(this_label=='فناوری'):\n",
        "      original_test_ct_size['fanavari']+=1\n",
        "      if(predictions[index]=='fanavari'):\n",
        "        true_detections['fanavari']+=1\n",
        "    elif(this_label=='ورزشی'):\n",
        "      original_test_ct_size['varzeshi']+=1\n",
        "      if(predictions[index]=='varzeshi'):\n",
        "        true_detections['varzeshi']+=1\n",
        "    elif(this_label=='حوادث'):\n",
        "      original_test_ct_size['havades']+=1\n",
        "      if(predictions[index]=='havades'):\n",
        "        true_detections['havades']+=1\n",
        "    elif(this_label=='فرهنگی/هنری'):\n",
        "      original_test_ct_size['farhangi']+=1\n",
        "      if(predictions[index]=='farhangi'):\n",
        "        true_detections['farhangi']+=1\n",
        "    elif(this_label==\"سیاسی\"):\n",
        "      original_test_ct_size['siasi']+=1\n",
        "      if(predictions[index]=='siasi'):\n",
        "        true_detections['siasi']+=1\n",
        "    elif(this_label==\"سلامت\"):\n",
        "      original_test_ct_size['salamat']+=1\n",
        "      if(predictions[index]=='salamat'):\n",
        "        true_detections['salamat']+=1\n",
        "\n",
        "print(original_test_ct_size)\n",
        "print(true_detections)"
      ],
      "metadata": {
        "colab": {
          "base_uri": "https://localhost:8080/"
        },
        "id": "x0-TmtcV78FK",
        "outputId": "9f55c9fe-5720-4a02-a9bd-368d3e50a79b"
      },
      "execution_count": 18,
      "outputs": [
        {
          "output_type": "stream",
          "name": "stdout",
          "text": [
            "{'fanavari': 168, 'varzeshi': 190, 'havades': 200, 'siasi': 200, 'farhangi': 180, 'salamat': 177}\n",
            "{'fanavari': 23, 'varzeshi': 84, 'havades': 129, 'siasi': 71, 'farhangi': 24, 'salamat': 50}\n"
          ]
        }
      ]
    },
    {
      "cell_type": "markdown",
      "source": [
        "##phase 3\n",
        "\n",
        "در این بخش در ابتدا دقت کلی را بر اساس تقسیم کل تشخیص های درست تقسیم بر کل خبر ها به دست می آوریم"
      ],
      "metadata": {
        "id": "Oq87yYJqsiSy"
      }
    },
    {
      "cell_type": "code",
      "source": [
        "_true_detects=0\n",
        "_overall_size=0\n",
        "for ct in original_test_ct_size:\n",
        "  _true_detects+=true_detections[ct]\n",
        "  _overall_size+=original_test_ct_size[ct]\n",
        "\n",
        "\n",
        "print(\"acuuracy\",_true_detects*100/_overall_size)"
      ],
      "metadata": {
        "colab": {
          "base_uri": "https://localhost:8080/"
        },
        "id": "aE1DxAbvsJYN",
        "outputId": "a9b25f5a-ffa8-4c2d-da5d-e41151df27a4"
      },
      "execution_count": 19,
      "outputs": [
        {
          "output_type": "stream",
          "name": "stdout",
          "text": [
            "acuuracy 34.17040358744394\n"
          ]
        }
      ]
    },
    {
      "cell_type": "markdown",
      "source": [
        "سپس با توجه به روابط داده شده در ابتدا سه متغیر نام برد\n",
        "*   correct detected class\n",
        "*   all detected class\n",
        "*   total class \n",
        "\n",
        "\n",
        "می نویسیم و سپس بر اساس آن ها و روابط داده شده برای هر دسته بندی مقدار های  \n",
        "\n",
        "*  precision\n",
        "*  recall\n",
        "*   f1 \n",
        "\n",
        "را به دست می آوریم \n",
        "\n",
        "\n",
        "\n",
        "\n",
        "\n",
        "\n",
        "\n",
        "\n",
        "\n",
        "\n",
        "\n",
        "\n",
        "\n",
        "\n"
      ],
      "metadata": {
        "id": "hLDHPJous1Pk"
      }
    },
    {
      "cell_type": "markdown",
      "source": [
        "![Screenshot 2022-12-27 170054.png](data:image/png;base64,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)"
      ],
      "metadata": {
        "id": "VFVaahg_xwwZ"
      }
    },
    {
      "cell_type": "markdown",
      "source": [
        "##Question 7\n",
        "\n",
        "ممکن است حالتی وجود داشته باشد که تعداد زیادی از خبر های یک دسته به درستی تشخیص داده شده باشد اما این به این دلیل باشد که در کل تعداد زیادی خبر متعلق به آن دسته تشخیص داده شده است . در این حالت تعداد زیادی خبر وجود دارد که متعلق به آن دسته نبوده اما متعلق به آن دسته تشخیص داده شده است لذا ضرورت دارد که ما درصد درستی تشخیص ها را در میان تشخیص های خودمان بسنجیم .\n",
        "در حقیقت در حالت اول ما تنها ریکال را می سنجیدیم که تاثیر سو تعداد زیاد خبر هایی که به اشتباه متعلق به آن کلاس تشخیص داده شده بودند را در نظر نمی گرفت. \n",
        "اگر هم فقط پرسیشن را بسنجیم ممکن است تعداد زیادی از خبر هایی که متعلق به دسته بندی تشخیص دادیم واقعا متعلق به آن دسته باشند اما تعداد خبر های واقعی آن دسته خیلی زیاد باشد .\n",
        "پس ریکال و پرسیشن هر دو برای سنجش ما ضرورت دارند.\n"
      ],
      "metadata": {
        "id": "PRIQO_G_P4zh"
      }
    },
    {
      "cell_type": "markdown",
      "source": [
        "##Question 8\n",
        "\n",
        "از میانگین گیری هارمونیک استفاده شده است .این نوع میانگین گیری کمک میکند تاثیری افزایش یا کاهش یکی از عوامل را به تنهایی نبینیم و تاثیر آن ها روی بقیه عوامل را هم بینیم. این نوع میانگین گیری تاثیر مقدار های اکسترمم را پر رنگ تر می کند تا مثلا در حالتی که یکی از عوامل به 0 نزدیک می شود اما دیگری بسیار زیاد می شود بتوانیم تاثیر نامطلوبی که این افزایش گذاشته است را بهتر در نظر بگیریم.چون اینجا میخواهیم تاثیر هر دو عامل را همراه با تاثیراتشان بسنجیم و مطلوب بودن هر دو برایمان اهمیت دارد این روش مناسب است"
      ],
      "metadata": {
        "id": "871cWm7UT8xH"
      }
    },
    {
      "cell_type": "markdown",
      "source": [
        "#Question 9\n",
        "Macro :\n",
        "در این حالت میانگین گیری برای هر یک از معیار های سنجش مقدار آن ها برای هر یک از دسته بندی ها با هم جمع می شود و در نهایت تقسیم بر تعداد دسته بندی ها میشود.\n",
        "\n",
        "\n",
        "Micro :\n",
        "micro-F1=correct detected /All detected\n",
        "\n",
        "Micro-F1=Micro-recall=Micro-precision=accuracy\n",
        "\n",
        "weighted :\n",
        "در این حالت هر یک از معیار ها را در جمعیت آن دسته بندی ضرب می کنیم و سپس همه را با هم جمع می کنیم و تقسیم بر کل جمعیت دسته بندی ها می کنیم\n"
      ],
      "metadata": {
        "id": "DPfbpByBYANi"
      }
    },
    {
      "cell_type": "code",
      "source": [
        "accuracy_arr=[]\n",
        "precision_arr=[]\n",
        "recall_arr=[]\n",
        "f1_arr=[]\n",
        "\n",
        "for ct in all_cat_dicts.keys():\n",
        "  print(ct)\n",
        "  correct_detected=true_detections[ct]\n",
        "  \n",
        "  all_detected=test_cat_sizes[ct]\n",
        "\n",
        "  total=original_test_ct_size[ct]\n",
        "\n",
        "  Acc=correct_detected/total\n",
        "\n",
        "  pre=correct_detected/all_detected\n",
        "\n",
        "  recall=correct_detected/total\n",
        "\n",
        "  F1=2*(pre*recall/(pre+recall))\n",
        "\n",
        "  print(\"accuracy\",Acc)\n",
        "  accuracy_arr.append(Acc)\n",
        "  print(\"precision\",pre)\n",
        "  precision_arr.append(pre)\n",
        "  print(\"recall\",recall)\n",
        "  recall_arr.append(recall)\n",
        "  print(\"f1\",F1)\n",
        "  f1_arr.append(F1)\n",
        "\n",
        "\n"
      ],
      "metadata": {
        "colab": {
          "base_uri": "https://localhost:8080/"
        },
        "id": "fGaatWBI2kwP",
        "outputId": "e173d325-93d5-4a8a-8230-6b1e2f8e94a2"
      },
      "execution_count": 20,
      "outputs": [
        {
          "output_type": "stream",
          "name": "stdout",
          "text": [
            "fanavari\n",
            "accuracy 0.13690476190476192\n",
            "precision 0.3194444444444444\n",
            "recall 0.13690476190476192\n",
            "f1 0.19166666666666668\n",
            "varzeshi\n",
            "accuracy 0.4421052631578947\n",
            "precision 0.2978723404255319\n",
            "recall 0.4421052631578947\n",
            "f1 0.3559322033898305\n",
            "havades\n",
            "accuracy 0.645\n",
            "precision 0.26434426229508196\n",
            "recall 0.645\n",
            "f1 0.37499999999999994\n",
            "siasi\n",
            "accuracy 0.355\n",
            "precision 0.6120689655172413\n",
            "recall 0.355\n",
            "f1 0.44936708860759494\n",
            "farhangi\n",
            "accuracy 0.13333333333333333\n",
            "precision 0.6666666666666666\n",
            "recall 0.13333333333333333\n",
            "f1 0.2222222222222222\n",
            "salamat\n",
            "accuracy 0.2824858757062147\n",
            "precision 0.4132231404958678\n",
            "recall 0.2824858757062147\n",
            "f1 0.33557046979865773\n"
          ]
        }
      ]
    },
    {
      "cell_type": "markdown",
      "source": [
        "حال با توجه به تعاریفی که ارائه کردیم میانگین گیری ها را پیاده سازی می کنیم"
      ],
      "metadata": {
        "id": "LdyvBbvxx86c"
      }
    },
    {
      "cell_type": "code",
      "source": [
        "def Macro_avg():\n",
        "  F_sum=0\n",
        "  P_sum=0\n",
        "  recall_sum=0\n",
        "\n",
        "  for i in range(6):\n",
        "\n",
        "    F_sum+=f1_arr[i]\n",
        "\n",
        "    P_sum+=precision_arr[i]\n",
        "\n",
        "    recall_sum+=recall_arr[i]\n",
        "\n",
        "\n",
        "  F_avg=(F_sum)/6\n",
        "  P_avg=(P_sum)/6\n",
        "  rec_avg=(recall_sum)/6\n",
        "\n",
        "  return P_avg,rec_avg,F_avg\n",
        "\n",
        "\n",
        "Macro_P,Macro_rec,Macro_F1=Macro_avg()\n",
        "print(\"Macro_Precision_avg\",Macro_P)\n",
        "print(\"Macro_Recall_avg\",Macro_rec)\n",
        "print(\"Macro_F1_avg\",Macro_F1)\n",
        "  \n"
      ],
      "metadata": {
        "colab": {
          "base_uri": "https://localhost:8080/"
        },
        "id": "37eV_qa9GJ7i",
        "outputId": "c4e42eca-c318-484a-8266-d759cad66a6c"
      },
      "execution_count": 21,
      "outputs": [
        {
          "output_type": "stream",
          "name": "stdout",
          "text": [
            "Macro_Precision_avg 0.42893663664080567\n",
            "Macro_Recall_avg 0.33247153901703413\n",
            "Macro_F1_avg 0.32162644178082866\n"
          ]
        }
      ]
    },
    {
      "cell_type": "code",
      "source": [
        "_numerator=0\n",
        "pre_dominator=0\n",
        "rec_dominator=0\n",
        "\n",
        "for ct in all_cat_dicts.keys():\n",
        "  \n",
        "  correct_detected=true_detections[ct]\n",
        "  \n",
        "  all_detected=test_cat_sizes[ct]\n",
        "\n",
        "  total=original_test_ct_size[ct]\n",
        "\n",
        "  _numerator+=correct_detected\n",
        "\n",
        "  pre_dominator+=all_detected\n",
        "\n",
        "  #rec_dominator+=total\n",
        "\n",
        "pre_micro_avg=_numerator/pre_dominator\n",
        "rec_micro_avg=pre_micro_avg\n",
        "\n",
        "F1_micro_avg=pre_micro_avg\n",
        "\n",
        "\n",
        "print(\"precision Micro average\",pre_micro_avg)\n",
        "print(\"recall Micro average\",rec_micro_avg)\n",
        "print(\"F1 Micro average\",F1_micro_avg)"
      ],
      "metadata": {
        "colab": {
          "base_uri": "https://localhost:8080/"
        },
        "id": "pemwCDBpBqS7",
        "outputId": "52cdb528-94fd-44e5-cd25-90262aa982f8"
      },
      "execution_count": 22,
      "outputs": [
        {
          "output_type": "stream",
          "name": "stdout",
          "text": [
            "precision Micro average 0.3417040358744395\n",
            "recall Micro average 0.3417040358744395\n",
            "F1 Micro average 0.3417040358744395\n"
          ]
        }
      ]
    },
    {
      "cell_type": "code",
      "source": [
        "f1_numerator=0\n",
        "pre_numerator=0\n",
        "rec_numerator=0\n",
        "i=0\n",
        "all_ct_size=0\n",
        "for ct in original_test_ct_size:\n",
        "\n",
        "  f1_numerator+=f1_arr[i]*original_test_ct_size[ct]\n",
        "\n",
        "  pre_numerator+=precision_arr[i]*original_test_ct_size[ct]\n",
        "\n",
        "  rec_numerator+=recall_arr[i]*original_test_ct_size[ct]\n",
        "\n",
        "  i+=1\n",
        "\n",
        "  all_ct_size+=original_test_ct_size[ct]\n",
        "\n",
        "\n",
        "weighted_avg_f1=f1_numerator/all_ct_size\n",
        "\n",
        "weighted_avg_pre=pre_numerator/all_ct_size\n",
        "\n",
        "weighted_avg_rec=rec_numerator/all_ct_size\n",
        "\n",
        "print(\"F1 weighted average\",weighted_avg_f1)\n",
        "print(\"precision weighted average\",weighted_avg_pre)\n",
        "print(\"recall weighted average\",weighted_avg_rec)\n"
      ],
      "metadata": {
        "colab": {
          "base_uri": "https://localhost:8080/"
        },
        "id": "M5uf_ureGDWP",
        "outputId": "e65a6996-8106-4269-cc2a-f820d9689bee"
      },
      "execution_count": 23,
      "outputs": [
        {
          "output_type": "stream",
          "name": "stdout",
          "text": [
            "F1 weighted average 0.32654395472641184\n",
            "precision weighted average 0.4293143971100906\n",
            "recall weighted average 0.3417040358744395\n"
          ]
        }
      ]
    },
    {
      "cell_type": "markdown",
      "source": [
        "حال از این بخش به بعد دقیقا مراحلی که یکبار طی کردیم را طی می کنیم با اضافه کردن :\n",
        "addiactive_smoothing"
      ],
      "metadata": {
        "id": "hMikiAxasKHP"
      }
    },
    {
      "cell_type": "code",
      "source": [
        "alpha=1\n",
        "edited_predictions=[]\n",
        "test_cat_sizes2={'fanavari':0,'varzeshi':0,'havades':0,'siasi':0,'farhangi':0,'salamat':0}\n",
        "for index, row in data_test.iterrows():\n",
        "\n",
        "  cat_labes=['fanavari', 'varzeshi' ,'havades' , 'siasi' , 'farhangi' , 'salamat']\n",
        "  cat_participation={'fanavari':0 , 'varzeshi':0 ,'havades':0 , 'siasi':0 , 'farhangi':0 , 'salamat':0}\n",
        "  for ct in cat_labes:\n",
        "    ct_prob=0\n",
        "    for word in row['content']:\n",
        "      \n",
        "      if(word in all_cat_dicts[ct]):\n",
        "        cat_participation[ct]=cat_participation[ct]+ log(all_cat_dicts[ct][word]+alpha) - log(all_cat_sizes[ct]+alpha*ct_unique_words[ct])        \n",
        "      elif alpha==0:\n",
        "        cat_participation+=log(10**(-90))\n",
        "      else:\n",
        "        cat_participation[ct]=cat_participation[ct]+log(alpha)-log(all_cat_sizes[ct]+alpha*ct_unique_words[ct])\n",
        "\n",
        "    \n",
        "\n",
        "  suitable_cat=cat_labes[0]\n",
        "  for _ct in cat_labes:\n",
        "    if(cat_participation[_ct] > cat_participation[suitable_cat]):\n",
        "      suitable_cat=_ct\n",
        "    \n",
        "  \n",
        "  edited_predictions.append(suitable_cat)\n",
        "  test_cat_sizes2[suitable_cat]+=1"
      ],
      "metadata": {
        "id": "iPcqLJs1ETv3"
      },
      "execution_count": 31,
      "outputs": []
    },
    {
      "cell_type": "code",
      "source": [
        "\n",
        "edited_true_detections={'fanavari':0 , 'varzeshi':0 ,'havades':0 , 'siasi':0 , 'farhangi':0 , 'salamat':0}\n",
        "for index, row in data_test.iterrows():\n",
        "    \n",
        "    this_label=row['label']\n",
        "    if(this_label=='فناوری'):\n",
        "      \n",
        "      if(edited_predictions[index]=='fanavari'):\n",
        "        edited_true_detections['fanavari']+=1\n",
        "    elif(this_label=='ورزشی'):\n",
        "      \n",
        "      if(edited_predictions[index]=='varzeshi'):\n",
        "        edited_true_detections['varzeshi']+=1\n",
        "    elif(this_label=='حوادث'):\n",
        "      \n",
        "      if(edited_predictions[index]=='havades'):\n",
        "        edited_true_detections['havades']+=1\n",
        "    elif(this_label=='فرهنگی/هنری'):\n",
        "      \n",
        "      if(edited_predictions[index]=='farhangi'):\n",
        "        edited_true_detections['farhangi']+=1\n",
        "    elif(this_label==\"سیاسی\"):\n",
        "      \n",
        "      if(edited_predictions[index]=='siasi'):\n",
        "        edited_true_detections['siasi']+=1\n",
        "    elif(this_label==\"سلامت\"):\n",
        "      \n",
        "      if(edited_predictions[index]=='salamat'):\n",
        "        edited_true_detections['salamat']+=1\n",
        "\n",
        "print(original_test_ct_size)\n",
        "print(edited_true_detections)"
      ],
      "metadata": {
        "colab": {
          "base_uri": "https://localhost:8080/"
        },
        "id": "xHKQA0YeaSKW",
        "outputId": "d9c39c68-beb5-4b8e-f4c2-7aae4e233488"
      },
      "execution_count": 32,
      "outputs": [
        {
          "output_type": "stream",
          "name": "stdout",
          "text": [
            "{'fanavari': 168, 'varzeshi': 190, 'havades': 200, 'siasi': 200, 'farhangi': 180, 'salamat': 177}\n",
            "{'fanavari': 157, 'varzeshi': 185, 'havades': 194, 'siasi': 190, 'farhangi': 157, 'salamat': 167}\n"
          ]
        }
      ]
    },
    {
      "cell_type": "code",
      "source": [
        "edited_accuracy_arr=[]\n",
        "edited_precision_arr=[]\n",
        "edited_recall_arr=[]\n",
        "edited_f1_arr=[]\n",
        "\n",
        "for ct in all_cat_dicts.keys():\n",
        "  print(ct)\n",
        "  correct_detected=edited_true_detections[ct]\n",
        "  \n",
        "  all_detected=test_cat_sizes2[ct]\n",
        "\n",
        "  total=original_test_ct_size[ct]\n",
        "\n",
        "  Acc=correct_detected/total\n",
        "\n",
        "  pre=correct_detected/all_detected\n",
        "\n",
        "  recall=correct_detected/total\n",
        "\n",
        "  F1=2*(pre*recall/(pre+recall))\n",
        "\n",
        "  print(\"accuracy\",Acc)\n",
        "  edited_accuracy_arr.append(Acc)\n",
        "  print(\"precision\",pre)\n",
        "  edited_precision_arr.append(pre)\n",
        "  print(\"recall\",recall)\n",
        "  edited_recall_arr.append(recall)\n",
        "  print(\"f1\",F1)\n",
        "  edited_f1_arr.append(F1)"
      ],
      "metadata": {
        "colab": {
          "base_uri": "https://localhost:8080/"
        },
        "id": "ME8bvrjIbvZf",
        "outputId": "186d137b-f214-4b82-d818-0ad0358d87b6"
      },
      "execution_count": 33,
      "outputs": [
        {
          "output_type": "stream",
          "name": "stdout",
          "text": [
            "fanavari\n",
            "accuracy 0.9345238095238095\n",
            "precision 0.9515151515151515\n",
            "recall 0.9345238095238095\n",
            "f1 0.942942942942943\n",
            "varzeshi\n",
            "accuracy 0.9736842105263158\n",
            "precision 0.9893048128342246\n",
            "recall 0.9736842105263158\n",
            "f1 0.9814323607427056\n",
            "havades\n",
            "accuracy 0.97\n",
            "precision 0.9065420560747663\n",
            "recall 0.97\n",
            "f1 0.9371980676328503\n",
            "siasi\n",
            "accuracy 0.95\n",
            "precision 0.8837209302325582\n",
            "recall 0.95\n",
            "f1 0.9156626506024096\n",
            "farhangi\n",
            "accuracy 0.8722222222222222\n",
            "precision 0.9691358024691358\n",
            "recall 0.8722222222222222\n",
            "f1 0.9181286549707603\n",
            "salamat\n",
            "accuracy 0.943502824858757\n",
            "precision 0.9709302325581395\n",
            "recall 0.943502824858757\n",
            "f1 0.9570200573065902\n"
          ]
        }
      ]
    },
    {
      "cell_type": "code",
      "source": [
        "correct_detects=0\n",
        "overall_size=0\n",
        "for ct in original_test_ct_size:\n",
        "  correct_detects+=edited_true_detections[ct]\n",
        "  overall_size+=original_test_ct_size[ct]\n",
        "\n",
        "\n",
        "print(\"acuuracy\",correct_detects*100/overall_size)\n"
      ],
      "metadata": {
        "colab": {
          "base_uri": "https://localhost:8080/"
        },
        "id": "hyJw2VSXcZPL",
        "outputId": "9515a486-4a90-44e8-bd09-b36ea58264ae"
      },
      "execution_count": 34,
      "outputs": [
        {
          "output_type": "stream",
          "name": "stdout",
          "text": [
            "acuuracy 94.17040358744394\n"
          ]
        }
      ]
    },
    {
      "cell_type": "code",
      "source": [
        "\n",
        "edited_F_sum=0\n",
        "edited_P_sum=0\n",
        "edited_recall_sum=0\n",
        "\n",
        "for i in range(6):\n",
        "\n",
        "  edited_F_sum+=edited_f1_arr[i]\n",
        "\n",
        "  edited_P_sum+=edited_precision_arr[i]\n",
        "\n",
        "  edited_recall_sum+=edited_recall_arr[i]\n",
        "\n",
        "\n",
        "Macro_F_avg=(edited_F_sum)/6\n",
        "Macro_P_avg=(edited_P_sum)/6\n",
        "Macro_rec_avg=(edited_recall_sum)/6\n",
        "\n",
        "print(\"Macro F\",Macro_F_avg)\n",
        "print(\"Macro precision\",Macro_P_avg)\n",
        "print(\"Macro_rec_avg\",Macro_rec_avg)\n",
        "\n"
      ],
      "metadata": {
        "colab": {
          "base_uri": "https://localhost:8080/"
        },
        "id": "eMpN3Ff-d_4N",
        "outputId": "74e20d3a-00b1-4acb-9bc4-bea5892deda3"
      },
      "execution_count": 36,
      "outputs": [
        {
          "output_type": "stream",
          "name": "stdout",
          "text": [
            "Macro F 0.9420641223663765\n",
            "Macro precision 0.945191497613996\n",
            "Macro_rec_avg 0.9406555111885173\n"
          ]
        }
      ]
    },
    {
      "cell_type": "code",
      "source": [
        "edited_numerator=0\n",
        "edited_pre_dominator=0\n",
        "edited_rec_dominator=0\n",
        "\n",
        "for ct in all_cat_dicts.keys():\n",
        "  \n",
        "  correct_detected=edited_true_detections[ct]\n",
        "  \n",
        "  all_detected=test_cat_sizes2[ct]\n",
        "\n",
        "  total=original_test_ct_size[ct]\n",
        "\n",
        "  edited_numerator+=correct_detected\n",
        "\n",
        "  edited_pre_dominator+=all_detected\n",
        "\n",
        "  edited_rec_dominator+=total\n",
        "\n",
        "edited_pre_micro_avg=edited_numerator/edited_pre_dominator\n",
        "edited_rec_micro_avg=edited_numerator/edited_pre_dominator\n",
        "\n",
        "edited_F1_micro_avg=(2*edited_pre_micro_avg*edited_rec_micro_avg)/(edited_pre_micro_avg+edited_rec_micro_avg)\n",
        "\n",
        "\n",
        "print(\"precision Micro average\",edited_pre_micro_avg)\n",
        "print(\"recall Micro average\",edited_rec_micro_avg)\n",
        "print(\"F1 Micro average\",edited_F1_micro_avg)"
      ],
      "metadata": {
        "colab": {
          "base_uri": "https://localhost:8080/"
        },
        "id": "-UU3lE22hpmz",
        "outputId": "8be21125-7d41-4cef-af48-7b76f0305b1b"
      },
      "execution_count": 39,
      "outputs": [
        {
          "output_type": "stream",
          "name": "stdout",
          "text": [
            "precision Micro average 0.9417040358744395\n",
            "recall Micro average 0.9417040358744395\n",
            "F1 Micro average 0.9417040358744395\n"
          ]
        }
      ]
    },
    {
      "cell_type": "code",
      "source": [
        "edited_f1_numerator=0\n",
        "edited_pre_numerator=0\n",
        "edited_rec_numerator=0\n",
        "i=0\n",
        "all_ct_size=0\n",
        "for ct in original_test_ct_size:\n",
        "\n",
        "  edited_f1_numerator+=edited_f1_arr[i]*original_test_ct_size[ct]\n",
        "\n",
        "  edited_pre_numerator+=edited_precision_arr[i]*original_test_ct_size[ct]\n",
        "\n",
        "  edited_rec_numerator+=edited_recall_arr[i]*original_test_ct_size[ct]\n",
        "\n",
        "  i+=1\n",
        "\n",
        "  all_ct_size+=original_test_ct_size[ct]\n",
        "\n",
        "\n",
        "edited_weighted_avg_f1=edited_f1_numerator/all_ct_size\n",
        "\n",
        "edited_weighted_avg_pre=edited_pre_numerator/all_ct_size\n",
        "\n",
        "edited_weighted_avg_rec=edited_rec_numerator/all_ct_size\n",
        "\n",
        "print(\"F1 weighted average\",edited_weighted_avg_f1)\n",
        "print(\"precision weighted average\",edited_weighted_avg_pre)\n",
        "print(\"recall weighted average\",edited_weighted_avg_rec)"
      ],
      "metadata": {
        "colab": {
          "base_uri": "https://localhost:8080/"
        },
        "id": "76TzHcR0k421",
        "outputId": "2ea9c2f3-f23f-4b2c-c5cb-f63a7ba23f09"
      },
      "execution_count": 38,
      "outputs": [
        {
          "output_type": "stream",
          "name": "stdout",
          "text": [
            "F1 weighted average 0.9418066499018687\n",
            "precision weighted average 0.9436539486652451\n",
            "recall weighted average 0.9417040358744395\n"
          ]
        }
      ]
    },
    {
      "cell_type": "markdown",
      "source": [
        "##Question 10"
      ],
      "metadata": {
        "id": "_EiXsUD8K7gs"
      }
    },
    {
      "cell_type": "markdown",
      "source": [
        "![with.PNG](data:image/png;base64,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)"
      ],
      "metadata": {
        "id": "CKxtMefAwCrt"
      }
    },
    {
      "cell_type": "markdown",
      "source": [
        "![without.PNG](data:image/png;base64,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)"
      ],
      "metadata": {
        "id": "GI9a23Dz6Pb4"
      }
    },
    {
      "cell_type": "markdown",
      "source": [
        "##Question 11\n",
        "addiative smoothing\n",
        "\n",
        "\n",
        "را که اضافه می کنیم به صورت بسیار قابل توجهی تمام معیار های ارزیابی بهتر می شوند و در بخش دوم موفق میشویم 94 درصد دقت را کسب کنیم.این جدول ها تاثیر حذف بایاس های بزرگ را به ما نشان میدهد . هم چنین در جدول ها تاثیر میانگین گیری هارمونیک اف 1 کاملا مشهود است.\n"
      ],
      "metadata": {
        "id": "jaMPfJAo6eja"
      }
    },
    {
      "cell_type": "markdown",
      "source": [
        "##Question 12"
      ],
      "metadata": {
        "id": "uGJS-UrT9BV0"
      }
    },
    {
      "cell_type": "code",
      "source": [
        "counter=0\n",
        "wrong_news=[]\n",
        "label_maps={'فناوری':'fanavari','حوادث':'havades','ورزشی':'varzeshi','سیاسی':'siasi','سلامت':'salamat','فرهنگی/هنری':'farhangi'}\n",
        "for index, row in data_test.iterrows():\n",
        "  if(counter < 5):\n",
        "    #counter+=1\n",
        "    the_label=label_maps[row['label']]\n",
        "    if(the_label != edited_predictions[index]):\n",
        "      wrong_news.append([the_label,edited_predictions[index],row['content']])\n",
        "      #print(row['label'],edited_predictions[index])\n",
        "      #print(row['content'])\n",
        "    #counter+=1\n"
      ],
      "metadata": {
        "id": "vuMVEEut81qX"
      },
      "execution_count": 49,
      "outputs": []
    },
    {
      "cell_type": "code",
      "source": [
        "for j in range(5):\n",
        "  print(wrong_news[j][0],wrong_news[j][1])\n",
        "  sents=' '.join(wrong_news[j][2])\n",
        "  print(sents)"
      ],
      "metadata": {
        "colab": {
          "base_uri": "https://localhost:8080/"
        },
        "id": "lQT4mnnn_6sw",
        "outputId": "d244f521-16a4-4522-d344-1fa60bf4c08e"
      },
      "execution_count": 54,
      "outputs": [
        {
          "output_type": "stream",
          "name": "stdout",
          "text": [
            "farhangi siasi\n",
            "چهارشنبه تیر 1401 اتفاق نادر جالب رخ تصادف برنامه‌ریزی اطلاع قبل بود#باش شکل هم‌زمان محل انجمن صنف روزنامه‌نگار استان تهران رونما صدا‌و‌سیما جمع معاون سازمان کلیات   سه واژه مشترک‌اند ربط شباهت اول منظور سند دوم سند حال تعبیر دکتر وب‌2 زود وارد وب‌3 شد#شو رادیو تلویزیون رسانه مدرن تعبیر رسانه تلویزیون معنی عام جهانی مشخصا صدا سیما ایران رایگان گسترده امکان وقت‌گذرانی ارتباط رایگان پرداخت اشتراک بودجه جیب ملت تامین اول منظور رسانه رسانه بودجه حکومت مخاطب‌محور دوم تعبیر رسانه ملی باقی ترجیح داد#ده مفاهیم ایدیولوژیک واقع عرصه جنگ دانست#دان واژه جنگ قرارگاه حجم عظیم پرسنل بودجه کلان انحصار چنگ انداختن شبکه نمایش خانگی توجیه اول مراد واژه ملی ملی معطوف ایران دوم مراد ملی معطوف نظام سیاسی گرنه ملی‌بود زبان ملی سینما ملی موسیقی ملی بها داد#ده نوشت#نویس   آیین اول دور وابستگی دولت حکومت شایبه تبلیغاتی حضور چهره شاخص رسانه استاد شاخص ارتباطات معیار حرفه‌ای جهانی شناخته‌شده برگزار دوم ذیل رسانه ملی اهداف سیاسی ایدیولوژیک جدا معیار شناخته‌شده‌رسانه‌ای می‌توان حدس زد#زن بی‌حضور عالمان نشست#نشین اداری محتمل معاون تحصیلات مرتبط داشت#دار صفت بود#باش   اتفاق نمادین نشان‌دهنده ریشه مشکل رسانه ایران علم موضوع رسانه عرصه رسم بودجه کلان تومان سال قریب 50 کارمند انواع محدودیت مضیقه دست گریبان چرخ اقتصاد نحیف یارانه گشت#گرد جدا زبان مشترک دچار اختلال کرد#کن سه واژه سند رسانه ملی مراد کارمند اداره سازمان صدا سیما 12 محور فعالیت منظور   حاصل چالش کشاکش این‌شده‌که رسانه چاپی کاغذ روی‌گردان شد#شو ایران پایین نرخ روزنامه‌خوان جهان جهان سقوط اخبار صدا‌و‌سیما اثبات مردن حسین عبدالباقی ناچار کشو سردخانه ایهاالناس ! باور جنازه متعلق مالک سازنده متروپل آباد دروغ گفت#گو گرفتار افتضاح رسوایی کارشناس کارمند گفته‌بودند انگلیسی حرف زد#زن بنده خدا وسط ماجرا فارس حرف زدن لو !   نویسنده سطور سخنران حاضر نشست رونما سند ملی رسانه محل انجمن صنف روزنامه نگاران‌بود استاد ارتباطات دکتر محسنیان‌راد آموخت#آموز مقدمه سند موازین حرفه‌ای منطبق می‌توان پیش‌بینی متن مفصل حاصل گزارش تخصص پژوهش کاشت#کار درخور     پیمان جبل 12 محور تحول محتوا برنامه صدا وسیما شرح کرد#کن         ادبیات سند ملی رسانه روزنامه‌نگاران‌ عاری مفاهیم سیاسی ایدیولوژیک منطبق علوم ارتباطات نظریات مدرن رسانه مبتنی مشاوره برجسته استاد ارتباطات روزنامه‌نگاری سند تحول صدا سیما پر ایدیولوژیک سیاسی دور مفاهیم تخصص رسانه آدم یاد اهداف سازمان تبلیغات اسلام انداخت#انداز    صدا سیما دستگاه وسیع حجیم تبلیغاتی پروپاگاندایی نقد رویکرد صدا سیما اصرار ذیل رسانه ملی توصیف واژه تعاریف خاص   طبیعی جبل ماموریت سازمان اهداف متحول محور علم رسانه ارتباط توانست#توان رسانه رقابت مقابله     عین 12 محور سازمان تبلیغات اسلام اساس می‌توان پیش‌بینی اهداف محقق سازمان صدا وسیما سازمان تبلیغات اسلام تبدیل شد#شو سازمان موفق سازمان موفق خواهد‌بود لحاظ اداری سازمان واقع شورا هماهنگ تبلیغات اسلام منظور تشکیلات تبلیغاتی خاص     منتها سازمان تبلیغات طول سال تعداد شرکت‌کنندگان راه‌پیمایی مهم سراسر برنامه‌یزی جشن دهه فجر ارزیاب سازمان صدا سیما لحظه‌به‌لحظه ذره مخاطب داخل خارج قاعدتا مدل‌های رسانه برنامه‌ریزی تبلیغاتی   سه کارکرد مهم صدا سیما دانست#دان 43 سال زبان روسا سازمان اعلام‌شده‌مشخص 12 محور اطلاع‌رسانی سرگرم آموزش معطوف سه رویکرد مربوط ماقبل سند بود#باش قرار قرار     قرار تحول این‌گونه اوصاف صدا وسیما سازمان تبلیغات اسلام ادغام صدا وسیما تبلیغات رسم تغییر رسانه نخواهد‌بود ملی کما فوتبال فوتبال کمک زلزله‌زده دوستانه بازی نمی‌توان دوستانه بازیکن توانست#توان دست توپ لمس وقت فوتبال هند‌بال سند تحول صدا سیما سازمان تبلیغات     12 رویکرد محور شبکه افق شبکه مرتبط مشخص می‌توان صدا سیما ذیل برد     قرار تحول سند تحول‌بود آموزش پرورش سند تحول متحول شد#شو دانشگاه تحول کاغذ نوشت#نویس واقعیت تحمیل   نیکولو ماکیاولی توصیه شهریار گفت#گو پیمان شکسته‌شدن بست#بند سیاق می‌توان سند تحول متحول نشدن نوشت#نویس ! آنتن صدا سیما کانال هزینه خوراک متنوع نیاز صبح شب نمی‌توان غرب فحش تبلیغ مذهب پخش طالب ساز کاشت#کار دیگر‌بود تعطیل !       آغاز گفت#گو تقارن عجیب این‌بود ساعت پیمان جبل جمع معاون صدا وسیما سند تحول سازمان متبوع رویکرد ایدیولوژیک رونما کرد#کن استاد راهنما پایان نامه ضرورت کارگیری معیار حرفه‌ای رسانه سند ملی رسانه جمع روزنامه نگار پای می‌فشرد مشخص تفاوت زمین آسمان   یادداشت سه پرسش پایان برد#بر   پیش‌بینی شبکه صدا‌و‌سیما مضامین عدالت گستری روایت پیشرفت جانبه جامعه ایران ایثار مقاومت شهادت توسعه سبک زندگی ایثارگرانه سبک زندگی خانواده محوریت سبک زندگی انقلاب هنر انقلاب معرف شایسته آثار برجسته نقد غرب هجو غرب‌زدگی تقویت هویت جهانی امت بازنمایی قدرت نرم ایران اسلام جهان روایت جوان مومن انقلاب پیشرفت آینده الگو زن انقلاب اسلام مقابله ارتجاع تطهیر پهلوی روایت هوشمندانه صحیح تاریخ اسلام ایران بسط الگو حکمران مردمی ‌با بازخوانی نهاد مردمی انقلاب پر شمار مخاطب اعتبار سازمان افزایش یافت#یاب نوشته گرفت#گیر   صدا وسیما ذیل رسانه تعریف قرارگاه فرهنگ سازمان تبلیغات اسلام خواست#خواه رسانه سازمان ادغام شد#شو   پرسش مهم سرنا گشاد می‌نوازید پای صدا سیما ایدیولوژیک اجرا ساعات پربیننده شب نشست#نشین شبکه فارس زبان ماهواره دور کرد#کن برنامه ایدیولوژیک پخش افراد قید زد#زن رفت#رو سراغ طرفی‌ها     رسانه امنیت هوش‌مندی فهمید#فهم مدیر سازمان فهمید#فهم غیرایدیولوژیک‌ترین برنامه صدا‌وسیما برنامه مدیر فردوسی‌پور پای تلویزیون جمهوری اسلام می‌نشاند من‌و‌تو ایران اینترنشنال دور کرد#کن نفع جمهوری اسلام ایدیولوژیک‌ترین وشعاری‌ترین سبب مخاطب عام کانال تغییر سود رقباست ! محور برنامه سرگرم‌کننده داشت#دار من‌و‌تو سوق فرصت بهره برد#بر مستند تطهیر پرداخت#پرداز واقع نقض غرض دانست#دان توانست#توان مظورم رساند#رسان ! زبان مشترک مختل‌شده‌است   سال 88 سفر هرات افغانستان مجری مراسم تعداد روزنامه آزاد می‌بالید روزنامه ایران روزنامه‌نگار میهمان طعنه زد#زن دست ساطور‌بود همکار روزنامه‌نگار خانم شوربختانه بعد کوچید ر‌فت واکنش 70 درصد سواد داشت#دار روزنامه خواند#خوان تفاوت تعداد روزنامه داشت#دار نه !     حکایت صدا وسیما سند تحول جبل دوشنبه شب خلق‌الله پای نود نشست#نشین توانست#توان شعار ایدیولوژیک زیرنویس مفاهیم خورد#خور خلق‌الله نود حذف کرد#کن پسر تلاش توانست#توان عادل بیننده عام دگمه فشار داد#ده ساعت پای شبه نود مزدک میرزا ایران اینترنشنال نشست#نشین وقت افکار عموم داد#ده ظرافت سیاسی فرهنگ امنیت رسانه     فهمید#فهم شنید#شنو وقت قم رفت#رو عالم انتقاد کرد#کن سریال حجاب خانم وعظ خطابه پخش کرد#کن توضیح داد#ده حاج ! داد#ده وقت تلویزیون خاموش برنامه سرگرم‌کننده داشت#دار  می‌بینند !\n",
            "farhangi siasi\n",
            "اعتراض گسترده کاربر تو اظهارات وزیر امورخارجه آمریکا هشتگ انگلیسی پرشین گلف خلیج‌فارس تو ترند گزارش خبرآنلاین رکس تیلرسون وزیر امورخارجه آمریکا اظهارات اخیر کار بردن واژه مجعول خلیج‌فارس موج اعتراضات شبکه اجتماع برانگیخت کاربر شبکه اجتماع تو اعتراض موضوع هشتگ انگلیسی PersianGulf موضوع سبب هشتگ مدت تو ترند\n",
            "siasi havades\n",
            "وکیل مدافع نازنین زاغری متهم ایران بریتانیایی برگزاری دادگاه ختم رسیدگی دومین پرونده موکل اتهام فعالیت تبلیغ نظام  شعبه 15 دادگاه انقلاب ریاست قاضی صلوات خبر\n",
            "farhangi varzeshi\n",
            "حاشیه معرف ساپینتو مربی باشگاه استقلال مصطفی آجورلو خبر مدیرعامل استقلال شبکه ماهواره استقلال آزمایش فعالیت آغاز   آجرلو خواست#خواه هوادار خبر داد#ده شبکه استقلال ماهواره فعالیت به‌صورت آزمایش آغاز ماهواره کار شبکه تلویزیون استقلال آزمایش آغاز تلویزیون منافع استقلال گم‌شده‌است مبلغ صدا سیما دست‌بوس عوامل صدا وسیما پول داد#ده اقدام انجام‌نشده‌است کار شبکه استقلال راه‌اندازی هفته شبکه استقلال ببیند تیم قهرمان استقلال ضایع   هفته آینده توانست#توان شبکه ماهواره استقلال دسترس داشت#دار بررسی داد#ده شبکه استقلال تلویزیون سامسونگ دسترس قرار پخش داشت#دار امر اتفاق مبارک باشگاه استقلال تیم اصل پر هوادار پایتخت پتانسیل خوبی بهره ببرد لحاظ اطلاع‌رسانی ارتباط مستقیم هوادارن منظر اتفاقات فرهنگ ورزش باشگاه مه بنگاه اقتصاد درآمدزا باشگاه جنبه می‌توان شبکه تلویزیون برنامه متنوع اتفاقات روزمره استقلال پخش بازی قدیم استقلال پرداختن بازیکن پیشکسوتان باشگاه تمرین تیم بازی لیگ پوشش تیم‌های پایه آیتم جذاب نیاز باشگاه استقلال نیکوست باشگاه پرطرفدار پرسپولیس تراکتور سپاهان ادامه شبکه تلویزیون اتفاق مثبت باشگاه هوادار بازیکن   نکته مثبت فوتبال ایران سال مدیدی پخش تلویزیون مسابقات نحوه پوشش اخبار اطلاع‌رسانی مناقشه بی‌پایان فوتبال ایران رقم زد#زن   نکته مثبت شرایط احتمال چالش استقلال صداسیما گفته آجرلو اشاره کرد#کن باشگاه استقلال تومان صداوسیما‌طلب گم‌شده‌است وئولی اقدام گرفت#گیر شبکه تلویزیون داشت#دار صداوسیما اتفاقات چراغ خاموش بی‌صدا عبور کرد#کن اقدام شجاعانه آجرلو سرکوب شد#شو تلویزیون باشگاه استقلال ادامه صداوسیما چوب لا چرخ گذاشت#گذار اتفاقات پلتفرم‌های نمایش خانگی رخ اتفاق حسن مضاعف کشور نکات مغفول ماند#مان خال احساس پدیده رقیب فضا سالم رقابت منجر رشد شکوفایی شد#شو دنیا باشگاه ورزش پرطرفدار شبکه تلویزیون حیف ورزش ایران علی‌الخصوص فوتبال ایران امکان محروم ماند#مان آجرلو اتفاق نتیجه رساند#رسان تداوم رقم زد#زن اسم آغازکننده راه ورزش رسانه کشور ماند#مان\n",
            "salamat siasi\n",
            "وزیر بهداشت نامه معاون بهداشت وزارتخانه دستور سریع مرکز جامع سلامت روستا چنار محمود ایجاد تیم تخصص فوق‌تخصصی مرکز مستقر گزارش ایسنا بنا وبدا متن نامه دکتر سعید نمکی خطاب دکتر علیرضا رییس معاون بهداشت وزارت بهداشت شرح هوشمندی عزیز تلاش بی‌وقفه مسئولین محترم گروه ضد انقلاب معاند ایجاد آشوب بهانه آلودگی هموطنان‌مان ویروس HIV ناکام ماند#مان تشکر پیگیری مستمر جناب دکتر افراد فعال 20 تیم اعزام ماه استان چهارمحال بختیار بررسی دقیق کارشناس همکار استان ستادی ضروریست توجه قرار فتنه انگیز تشویش اذهان عموم تلاش کرد#کن یکسو شریف روستا چنارمحمودی آلوده ویروس قلمداد نمود#نما آخرین بررسی حاکی آلودگی درصد سلامت اهالی روستاست   ابزار کذب بدنام نظام بهداشت درمانی کشور ضربه آبرو جمهوری اسلام رسانه بیگانه بهره راستا بحمدالله توفیق یافت#یاب شریف منطقه آخرین لحظه تیم بهداشت درمان همکار همراه نمود#نما استقرار همکار تخصص محل همراه صمیمانه ادامه راستا نیت تلاش نمود#نما موضع‌گیری راستا دفاع حیثیت نظام بهداشت درمانی کشور خدمتگزاران بعنوان ابزار جریحه‌دار نمودن عواطف پاک شریف روستا نمود#نما ضروریست همکار ارجمند ستادی محل واقعیت عزیز منتقل نمود#نما شرایط قصد حرمت‌شکن عزیز بکارگیری عبارت روابط نامطلوب گفتمان متداول سازمان هرگونه حرکت فرآیند اطلاق اصول ضوابط استاندار علم منطبق بود#باش بدیهی نامطلوب هرکدام فرآیند ایجاد بیمار نقش‌آفرینی مصادیق متعدد تعبیر مراتب متفاوت غرض شیطنت روابط نامشروع تفسیر تعمیم موجب تشویش اذهان عزیز شد#شو کودک ساله گرفتار متشرع خانواده شریف مومنی افراد مبتلا بی‌انصاف گرفتار حاصل روابط نامشروع تفسیر کرد#کن همکارانتان وظیفه سوئ‌تفاهم ذهن عزیز شریف بزدائید اعتقاد پایبند اصول دین اخلاق نمائید خدا ناکرده غبار سوئ‌تفاهم دل پاک قوم نازنین ماند#مان اولویت دریافتن بیمار مساعدت فوریست لازمست تقویت تیم پزشک موجود منطقه فرآیند درمان جسم روح عزیز تسریع نتیجه گزارش تامین دارو پوشش قرار بیمه توانبخشی پوشش امداد وقفه پذیرفت#پذیر بدیهی تشخیص درمانی رایگان خواهد‌بود ایجاد مرکز جامع سلامت روستا اقدام تیم تخصص تخصص مرکز مذکور مرکز مشاوره شهرستان لردگان مستقر نتیجه\n"
          ]
        }
      ]
    },
    {
      "cell_type": "markdown",
      "source": [
        "بررسی تک کلمه ای جملات و چشم پوشی کردن از کلمات قبل و بعد آن ها تاثیر زیادی در این مسئله داشته است. مثلا در مثال چهارم برنامه با دیدن کلماتی مثل ورزش فوتبال نوع خبر را ورزشی تشخیص داده است ، در حالی اگر عبارت های 3و4 کلمه ای را بررسی انتخاب می کردیم .کلماتی مثل تلوزیون یا رسانه در گروه های ما می آمدند و برنامه آن ها را فرهنگی تشخیص میداد"
      ],
      "metadata": {
        "id": "FO8Nsy37DbIP"
      }
    }
  ]
}