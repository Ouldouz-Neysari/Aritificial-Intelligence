{
  "nbformat": 4,
  "nbformat_minor": 0,
  "metadata": {
    "colab": {
      "provenance": []
    },
    "kernelspec": {
      "name": "python3",
      "display_name": "Python 3"
    },
    "language_info": {
      "name": "python"
    }
  },
  "cells": [
    {
      "cell_type": "markdown",
      "source": [
        "##Phase 2"
      ],
      "metadata": {
        "id": "p6s3jOvDX7wo"
      }
    },
    {
      "cell_type": "code",
      "execution_count": 1,
      "metadata": {
        "id": "9Sb5pCnVtrRu"
      },
      "outputs": [],
      "source": [
        "import numpy as np\n",
        "import tensorflow as tf\n",
        "from tensorflow import keras"
      ]
    },
    {
      "cell_type": "code",
      "source": [
        "(x_train, y_train), (x_test, y_test) = keras.datasets.cifar10.load_data()\n",
        "assert x_train.shape == (50000, 32, 32, 3)\n",
        "assert x_test.shape == (10000, 32, 32, 3)\n",
        "assert y_train.shape == (50000, 1)\n",
        "assert y_test.shape == (10000, 1)"
      ],
      "metadata": {
        "id": "pBgiul5HwlWU",
        "colab": {
          "base_uri": "https://localhost:8080/"
        },
        "outputId": "0b7bee49-6ff5-4ac8-a59a-81ac27e19e95"
      },
      "execution_count": 2,
      "outputs": [
        {
          "output_type": "stream",
          "name": "stdout",
          "text": [
            "Downloading data from https://www.cs.toronto.edu/~kriz/cifar-10-python.tar.gz\n",
            "170498071/170498071 [==============================] - 4s 0us/step\n"
          ]
        }
      ]
    },
    {
      "cell_type": "markdown",
      "source": [
        "##Reshaping:\n",
        "\n",
        "following cells include stages of reshapeing , we can also do this by flattening input at sequential network, I prefered second method"
      ],
      "metadata": {
        "id": "1RNLL6roYEN4"
      }
    },
    {
      "cell_type": "code",
      "source": [
        "#x_train.reshape(50000,-1)\n",
        "\n"
      ],
      "metadata": {
        "id": "QRmdlImvw1nO"
      },
      "execution_count": 3,
      "outputs": []
    },
    {
      "cell_type": "code",
      "source": [
        "#x_test.reshape(10000,-1)"
      ],
      "metadata": {
        "id": "L6chwCcryeET"
      },
      "execution_count": 4,
      "outputs": []
    },
    {
      "cell_type": "markdown",
      "source": [
        "##Normalizing\n",
        "\n",
        "we can use normalize function of sklearn library or we can do it by calculating the formula of normalizzation. I prefered the secend way."
      ],
      "metadata": {
        "id": "ZS52ULr-Yg3A"
      }
    },
    {
      "cell_type": "markdown",
      "source": [
        "![normalizing.png](data:image/png;base64,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)"
      ],
      "metadata": {
        "id": "h32hP6AyHZgX"
      }
    },
    {
      "cell_type": "code",
      "source": [
        "#from sklearn.preprocessing import normalize\n",
        "\n",
        "#one_d_x_train=x_train.reshape(-1)\n",
        "#one_d_x_train"
      ],
      "metadata": {
        "id": "zVDOpDgvzMGn"
      },
      "execution_count": 5,
      "outputs": []
    },
    {
      "cell_type": "code",
      "source": [
        "#norm_x_train=normalize([one_d_x_train])\n",
        "#norm_x_train"
      ],
      "metadata": {
        "id": "MKzo-WBq1CXv"
      },
      "execution_count": 6,
      "outputs": []
    },
    {
      "cell_type": "code",
      "source": [
        "#norm_x_train.reshape(50000,-1)\n",
        "\n",
        "#norm_x_train"
      ],
      "metadata": {
        "id": "Ba4mSvRu1bNG"
      },
      "execution_count": 7,
      "outputs": []
    },
    {
      "cell_type": "code",
      "source": [
        "#norm = np.linalg.norm(x_train)\n",
        "#normalized_x_train = x_train/norm  \n",
        "\n",
        "#normalized_x_train"
      ],
      "metadata": {
        "id": "O8PQTzBM2tO_"
      },
      "execution_count": 8,
      "outputs": []
    },
    {
      "cell_type": "code",
      "source": [
        "#norm2 = np.linalg.norm(x_test)\n",
        "#normalized_x_test = x_test/norm2 \n",
        "\n",
        "#normalized_x_test"
      ],
      "metadata": {
        "id": "JYXIGtQA3LlV"
      },
      "execution_count": 9,
      "outputs": []
    },
    {
      "cell_type": "code",
      "source": [
        "np.max(x_train)"
      ],
      "metadata": {
        "colab": {
          "base_uri": "https://localhost:8080/"
        },
        "id": "HuT8rzHgVzMz",
        "outputId": "69a805a3-1fe3-4c8a-9f4b-99cfa8e7274e"
      },
      "execution_count": 10,
      "outputs": [
        {
          "output_type": "execute_result",
          "data": {
            "text/plain": [
              "255"
            ]
          },
          "metadata": {},
          "execution_count": 10
        }
      ]
    },
    {
      "cell_type": "markdown",
      "source": [
        "min =0\n",
        "max =255\n",
        "So , according to formula:"
      ],
      "metadata": {
        "id": "3kRmpqkvHjsy"
      }
    },
    {
      "cell_type": "code",
      "source": [
        "x_train=x_train/255\n",
        "x_train"
      ],
      "metadata": {
        "colab": {
          "base_uri": "https://localhost:8080/"
        },
        "id": "dCihwWzAWZ9R",
        "outputId": "6af7b6e8-b342-4bf1-bdd1-9b5a192ee129"
      },
      "execution_count": 11,
      "outputs": [
        {
          "output_type": "execute_result",
          "data": {
            "text/plain": [
              "array([[[[0.23137255, 0.24313725, 0.24705882],\n",
              "         [0.16862745, 0.18039216, 0.17647059],\n",
              "         [0.19607843, 0.18823529, 0.16862745],\n",
              "         ...,\n",
              "         [0.61960784, 0.51764706, 0.42352941],\n",
              "         [0.59607843, 0.49019608, 0.4       ],\n",
              "         [0.58039216, 0.48627451, 0.40392157]],\n",
              "\n",
              "        [[0.0627451 , 0.07843137, 0.07843137],\n",
              "         [0.        , 0.        , 0.        ],\n",
              "         [0.07058824, 0.03137255, 0.        ],\n",
              "         ...,\n",
              "         [0.48235294, 0.34509804, 0.21568627],\n",
              "         [0.46666667, 0.3254902 , 0.19607843],\n",
              "         [0.47843137, 0.34117647, 0.22352941]],\n",
              "\n",
              "        [[0.09803922, 0.09411765, 0.08235294],\n",
              "         [0.0627451 , 0.02745098, 0.        ],\n",
              "         [0.19215686, 0.10588235, 0.03137255],\n",
              "         ...,\n",
              "         [0.4627451 , 0.32941176, 0.19607843],\n",
              "         [0.47058824, 0.32941176, 0.19607843],\n",
              "         [0.42745098, 0.28627451, 0.16470588]],\n",
              "\n",
              "        ...,\n",
              "\n",
              "        [[0.81568627, 0.66666667, 0.37647059],\n",
              "         [0.78823529, 0.6       , 0.13333333],\n",
              "         [0.77647059, 0.63137255, 0.10196078],\n",
              "         ...,\n",
              "         [0.62745098, 0.52156863, 0.2745098 ],\n",
              "         [0.21960784, 0.12156863, 0.02745098],\n",
              "         [0.20784314, 0.13333333, 0.07843137]],\n",
              "\n",
              "        [[0.70588235, 0.54509804, 0.37647059],\n",
              "         [0.67843137, 0.48235294, 0.16470588],\n",
              "         [0.72941176, 0.56470588, 0.11764706],\n",
              "         ...,\n",
              "         [0.72156863, 0.58039216, 0.36862745],\n",
              "         [0.38039216, 0.24313725, 0.13333333],\n",
              "         [0.3254902 , 0.20784314, 0.13333333]],\n",
              "\n",
              "        [[0.69411765, 0.56470588, 0.45490196],\n",
              "         [0.65882353, 0.50588235, 0.36862745],\n",
              "         [0.70196078, 0.55686275, 0.34117647],\n",
              "         ...,\n",
              "         [0.84705882, 0.72156863, 0.54901961],\n",
              "         [0.59215686, 0.4627451 , 0.32941176],\n",
              "         [0.48235294, 0.36078431, 0.28235294]]],\n",
              "\n",
              "\n",
              "       [[[0.60392157, 0.69411765, 0.73333333],\n",
              "         [0.49411765, 0.5372549 , 0.53333333],\n",
              "         [0.41176471, 0.40784314, 0.37254902],\n",
              "         ...,\n",
              "         [0.35686275, 0.37254902, 0.27843137],\n",
              "         [0.34117647, 0.35294118, 0.27843137],\n",
              "         [0.30980392, 0.31764706, 0.2745098 ]],\n",
              "\n",
              "        [[0.54901961, 0.62745098, 0.6627451 ],\n",
              "         [0.56862745, 0.6       , 0.60392157],\n",
              "         [0.49019608, 0.49019608, 0.4627451 ],\n",
              "         ...,\n",
              "         [0.37647059, 0.38823529, 0.30588235],\n",
              "         [0.30196078, 0.31372549, 0.24313725],\n",
              "         [0.27843137, 0.28627451, 0.23921569]],\n",
              "\n",
              "        [[0.54901961, 0.60784314, 0.64313725],\n",
              "         [0.54509804, 0.57254902, 0.58431373],\n",
              "         [0.45098039, 0.45098039, 0.43921569],\n",
              "         ...,\n",
              "         [0.30980392, 0.32156863, 0.25098039],\n",
              "         [0.26666667, 0.2745098 , 0.21568627],\n",
              "         [0.2627451 , 0.27058824, 0.21568627]],\n",
              "\n",
              "        ...,\n",
              "\n",
              "        [[0.68627451, 0.65490196, 0.65098039],\n",
              "         [0.61176471, 0.60392157, 0.62745098],\n",
              "         [0.60392157, 0.62745098, 0.66666667],\n",
              "         ...,\n",
              "         [0.16470588, 0.13333333, 0.14117647],\n",
              "         [0.23921569, 0.20784314, 0.22352941],\n",
              "         [0.36470588, 0.3254902 , 0.35686275]],\n",
              "\n",
              "        [[0.64705882, 0.60392157, 0.50196078],\n",
              "         [0.61176471, 0.59607843, 0.50980392],\n",
              "         [0.62352941, 0.63137255, 0.55686275],\n",
              "         ...,\n",
              "         [0.40392157, 0.36470588, 0.37647059],\n",
              "         [0.48235294, 0.44705882, 0.47058824],\n",
              "         [0.51372549, 0.4745098 , 0.51372549]],\n",
              "\n",
              "        [[0.63921569, 0.58039216, 0.47058824],\n",
              "         [0.61960784, 0.58039216, 0.47843137],\n",
              "         [0.63921569, 0.61176471, 0.52156863],\n",
              "         ...,\n",
              "         [0.56078431, 0.52156863, 0.54509804],\n",
              "         [0.56078431, 0.5254902 , 0.55686275],\n",
              "         [0.56078431, 0.52156863, 0.56470588]]],\n",
              "\n",
              "\n",
              "       [[[1.        , 1.        , 1.        ],\n",
              "         [0.99215686, 0.99215686, 0.99215686],\n",
              "         [0.99215686, 0.99215686, 0.99215686],\n",
              "         ...,\n",
              "         [0.99215686, 0.99215686, 0.99215686],\n",
              "         [0.99215686, 0.99215686, 0.99215686],\n",
              "         [0.99215686, 0.99215686, 0.99215686]],\n",
              "\n",
              "        [[1.        , 1.        , 1.        ],\n",
              "         [1.        , 1.        , 1.        ],\n",
              "         [1.        , 1.        , 1.        ],\n",
              "         ...,\n",
              "         [1.        , 1.        , 1.        ],\n",
              "         [1.        , 1.        , 1.        ],\n",
              "         [1.        , 1.        , 1.        ]],\n",
              "\n",
              "        [[1.        , 1.        , 1.        ],\n",
              "         [0.99607843, 0.99607843, 0.99607843],\n",
              "         [0.99607843, 0.99607843, 0.99607843],\n",
              "         ...,\n",
              "         [0.99607843, 0.99607843, 0.99607843],\n",
              "         [0.99607843, 0.99607843, 0.99607843],\n",
              "         [0.99607843, 0.99607843, 0.99607843]],\n",
              "\n",
              "        ...,\n",
              "\n",
              "        [[0.44313725, 0.47058824, 0.43921569],\n",
              "         [0.43529412, 0.4627451 , 0.43529412],\n",
              "         [0.41176471, 0.43921569, 0.41568627],\n",
              "         ...,\n",
              "         [0.28235294, 0.31764706, 0.31372549],\n",
              "         [0.28235294, 0.31372549, 0.30980392],\n",
              "         [0.28235294, 0.31372549, 0.30980392]],\n",
              "\n",
              "        [[0.43529412, 0.4627451 , 0.43137255],\n",
              "         [0.40784314, 0.43529412, 0.40784314],\n",
              "         [0.38823529, 0.41568627, 0.38431373],\n",
              "         ...,\n",
              "         [0.26666667, 0.29411765, 0.28627451],\n",
              "         [0.2745098 , 0.29803922, 0.29411765],\n",
              "         [0.30588235, 0.32941176, 0.32156863]],\n",
              "\n",
              "        [[0.41568627, 0.44313725, 0.41176471],\n",
              "         [0.38823529, 0.41568627, 0.38431373],\n",
              "         [0.37254902, 0.4       , 0.36862745],\n",
              "         ...,\n",
              "         [0.30588235, 0.33333333, 0.3254902 ],\n",
              "         [0.30980392, 0.33333333, 0.3254902 ],\n",
              "         [0.31372549, 0.3372549 , 0.32941176]]],\n",
              "\n",
              "\n",
              "       ...,\n",
              "\n",
              "\n",
              "       [[[0.1372549 , 0.69803922, 0.92156863],\n",
              "         [0.15686275, 0.69019608, 0.9372549 ],\n",
              "         [0.16470588, 0.69019608, 0.94509804],\n",
              "         ...,\n",
              "         [0.38823529, 0.69411765, 0.85882353],\n",
              "         [0.30980392, 0.57647059, 0.77254902],\n",
              "         [0.34901961, 0.58039216, 0.74117647]],\n",
              "\n",
              "        [[0.22352941, 0.71372549, 0.91764706],\n",
              "         [0.17254902, 0.72156863, 0.98039216],\n",
              "         [0.19607843, 0.71764706, 0.94117647],\n",
              "         ...,\n",
              "         [0.61176471, 0.71372549, 0.78431373],\n",
              "         [0.55294118, 0.69411765, 0.80784314],\n",
              "         [0.45490196, 0.58431373, 0.68627451]],\n",
              "\n",
              "        [[0.38431373, 0.77254902, 0.92941176],\n",
              "         [0.25098039, 0.74117647, 0.98823529],\n",
              "         [0.27058824, 0.75294118, 0.96078431],\n",
              "         ...,\n",
              "         [0.7372549 , 0.76470588, 0.80784314],\n",
              "         [0.46666667, 0.52941176, 0.57647059],\n",
              "         [0.23921569, 0.30980392, 0.35294118]],\n",
              "\n",
              "        ...,\n",
              "\n",
              "        [[0.28627451, 0.30980392, 0.30196078],\n",
              "         [0.20784314, 0.24705882, 0.26666667],\n",
              "         [0.21176471, 0.26666667, 0.31372549],\n",
              "         ...,\n",
              "         [0.06666667, 0.15686275, 0.25098039],\n",
              "         [0.08235294, 0.14117647, 0.2       ],\n",
              "         [0.12941176, 0.18823529, 0.19215686]],\n",
              "\n",
              "        [[0.23921569, 0.26666667, 0.29411765],\n",
              "         [0.21568627, 0.2745098 , 0.3372549 ],\n",
              "         [0.22352941, 0.30980392, 0.40392157],\n",
              "         ...,\n",
              "         [0.09411765, 0.18823529, 0.28235294],\n",
              "         [0.06666667, 0.1372549 , 0.20784314],\n",
              "         [0.02745098, 0.09019608, 0.1254902 ]],\n",
              "\n",
              "        [[0.17254902, 0.21960784, 0.28627451],\n",
              "         [0.18039216, 0.25882353, 0.34509804],\n",
              "         [0.19215686, 0.30196078, 0.41176471],\n",
              "         ...,\n",
              "         [0.10588235, 0.20392157, 0.30196078],\n",
              "         [0.08235294, 0.16862745, 0.25882353],\n",
              "         [0.04705882, 0.12156863, 0.19607843]]],\n",
              "\n",
              "\n",
              "       [[[0.74117647, 0.82745098, 0.94117647],\n",
              "         [0.72941176, 0.81568627, 0.9254902 ],\n",
              "         [0.7254902 , 0.81176471, 0.92156863],\n",
              "         ...,\n",
              "         [0.68627451, 0.76470588, 0.87843137],\n",
              "         [0.6745098 , 0.76078431, 0.87058824],\n",
              "         [0.6627451 , 0.76078431, 0.8627451 ]],\n",
              "\n",
              "        [[0.76078431, 0.82352941, 0.9372549 ],\n",
              "         [0.74901961, 0.81176471, 0.9254902 ],\n",
              "         [0.74509804, 0.80784314, 0.92156863],\n",
              "         ...,\n",
              "         [0.67843137, 0.75294118, 0.8627451 ],\n",
              "         [0.67058824, 0.74901961, 0.85490196],\n",
              "         [0.65490196, 0.74509804, 0.84705882]],\n",
              "\n",
              "        [[0.81568627, 0.85882353, 0.95686275],\n",
              "         [0.80392157, 0.84705882, 0.94117647],\n",
              "         [0.8       , 0.84313725, 0.9372549 ],\n",
              "         ...,\n",
              "         [0.68627451, 0.74901961, 0.85098039],\n",
              "         [0.6745098 , 0.74509804, 0.84705882],\n",
              "         [0.6627451 , 0.74901961, 0.84313725]],\n",
              "\n",
              "        ...,\n",
              "\n",
              "        [[0.81176471, 0.78039216, 0.70980392],\n",
              "         [0.79607843, 0.76470588, 0.68627451],\n",
              "         [0.79607843, 0.76862745, 0.67843137],\n",
              "         ...,\n",
              "         [0.52941176, 0.51764706, 0.49803922],\n",
              "         [0.63529412, 0.61960784, 0.58823529],\n",
              "         [0.65882353, 0.63921569, 0.59215686]],\n",
              "\n",
              "        [[0.77647059, 0.74509804, 0.66666667],\n",
              "         [0.74117647, 0.70980392, 0.62352941],\n",
              "         [0.70588235, 0.6745098 , 0.57647059],\n",
              "         ...,\n",
              "         [0.69803922, 0.67058824, 0.62745098],\n",
              "         [0.68627451, 0.6627451 , 0.61176471],\n",
              "         [0.68627451, 0.6627451 , 0.60392157]],\n",
              "\n",
              "        [[0.77647059, 0.74117647, 0.67843137],\n",
              "         [0.74117647, 0.70980392, 0.63529412],\n",
              "         [0.69803922, 0.66666667, 0.58431373],\n",
              "         ...,\n",
              "         [0.76470588, 0.72156863, 0.6627451 ],\n",
              "         [0.76862745, 0.74117647, 0.67058824],\n",
              "         [0.76470588, 0.74509804, 0.67058824]]],\n",
              "\n",
              "\n",
              "       [[[0.89803922, 0.89803922, 0.9372549 ],\n",
              "         [0.9254902 , 0.92941176, 0.96862745],\n",
              "         [0.91764706, 0.9254902 , 0.96862745],\n",
              "         ...,\n",
              "         [0.85098039, 0.85882353, 0.91372549],\n",
              "         [0.86666667, 0.8745098 , 0.91764706],\n",
              "         [0.87058824, 0.8745098 , 0.91372549]],\n",
              "\n",
              "        [[0.87058824, 0.86666667, 0.89803922],\n",
              "         [0.9372549 , 0.9372549 , 0.97647059],\n",
              "         [0.91372549, 0.91764706, 0.96470588],\n",
              "         ...,\n",
              "         [0.8745098 , 0.8745098 , 0.9254902 ],\n",
              "         [0.89019608, 0.89411765, 0.93333333],\n",
              "         [0.82352941, 0.82745098, 0.8627451 ]],\n",
              "\n",
              "        [[0.83529412, 0.80784314, 0.82745098],\n",
              "         [0.91764706, 0.90980392, 0.9372549 ],\n",
              "         [0.90588235, 0.91372549, 0.95686275],\n",
              "         ...,\n",
              "         [0.8627451 , 0.8627451 , 0.90980392],\n",
              "         [0.8627451 , 0.85882353, 0.90980392],\n",
              "         [0.79215686, 0.79607843, 0.84313725]],\n",
              "\n",
              "        ...,\n",
              "\n",
              "        [[0.58823529, 0.56078431, 0.52941176],\n",
              "         [0.54901961, 0.52941176, 0.49803922],\n",
              "         [0.51764706, 0.49803922, 0.47058824],\n",
              "         ...,\n",
              "         [0.87843137, 0.87058824, 0.85490196],\n",
              "         [0.90196078, 0.89411765, 0.88235294],\n",
              "         [0.94509804, 0.94509804, 0.93333333]],\n",
              "\n",
              "        [[0.5372549 , 0.51764706, 0.49411765],\n",
              "         [0.50980392, 0.49803922, 0.47058824],\n",
              "         [0.49019608, 0.4745098 , 0.45098039],\n",
              "         ...,\n",
              "         [0.70980392, 0.70588235, 0.69803922],\n",
              "         [0.79215686, 0.78823529, 0.77647059],\n",
              "         [0.83137255, 0.82745098, 0.81176471]],\n",
              "\n",
              "        [[0.47843137, 0.46666667, 0.44705882],\n",
              "         [0.4627451 , 0.45490196, 0.43137255],\n",
              "         [0.47058824, 0.45490196, 0.43529412],\n",
              "         ...,\n",
              "         [0.70196078, 0.69411765, 0.67843137],\n",
              "         [0.64313725, 0.64313725, 0.63529412],\n",
              "         [0.63921569, 0.63921569, 0.63137255]]]])"
            ]
          },
          "metadata": {},
          "execution_count": 11
        }
      ]
    },
    {
      "cell_type": "code",
      "source": [
        "x_test=x_test/255"
      ],
      "metadata": {
        "id": "l6rBTDT1Wi-e"
      },
      "execution_count": 12,
      "outputs": []
    },
    {
      "cell_type": "code",
      "source": [
        "y_train[15]"
      ],
      "metadata": {
        "colab": {
          "base_uri": "https://localhost:8080/"
        },
        "id": "VoqvxiSx4Xzj",
        "outputId": "3095de6f-b505-42f2-ff9f-4d2cedf09010"
      },
      "execution_count": 13,
      "outputs": [
        {
          "output_type": "execute_result",
          "data": {
            "text/plain": [
              "array([9], dtype=uint8)"
            ]
          },
          "metadata": {},
          "execution_count": 13
        }
      ]
    },
    {
      "cell_type": "markdown",
      "source": [
        "##One-hot encoding"
      ],
      "metadata": {
        "id": "brPLYemvZOeV"
      }
    },
    {
      "cell_type": "code",
      "source": [
        "from keras.utils import to_categorical\n",
        "y_train_cat = to_categorical(y_train)\n",
        "\n",
        "y_train_cat[15]"
      ],
      "metadata": {
        "colab": {
          "base_uri": "https://localhost:8080/"
        },
        "id": "Fxw4htSH6R0d",
        "outputId": "ec9c22ca-784a-42d8-9b6c-2e48430450dd"
      },
      "execution_count": 14,
      "outputs": [
        {
          "output_type": "execute_result",
          "data": {
            "text/plain": [
              "array([0., 0., 0., 0., 0., 0., 0., 0., 0., 1.], dtype=float32)"
            ]
          },
          "metadata": {},
          "execution_count": 14
        }
      ]
    },
    {
      "cell_type": "code",
      "source": [
        "y_test_cat = to_categorical(y_test)"
      ],
      "metadata": {
        "id": "XYin4th2dMD_"
      },
      "execution_count": 15,
      "outputs": []
    },
    {
      "cell_type": "markdown",
      "source": [
        "##Part 2"
      ],
      "metadata": {
        "id": "8kf-WGcWZlMc"
      }
    },
    {
      "cell_type": "code",
      "source": [
        "tf.keras.optimizers.SGD(\n",
        "    learning_rate=0.01, momentum=0.0, nesterov=False, name='SGD'\n",
        ")"
      ],
      "metadata": {
        "colab": {
          "base_uri": "https://localhost:8080/"
        },
        "id": "t2zOpIZcJ29S",
        "outputId": "8e1f5a31-0eda-4648-bafa-88525be9be18"
      },
      "execution_count": 16,
      "outputs": [
        {
          "output_type": "execute_result",
          "data": {
            "text/plain": [
              "<keras.optimizers.optimizer_v2.gradient_descent.SGD at 0x7f4f5385e790>"
            ]
          },
          "metadata": {},
          "execution_count": 16
        }
      ]
    },
    {
      "cell_type": "markdown",
      "source": [
        "We create the neural network :"
      ],
      "metadata": {
        "id": "s_mOBdOuaIGH"
      }
    },
    {
      "cell_type": "code",
      "source": [
        "model = tf.keras.models.Sequential([\n",
        "    tf.keras.layers.Flatten(input_shape=(32,32,3)),\n",
        "    tf.keras.layers.Dense(1024, activation='relu'),\n",
        "    tf.keras.layers.Dense(512, activation='relu'),\n",
        "    tf.keras.layers.Dense(256, activation='relu'),\n",
        "    tf.keras.layers.Dense(128, activation='relu'),\n",
        "    tf.keras.layers.Dense(64, activation='relu'),\n",
        "    tf.keras.layers.Dense(10, activation='softmax')\n",
        "    \n",
        "])"
      ],
      "metadata": {
        "id": "8P4GJEVfKWkl"
      },
      "execution_count": 17,
      "outputs": []
    },
    {
      "cell_type": "code",
      "source": [
        "model.summary()"
      ],
      "metadata": {
        "colab": {
          "base_uri": "https://localhost:8080/"
        },
        "id": "c3aRLoTfX0lt",
        "outputId": "2b05024a-7f99-4e60-ccdd-77c50e09671b"
      },
      "execution_count": 18,
      "outputs": [
        {
          "output_type": "stream",
          "name": "stdout",
          "text": [
            "Model: \"sequential\"\n",
            "_________________________________________________________________\n",
            " Layer (type)                Output Shape              Param #   \n",
            "=================================================================\n",
            " flatten (Flatten)           (None, 3072)              0         \n",
            "                                                                 \n",
            " dense (Dense)               (None, 1024)              3146752   \n",
            "                                                                 \n",
            " dense_1 (Dense)             (None, 512)               524800    \n",
            "                                                                 \n",
            " dense_2 (Dense)             (None, 256)               131328    \n",
            "                                                                 \n",
            " dense_3 (Dense)             (None, 128)               32896     \n",
            "                                                                 \n",
            " dense_4 (Dense)             (None, 64)                8256      \n",
            "                                                                 \n",
            " dense_5 (Dense)             (None, 10)                650       \n",
            "                                                                 \n",
            "=================================================================\n",
            "Total params: 3,844,682\n",
            "Trainable params: 3,844,682\n",
            "Non-trainable params: 0\n",
            "_________________________________________________________________\n"
          ]
        }
      ]
    },
    {
      "cell_type": "code",
      "source": [
        "tf.keras.utils.plot_model(model)"
      ],
      "metadata": {
        "colab": {
          "base_uri": "https://localhost:8080/",
          "height": 758
        },
        "id": "OXBL2A9_X_x8",
        "outputId": "604dbfd8-1452-4917-e94f-73d2807e5d5c"
      },
      "execution_count": 19,
      "outputs": [
        {
          "output_type": "execute_result",
          "data": {
            "image/png": "[encoded data removed]",
            "text/plain": [
              "<IPython.core.display.Image object>"
            ]
          },
          "metadata": {},
          "execution_count": 19
        }
      ]
    },
    {
      "cell_type": "code",
      "source": [
        "from tensorflow import keras\n",
        "model.compile(optimizer=keras.optimizers.SGD(learning_rate=0.01), loss=keras.losses.categorical_crossentropy, metrics=[\"accuracy\"])"
      ],
      "metadata": {
        "id": "Mf12CUF3YkYk"
      },
      "execution_count": 20,
      "outputs": []
    },
    {
      "cell_type": "markdown",
      "source": [
        "we fit the model with parameters told in description:"
      ],
      "metadata": {
        "id": "z2oENNWoaQ5Y"
      }
    },
    {
      "cell_type": "code",
      "source": [
        "log=model.fit(x_train,y_train_cat,validation_data=(x_test, y_test_cat),epochs=10,batch_size=32)"
      ],
      "metadata": {
        "colab": {
          "base_uri": "https://localhost:8080/"
        },
        "id": "NZRQGJAScgps",
        "outputId": "b48b26ac-3d79-4311-c02a-7f02068ab7f3"
      },
      "execution_count": 22,
      "outputs": [
        {
          "output_type": "stream",
          "name": "stdout",
          "text": [
            "Epoch 1/10\n",
            "1563/1563 [==============================] - 36s 23ms/step - loss: 1.6393 - accuracy: 0.4176 - val_loss: 1.6787 - val_accuracy: 0.4015\n",
            "Epoch 2/10\n",
            "1563/1563 [==============================] - 38s 24ms/step - loss: 1.5555 - accuracy: 0.4434 - val_loss: 1.6117 - val_accuracy: 0.4139\n",
            "Epoch 3/10\n",
            "1563/1563 [==============================] - 37s 24ms/step - loss: 1.4980 - accuracy: 0.4658 - val_loss: 1.5753 - val_accuracy: 0.4196\n",
            "Epoch 4/10\n",
            "1563/1563 [==============================] - 37s 24ms/step - loss: 1.4527 - accuracy: 0.4825 - val_loss: 1.5304 - val_accuracy: 0.4489\n",
            "Epoch 5/10\n",
            "1563/1563 [==============================] - 36s 23ms/step - loss: 1.4106 - accuracy: 0.4983 - val_loss: 1.5152 - val_accuracy: 0.4567\n",
            "Epoch 6/10\n",
            "1563/1563 [==============================] - 37s 23ms/step - loss: 1.3755 - accuracy: 0.5088 - val_loss: 1.4460 - val_accuracy: 0.4850\n",
            "Epoch 7/10\n",
            "1563/1563 [==============================] - 37s 23ms/step - loss: 1.3355 - accuracy: 0.5220 - val_loss: 1.4089 - val_accuracy: 0.4976\n",
            "Epoch 8/10\n",
            "1563/1563 [==============================] - 37s 24ms/step - loss: 1.3057 - accuracy: 0.5326 - val_loss: 1.5293 - val_accuracy: 0.4650\n",
            "Epoch 9/10\n",
            "1563/1563 [==============================] - 39s 25ms/step - loss: 1.2759 - accuracy: 0.5449 - val_loss: 1.4599 - val_accuracy: 0.4793\n",
            "Epoch 10/10\n",
            "1563/1563 [==============================] - 38s 24ms/step - loss: 1.2458 - accuracy: 0.5557 - val_loss: 1.3879 - val_accuracy: 0.5053\n"
          ]
        }
      ]
    },
    {
      "cell_type": "markdown",
      "source": [
        "We use bulit-in classification_report for getting the dtails of our training "
      ],
      "metadata": {
        "id": "01cfsho9aevc"
      }
    },
    {
      "cell_type": "code",
      "source": [
        "from sklearn.metrics import classification_report\n",
        "\n",
        "y_train_pred=model.predict(x_train)\n",
        "\n",
        "y_train_pred\n"
      ],
      "metadata": {
        "colab": {
          "base_uri": "https://localhost:8080/"
        },
        "id": "EI9bZQhLKkXo",
        "outputId": "46e57949-e0d2-4a93-cd2a-6d91feb47972"
      },
      "execution_count": 23,
      "outputs": [
        {
          "output_type": "stream",
          "name": "stdout",
          "text": [
            "1563/1563 [==============================] - 14s 9ms/step\n"
          ]
        },
        {
          "output_type": "execute_result",
          "data": {
            "text/plain": [
              "array([[4.4568490e-02, 2.1633795e-03, 3.8650617e-02, ..., 5.8947027e-02,\n",
              "        1.1746038e-03, 7.2103849e-04],\n",
              "       [2.0014327e-02, 3.2848656e-01, 1.0202352e-03, ..., 1.4204381e-03,\n",
              "        3.2509178e-01, 3.1942341e-01],\n",
              "       [1.4727553e-02, 9.1239577e-03, 1.0426984e-03, ..., 3.6224596e-02,\n",
              "        2.1123486e-02, 9.0643883e-01],\n",
              "       ...,\n",
              "       [1.6723759e-02, 1.3454178e-02, 7.9369399e-04, ..., 3.7453678e-03,\n",
              "        2.7899714e-02, 9.3282050e-01],\n",
              "       [4.1281234e-02, 3.1708720e-01, 1.3856021e-04, ..., 3.9106846e-04,\n",
              "        5.3661752e-01, 1.0369504e-01],\n",
              "       [5.2646118e-01, 4.4433530e-02, 1.3827098e-02, ..., 2.5764292e-01,\n",
              "        5.3291362e-02, 4.2763487e-02]], dtype=float32)"
            ]
          },
          "metadata": {},
          "execution_count": 23
        }
      ]
    },
    {
      "cell_type": "code",
      "source": [
        "y_train_pred=np.argmax(y_train_pred,axis=1)\n",
        "y_train_pred"
      ],
      "metadata": {
        "colab": {
          "base_uri": "https://localhost:8080/"
        },
        "id": "vHIRsYGiNume",
        "outputId": "99b85470-a234-4e07-e521-08368a4d5906"
      },
      "execution_count": 24,
      "outputs": [
        {
          "output_type": "execute_result",
          "data": {
            "text/plain": [
              "array([6, 1, 9, ..., 9, 8, 0])"
            ]
          },
          "metadata": {},
          "execution_count": 24
        }
      ]
    },
    {
      "cell_type": "code",
      "source": [
        "train_report=classification_report(y_train, y_train_pred)\n",
        "print(train_report)"
      ],
      "metadata": {
        "colab": {
          "base_uri": "https://localhost:8080/"
        },
        "id": "aqloNLAeN76m",
        "outputId": "6e401d3b-ba69-4827-e216-2b257528c498"
      },
      "execution_count": 25,
      "outputs": [
        {
          "output_type": "stream",
          "name": "stdout",
          "text": [
            "              precision    recall  f1-score   support\n",
            "\n",
            "           0       0.50      0.67      0.57      5000\n",
            "           1       0.74      0.68      0.71      5000\n",
            "           2       0.54      0.28      0.37      5000\n",
            "           3       0.47      0.38      0.42      5000\n",
            "           4       0.51      0.51      0.51      5000\n",
            "           5       0.61      0.31      0.41      5000\n",
            "           6       0.48      0.76      0.59      5000\n",
            "           7       0.71      0.63      0.67      5000\n",
            "           8       0.52      0.80      0.63      5000\n",
            "           9       0.68      0.62      0.65      5000\n",
            "\n",
            "    accuracy                           0.56     50000\n",
            "   macro avg       0.58      0.56      0.55     50000\n",
            "weighted avg       0.58      0.56      0.55     50000\n",
            "\n"
          ]
        }
      ]
    },
    {
      "cell_type": "code",
      "source": [
        "y_test_pred=model.predict(x_test)\n",
        "\n",
        "y_test_pred"
      ],
      "metadata": {
        "colab": {
          "base_uri": "https://localhost:8080/"
        },
        "id": "881d2AMtO12G",
        "outputId": "8d127ed1-8deb-4190-b89c-4fb33fe10b9d"
      },
      "execution_count": 26,
      "outputs": [
        {
          "output_type": "stream",
          "name": "stdout",
          "text": [
            "313/313 [==============================] - 3s 9ms/step\n"
          ]
        },
        {
          "output_type": "execute_result",
          "data": {
            "text/plain": [
              "array([[1.7633733e-01, 1.4657721e-01, 9.3479410e-02, ..., 3.8588133e-03,\n",
              "        1.7001846e-01, 1.2653032e-02],\n",
              "       [1.6380340e-02, 3.7244540e-02, 2.2245709e-04, ..., 4.2474500e-04,\n",
              "        8.7689763e-01, 6.6797398e-02],\n",
              "       [2.9784897e-01, 3.5209607e-02, 1.4891708e-03, ..., 1.9460068e-03,\n",
              "        6.3762432e-01, 2.1664014e-02],\n",
              "       ...,\n",
              "       [1.3277239e-02, 9.3367795e-04, 1.6510518e-01, ..., 3.5031673e-02,\n",
              "        1.3203335e-02, 7.0504313e-03],\n",
              "       [1.0803318e-01, 7.3818243e-03, 6.3292354e-02, ..., 3.5044454e-02,\n",
              "        4.0477473e-02, 1.5932171e-02],\n",
              "       [3.2919206e-02, 3.5529472e-03, 4.5120340e-02, ..., 7.1927053e-01,\n",
              "        6.1638569e-03, 1.3081818e-02]], dtype=float32)"
            ]
          },
          "metadata": {},
          "execution_count": 26
        }
      ]
    },
    {
      "cell_type": "code",
      "source": [
        "y_test_pred=np.argmax(y_test_pred,axis=1)\n",
        "y_test_pred"
      ],
      "metadata": {
        "colab": {
          "base_uri": "https://localhost:8080/"
        },
        "id": "ONV8jkqvPCBM",
        "outputId": "a6357ec2-544c-401d-8c3c-7934d2eeedbe"
      },
      "execution_count": 27,
      "outputs": [
        {
          "output_type": "execute_result",
          "data": {
            "text/plain": [
              "array([0, 8, 8, ..., 3, 6, 7])"
            ]
          },
          "metadata": {},
          "execution_count": 27
        }
      ]
    },
    {
      "cell_type": "code",
      "source": [
        "test_report=classification_report(y_test, y_test_pred)\n",
        "print(test_report)"
      ],
      "metadata": {
        "colab": {
          "base_uri": "https://localhost:8080/"
        },
        "id": "tcEZYXKTPHo_",
        "outputId": "4236be42-0bb6-41be-b2d1-fe4acc60bedc"
      },
      "execution_count": 28,
      "outputs": [
        {
          "output_type": "stream",
          "name": "stdout",
          "text": [
            "              precision    recall  f1-score   support\n",
            "\n",
            "           0       0.47      0.64      0.54      1000\n",
            "           1       0.68      0.58      0.63      1000\n",
            "           2       0.48      0.24      0.32      1000\n",
            "           3       0.40      0.31      0.35      1000\n",
            "           4       0.46      0.45      0.46      1000\n",
            "           5       0.54      0.28      0.36      1000\n",
            "           6       0.45      0.73      0.56      1000\n",
            "           7       0.64      0.54      0.58      1000\n",
            "           8       0.46      0.76      0.57      1000\n",
            "           9       0.59      0.53      0.56      1000\n",
            "\n",
            "    accuracy                           0.51     10000\n",
            "   macro avg       0.52      0.51      0.49     10000\n",
            "weighted avg       0.52      0.51      0.49     10000\n",
            "\n"
          ]
        }
      ]
    },
    {
      "cell_type": "markdown",
      "source": [
        "##plots"
      ],
      "metadata": {
        "id": "Si40dl1ePqE2"
      }
    },
    {
      "cell_type": "code",
      "source": [
        "import matplotlib.pyplot as plt\n"
      ],
      "metadata": {
        "id": "eeSLsDa_RGrL"
      },
      "execution_count": 29,
      "outputs": []
    },
    {
      "cell_type": "code",
      "source": [
        "plt.plot(log.history['accuracy'])\n",
        "plt.plot(log.history['val_accuracy'])\n",
        "plt.xlabel('epoches')\n",
        "plt.ylabel('accuracy')\n",
        "plt.show()"
      ],
      "metadata": {
        "colab": {
          "base_uri": "https://localhost:8080/",
          "height": 279
        },
        "id": "TYcAMtGZPT62",
        "outputId": "628e2467-176b-47d7-dac9-732e44e1a7c3"
      },
      "execution_count": 30,
      "outputs": [
        {
          "output_type": "display_data",
          "data": {
            "text/plain": [
              "<Figure size 432x288 with 1 Axes>"
            ],
            "image/png": "[encoded data removed]"
          },
          "metadata": {
            "needs_background": "light"
          }
        }
      ]
    },
    {
      "cell_type": "code",
      "source": [
        "plt.plot(log.history['loss'])\n",
        "plt.plot(log.history['val_loss'])\n",
        "plt.xlabel('epoches')\n",
        "plt.ylabel('loss')\n",
        "plt.show()"
      ],
      "metadata": {
        "colab": {
          "base_uri": "https://localhost:8080/",
          "height": 283
        },
        "id": "EpcS7Qr6RQAi",
        "outputId": "4c741933-c81e-473b-9e7e-788da06a9c23"
      },
      "execution_count": 31,
      "outputs": [
        {
          "output_type": "display_data",
          "data": {
            "text/plain": [
              "<Figure size 432x288 with 1 Axes>"
            ],
            "image/png": "[encoded data removed]"
          },
          "metadata": {
            "needs_background": "light"
          }
        }
      ]
    },
    {
      "cell_type": "markdown",
      "source": [
        "##Part 2\n",
        "\n",
        "\n",
        "##Optimizer"
      ],
      "metadata": {
        "id": "WfOvGC6t8t9K"
      }
    },
    {
      "cell_type": "markdown",
      "source": [
        "Momentum is a technique to prevent sensitive movement. When the gradient gets computed every iteration, it can have totally different direction and the steps make a zigzag path, which makes training very slow."
      ],
      "metadata": {
        "id": "BP-mI_I88zyI"
      }
    },
    {
      "cell_type": "markdown",
      "source": [
        "![momentum.jpg](data:image/jpeg;base64,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)"
      ],
      "metadata": {
        "id": "LCdinccW895N"
      }
    },
    {
      "cell_type": "markdown",
      "source": [
        "BackPropagation updating changes when in this way , when using a momentum :"
      ],
      "metadata": {
        "id": "nvnNzkiq9_sX"
      }
    },
    {
      "cell_type": "markdown",
      "source": [
        "![mom-formula.jpg](data:image/jpeg;base64,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)"
      ],
      "metadata": {
        "id": "ukksCCFF-Pjm"
      }
    },
    {
      "cell_type": "markdown",
      "source": [
        "In fact in implementing momentum ,We add an additional hyperparameter that controls the amount of history (momentum) to include in the update equation.\n",
        "Using momentum help the model with speeding up learning process and skipping local minnums."
      ],
      "metadata": {
        "id": "OnvFt-yzAHIW"
      }
    },
    {
      "cell_type": "markdown",
      "source": [
        "momentum =0.5:"
      ],
      "metadata": {
        "id": "KvbSJnAtCEzA"
      }
    },
    {
      "cell_type": "code",
      "source": [
        "model2 = tf.keras.models.Sequential([\n",
        "    tf.keras.layers.Flatten(input_shape=(32,32,3)),\n",
        "    tf.keras.layers.Dense(1024, activation='relu'),\n",
        "    tf.keras.layers.Dense(512, activation='relu'),\n",
        "    tf.keras.layers.Dense(256, activation='relu'),\n",
        "    tf.keras.layers.Dense(128, activation='relu'),\n",
        "    tf.keras.layers.Dense(64, activation='relu'),\n",
        "    tf.keras.layers.Dense(10, activation='softmax')\n",
        "\n",
        "])\n",
        "\n",
        "\n"
      ],
      "metadata": {
        "id": "UbUX2gjKA20f"
      },
      "execution_count": 32,
      "outputs": []
    },
    {
      "cell_type": "code",
      "source": [
        "model2.compile(optimizer=keras.optimizers.SGD(learning_rate=0.01,momentum=0.5), loss=keras.losses.categorical_crossentropy, metrics=[\"accuracy\"])"
      ],
      "metadata": {
        "id": "zQ_iLak9Ct_S"
      },
      "execution_count": 33,
      "outputs": []
    },
    {
      "cell_type": "code",
      "source": [
        "log2=model2.fit(x_train,y_train_cat,validation_data=(x_test, y_test_cat),epochs=10,batch_size=32)"
      ],
      "metadata": {
        "colab": {
          "base_uri": "https://localhost:8080/"
        },
        "id": "yU2gcJF0C_Qm",
        "outputId": "a8f69e14-2a74-4387-c21d-0d98f67f62f0"
      },
      "execution_count": 34,
      "outputs": [
        {
          "output_type": "stream",
          "name": "stdout",
          "text": [
            "Epoch 1/10\n",
            "1563/1563 [==============================] - 44s 28ms/step - loss: 1.8390 - accuracy: 0.3316 - val_loss: 1.6958 - val_accuracy: 0.3962\n",
            "Epoch 2/10\n",
            "1563/1563 [==============================] - 44s 28ms/step - loss: 1.6404 - accuracy: 0.4116 - val_loss: 1.5850 - val_accuracy: 0.4332\n",
            "Epoch 3/10\n",
            "1563/1563 [==============================] - 47s 30ms/step - loss: 1.5509 - accuracy: 0.4449 - val_loss: 1.5470 - val_accuracy: 0.4450\n",
            "Epoch 4/10\n",
            "1563/1563 [==============================] - 57s 36ms/step - loss: 1.4866 - accuracy: 0.4702 - val_loss: 1.4603 - val_accuracy: 0.4864\n",
            "Epoch 5/10\n",
            "1563/1563 [==============================] - 45s 29ms/step - loss: 1.4379 - accuracy: 0.4868 - val_loss: 1.4678 - val_accuracy: 0.4722\n",
            "Epoch 6/10\n",
            "1563/1563 [==============================] - 42s 27ms/step - loss: 1.3943 - accuracy: 0.5018 - val_loss: 1.4168 - val_accuracy: 0.4947\n",
            "Epoch 7/10\n",
            "1563/1563 [==============================] - 43s 28ms/step - loss: 1.3536 - accuracy: 0.5142 - val_loss: 1.4760 - val_accuracy: 0.4836\n",
            "Epoch 8/10\n",
            "1563/1563 [==============================] - 43s 27ms/step - loss: 1.3186 - accuracy: 0.5281 - val_loss: 1.3906 - val_accuracy: 0.5061\n",
            "Epoch 9/10\n",
            "1563/1563 [==============================] - 44s 28ms/step - loss: 1.2847 - accuracy: 0.5422 - val_loss: 1.3994 - val_accuracy: 0.5037\n",
            "Epoch 10/10\n",
            "1563/1563 [==============================] - 50s 32ms/step - loss: 1.2491 - accuracy: 0.5542 - val_loss: 1.3995 - val_accuracy: 0.5019\n"
          ]
        }
      ]
    },
    {
      "cell_type": "code",
      "source": [
        "y_train_pred2=model2.predict(x_train)\n",
        "y_train_pred2=np.argmax(y_train_pred2,axis=1)\n",
        "train_report2=classification_report(y_train, y_train_pred2)\n",
        "print(train_report2)\n"
      ],
      "metadata": {
        "colab": {
          "base_uri": "https://localhost:8080/"
        },
        "id": "zyi4BvFwTUR4",
        "outputId": "a60f176f-940d-4f75-8824-a437bda49cb9"
      },
      "execution_count": 35,
      "outputs": [
        {
          "output_type": "stream",
          "name": "stdout",
          "text": [
            "1563/1563 [==============================] - 14s 9ms/step\n",
            "              precision    recall  f1-score   support\n",
            "\n",
            "           0       0.61      0.58      0.60      5000\n",
            "           1       0.60      0.81      0.69      5000\n",
            "           2       0.55      0.26      0.35      5000\n",
            "           3       0.59      0.16      0.25      5000\n",
            "           4       0.41      0.62      0.49      5000\n",
            "           5       0.50      0.47      0.49      5000\n",
            "           6       0.51      0.71      0.59      5000\n",
            "           7       0.57      0.70      0.63      5000\n",
            "           8       0.58      0.80      0.68      5000\n",
            "           9       0.81      0.42      0.55      5000\n",
            "\n",
            "    accuracy                           0.55     50000\n",
            "   macro avg       0.57      0.55      0.53     50000\n",
            "weighted avg       0.57      0.55      0.53     50000\n",
            "\n"
          ]
        }
      ]
    },
    {
      "cell_type": "code",
      "source": [
        "y_test_pred2=model2.predict(x_test)\n",
        "y_test_pred2=np.argmax(y_test_pred2,axis=1)\n",
        "test_report2=classification_report(y_test, y_test_pred2)\n",
        "print(test_report2)\n"
      ],
      "metadata": {
        "colab": {
          "base_uri": "https://localhost:8080/"
        },
        "id": "3t6SZW_OUNGn",
        "outputId": "04aac652-6d13-4f13-ccfd-5c260bb50f33"
      },
      "execution_count": 36,
      "outputs": [
        {
          "output_type": "stream",
          "name": "stdout",
          "text": [
            "313/313 [==============================] - 3s 9ms/step\n",
            "              precision    recall  f1-score   support\n",
            "\n",
            "           0       0.59      0.56      0.58      1000\n",
            "           1       0.55      0.72      0.62      1000\n",
            "           2       0.46      0.23      0.30      1000\n",
            "           3       0.46      0.12      0.19      1000\n",
            "           4       0.38      0.56      0.45      1000\n",
            "           5       0.45      0.42      0.43      1000\n",
            "           6       0.47      0.67      0.56      1000\n",
            "           7       0.53      0.65      0.58      1000\n",
            "           8       0.53      0.74      0.62      1000\n",
            "           9       0.69      0.34      0.45      1000\n",
            "\n",
            "    accuracy                           0.50     10000\n",
            "   macro avg       0.51      0.50      0.48     10000\n",
            "weighted avg       0.51      0.50      0.48     10000\n",
            "\n"
          ]
        }
      ]
    },
    {
      "cell_type": "code",
      "source": [
        "plt.plot(log2.history['accuracy'])\n",
        "plt.plot(log2.history['val_accuracy'])\n",
        "plt.xlabel('epoches')\n",
        "plt.ylabel('accuracy')\n",
        "plt.show()"
      ],
      "metadata": {
        "colab": {
          "base_uri": "https://localhost:8080/",
          "height": 279
        },
        "id": "t7-hXlqXWjV2",
        "outputId": "bbd424e2-757e-4cf6-dcf6-051c7ebaa245"
      },
      "execution_count": 37,
      "outputs": [
        {
          "output_type": "display_data",
          "data": {
            "text/plain": [
              "<Figure size 432x288 with 1 Axes>"
            ],
            "image/png": "[encoded data removed]"
          },
          "metadata": {
            "needs_background": "light"
          }
        }
      ]
    },
    {
      "cell_type": "code",
      "source": [
        "plt.plot(log2.history['loss'])\n",
        "plt.plot(log2.history['val_loss'])\n",
        "plt.xlabel('epoches')\n",
        "plt.ylabel('loss')\n",
        "plt.show()"
      ],
      "metadata": {
        "colab": {
          "base_uri": "https://localhost:8080/",
          "height": 279
        },
        "id": "TELpV8uEWtkW",
        "outputId": "2d759ee5-dc27-40ce-d258-cc9fd3f4f981"
      },
      "execution_count": 38,
      "outputs": [
        {
          "output_type": "display_data",
          "data": {
            "text/plain": [
              "<Figure size 432x288 with 1 Axes>"
            ],
            "image/png": "[encoded data removed]"
          },
          "metadata": {
            "needs_background": "light"
          }
        }
      ]
    },
    {
      "cell_type": "markdown",
      "source": [
        "We see that it results a bit better than training without momentum"
      ],
      "metadata": {
        "id": "qeobdiNOI8hu"
      }
    },
    {
      "cell_type": "markdown",
      "source": [
        "momentum =0.9"
      ],
      "metadata": {
        "id": "cYgEOUONbIm0"
      }
    },
    {
      "cell_type": "code",
      "source": [
        "model2 = tf.keras.models.Sequential([\n",
        "    tf.keras.layers.Flatten(input_shape=(32,32,3)),\n",
        "    tf.keras.layers.Dense(1024, activation='relu'),\n",
        "    tf.keras.layers.Dense(512, activation='relu'),\n",
        "    tf.keras.layers.Dense(256, activation='relu'),\n",
        "    tf.keras.layers.Dense(128, activation='relu'),\n",
        "    tf.keras.layers.Dense(64, activation='relu'),\n",
        "    tf.keras.layers.Dense(10, activation='softmax')\n",
        "\n",
        "])"
      ],
      "metadata": {
        "id": "dn0OJAvGVvuy"
      },
      "execution_count": 39,
      "outputs": []
    },
    {
      "cell_type": "code",
      "source": [
        "model2.compile(optimizer=keras.optimizers.SGD(learning_rate=0.01,momentum=0.9), loss=keras.losses.categorical_crossentropy, metrics=[\"accuracy\"])"
      ],
      "metadata": {
        "id": "inRnr9b4VxiH"
      },
      "execution_count": 40,
      "outputs": []
    },
    {
      "cell_type": "code",
      "source": [
        "log2=model2.fit(x_train,y_train_cat,validation_data=(x_test, y_test_cat),epochs=10,batch_size=32)"
      ],
      "metadata": {
        "colab": {
          "base_uri": "https://localhost:8080/"
        },
        "id": "y8gIISz7WXpt",
        "outputId": "b0658d24-34ec-4a60-c138-024835c9eb32"
      },
      "execution_count": 41,
      "outputs": [
        {
          "output_type": "stream",
          "name": "stdout",
          "text": [
            "Epoch 1/10\n",
            "1563/1563 [==============================] - 47s 30ms/step - loss: 1.9024 - accuracy: 0.3006 - val_loss: 1.7756 - val_accuracy: 0.3631\n",
            "Epoch 2/10\n",
            "1563/1563 [==============================] - 55s 35ms/step - loss: 1.7250 - accuracy: 0.3749 - val_loss: 1.6897 - val_accuracy: 0.3888\n",
            "Epoch 3/10\n",
            "1563/1563 [==============================] - 51s 33ms/step - loss: 1.6399 - accuracy: 0.4100 - val_loss: 1.6178 - val_accuracy: 0.4172\n",
            "Epoch 4/10\n",
            "1563/1563 [==============================] - 47s 30ms/step - loss: 1.5778 - accuracy: 0.4305 - val_loss: 1.5265 - val_accuracy: 0.4465\n",
            "Epoch 5/10\n",
            "1563/1563 [==============================] - 47s 30ms/step - loss: 1.5267 - accuracy: 0.4514 - val_loss: 1.5847 - val_accuracy: 0.4304\n",
            "Epoch 6/10\n",
            "1563/1563 [==============================] - 49s 32ms/step - loss: 1.4897 - accuracy: 0.4653 - val_loss: 1.5211 - val_accuracy: 0.4586\n",
            "Epoch 7/10\n",
            "1563/1563 [==============================] - 48s 31ms/step - loss: 1.4473 - accuracy: 0.4814 - val_loss: 1.4826 - val_accuracy: 0.4711\n",
            "Epoch 8/10\n",
            "1563/1563 [==============================] - 48s 30ms/step - loss: 1.4232 - accuracy: 0.4905 - val_loss: 1.4719 - val_accuracy: 0.4743\n",
            "Epoch 9/10\n",
            "1563/1563 [==============================] - 50s 32ms/step - loss: 1.3882 - accuracy: 0.5027 - val_loss: 1.4443 - val_accuracy: 0.4901\n",
            "Epoch 10/10\n",
            "1563/1563 [==============================] - 47s 30ms/step - loss: 1.3611 - accuracy: 0.5125 - val_loss: 1.4233 - val_accuracy: 0.4968\n"
          ]
        }
      ]
    },
    {
      "cell_type": "code",
      "source": [
        "y_train_pred2=model2.predict(x_train)\n",
        "y_train_pred2=np.argmax(y_train_pred2,axis=1)\n",
        "train_report2=classification_report(y_train, y_train_pred2)\n",
        "print(train_report2)\n"
      ],
      "metadata": {
        "colab": {
          "base_uri": "https://localhost:8080/"
        },
        "id": "T7GX0PKIXQI7",
        "outputId": "284b96c6-1729-40a5-c025-c2a1a5ff5e68"
      },
      "execution_count": 42,
      "outputs": [
        {
          "output_type": "stream",
          "name": "stdout",
          "text": [
            "1563/1563 [==============================] - 15s 9ms/step\n",
            "              precision    recall  f1-score   support\n",
            "\n",
            "           0       0.58      0.59      0.59      5000\n",
            "           1       0.65      0.69      0.67      5000\n",
            "           2       0.41      0.46      0.43      5000\n",
            "           3       0.36      0.22      0.27      5000\n",
            "           4       0.54      0.37      0.44      5000\n",
            "           5       0.35      0.66      0.46      5000\n",
            "           6       0.61      0.52      0.56      5000\n",
            "           7       0.72      0.56      0.63      5000\n",
            "           8       0.65      0.69      0.67      5000\n",
            "           9       0.64      0.58      0.61      5000\n",
            "\n",
            "    accuracy                           0.53     50000\n",
            "   macro avg       0.55      0.53      0.53     50000\n",
            "weighted avg       0.55      0.53      0.53     50000\n",
            "\n"
          ]
        }
      ]
    },
    {
      "cell_type": "code",
      "source": [
        "y_test_pred2=model2.predict(x_test)\n",
        "y_test_pred2=np.argmax(y_test_pred2,axis=1)\n",
        "test_report2=classification_report(y_test, y_test_pred2)\n",
        "print(test_report2)"
      ],
      "metadata": {
        "colab": {
          "base_uri": "https://localhost:8080/"
        },
        "id": "VbH2ldxlXRAy",
        "outputId": "d6fe7179-57aa-48f5-b8cf-0d27d63391dc"
      },
      "execution_count": 43,
      "outputs": [
        {
          "output_type": "stream",
          "name": "stdout",
          "text": [
            "313/313 [==============================] - 3s 9ms/step\n",
            "              precision    recall  f1-score   support\n",
            "\n",
            "           0       0.55      0.57      0.56      1000\n",
            "           1       0.61      0.63      0.62      1000\n",
            "           2       0.37      0.43      0.40      1000\n",
            "           3       0.33      0.21      0.26      1000\n",
            "           4       0.51      0.31      0.39      1000\n",
            "           5       0.33      0.62      0.43      1000\n",
            "           6       0.56      0.51      0.54      1000\n",
            "           7       0.65      0.50      0.57      1000\n",
            "           8       0.61      0.66      0.64      1000\n",
            "           9       0.58      0.51      0.54      1000\n",
            "\n",
            "    accuracy                           0.50     10000\n",
            "   macro avg       0.51      0.50      0.49     10000\n",
            "weighted avg       0.51      0.50      0.49     10000\n",
            "\n"
          ]
        }
      ]
    },
    {
      "cell_type": "code",
      "source": [
        "plt.plot(log2.history['accuracy'])\n",
        "plt.plot(log2.history['val_accuracy'])\n",
        "plt.xlabel('epoches')\n",
        "plt.ylabel('accuracy')\n",
        "plt.show()"
      ],
      "metadata": {
        "colab": {
          "base_uri": "https://localhost:8080/",
          "height": 279
        },
        "id": "r-KZkQKGnE_q",
        "outputId": "e28d1e33-436f-47df-f19b-425f0f511dd5"
      },
      "execution_count": 44,
      "outputs": [
        {
          "output_type": "display_data",
          "data": {
            "text/plain": [
              "<Figure size 432x288 with 1 Axes>"
            ],
            "image/png": "[encoded data removed]"
          },
          "metadata": {
            "needs_background": "light"
          }
        }
      ]
    },
    {
      "cell_type": "code",
      "source": [
        "plt.plot(log2.history['loss'])\n",
        "plt.plot(log2.history['val_loss'])\n",
        "plt.xlabel('epoches')\n",
        "plt.ylabel('loss')\n",
        "plt.show()"
      ],
      "metadata": {
        "colab": {
          "base_uri": "https://localhost:8080/",
          "height": 279
        },
        "id": "3cXX-26jnPKJ",
        "outputId": "f5feddd5-9fbe-460d-9f5b-156608769611"
      },
      "execution_count": 45,
      "outputs": [
        {
          "output_type": "display_data",
          "data": {
            "text/plain": [
              "<Figure size 432x288 with 1 Axes>"
            ],
            "image/png": "[encoded data removed]"
          },
          "metadata": {
            "needs_background": "light"
          }
        }
      ]
    },
    {
      "cell_type": "markdown",
      "source": [
        "We can see that we had better results with momentum=0.5 , but this value also has a good impact, too."
      ],
      "metadata": {
        "id": "jTFyIA_WJd81"
      }
    },
    {
      "cell_type": "markdown",
      "source": [
        "momentum=0.98"
      ],
      "metadata": {
        "id": "KPmpXqtBbPBH"
      }
    },
    {
      "cell_type": "code",
      "source": [
        "model2 = tf.keras.models.Sequential([\n",
        "    tf.keras.layers.Flatten(input_shape=(32,32,3)),\n",
        "    tf.keras.layers.Dense(1024, activation='relu'),\n",
        "    tf.keras.layers.Dense(512, activation='relu'),\n",
        "    tf.keras.layers.Dense(256, activation='relu'),\n",
        "    tf.keras.layers.Dense(128, activation='relu'),\n",
        "    tf.keras.layers.Dense(64, activation='relu'),\n",
        "    tf.keras.layers.Dense(10, activation='softmax')\n",
        "\n",
        "])"
      ],
      "metadata": {
        "id": "LIcJe5DynWtu"
      },
      "execution_count": 153,
      "outputs": []
    },
    {
      "cell_type": "code",
      "source": [
        "model2.compile(optimizer=keras.optimizers.SGD(learning_rate=0.01,momentum=0.98), loss=keras.losses.categorical_crossentropy, metrics=[\"accuracy\"])"
      ],
      "metadata": {
        "id": "NNqw8dfyntme"
      },
      "execution_count": 154,
      "outputs": []
    },
    {
      "cell_type": "code",
      "source": [
        "log2=model2.fit(x_train,y_train_cat,validation_data=(x_test, y_test_cat),epochs=10,batch_size=32)"
      ],
      "metadata": {
        "colab": {
          "base_uri": "https://localhost:8080/"
        },
        "id": "sPoT2A3SoC5h",
        "outputId": "dc068f3d-042d-4769-e9bf-e47f46e71cc0"
      },
      "execution_count": 156,
      "outputs": [
        {
          "output_type": "stream",
          "name": "stdout",
          "text": [
            "Epoch 1/10\n",
            "1563/1563 [==============================] - 42s 27ms/step - loss: 2.0772 - accuracy: 0.2020 - val_loss: 2.0073 - val_accuracy: 0.1956\n",
            "Epoch 2/10\n",
            "1563/1563 [==============================] - 53s 34ms/step - loss: 2.0068 - accuracy: 0.2292 - val_loss: 1.9943 - val_accuracy: 0.2214\n",
            "Epoch 3/10\n",
            "1563/1563 [==============================] - 40s 26ms/step - loss: 2.0277 - accuracy: 0.2269 - val_loss: 2.0182 - val_accuracy: 0.2070\n",
            "Epoch 4/10\n",
            "1563/1563 [==============================] - 40s 26ms/step - loss: 2.0593 - accuracy: 0.2138 - val_loss: 2.0490 - val_accuracy: 0.2078\n",
            "Epoch 5/10\n",
            "1563/1563 [==============================] - 40s 26ms/step - loss: 2.1654 - accuracy: 0.1653 - val_loss: 2.2319 - val_accuracy: 0.1287\n",
            "Epoch 6/10\n",
            "1563/1563 [==============================] - 40s 25ms/step - loss: 2.3139 - accuracy: 0.1024 - val_loss: 2.3042 - val_accuracy: 0.1000\n",
            "Epoch 7/10\n",
            "1563/1563 [==============================] - 48s 31ms/step - loss: 2.3065 - accuracy: 0.1010 - val_loss: 2.3070 - val_accuracy: 0.1000\n",
            "Epoch 8/10\n",
            "1563/1563 [==============================] - 48s 30ms/step - loss: 2.3062 - accuracy: 0.0991 - val_loss: 2.3044 - val_accuracy: 0.1000\n",
            "Epoch 9/10\n",
            "1563/1563 [==============================] - 40s 26ms/step - loss: 2.3063 - accuracy: 0.1009 - val_loss: 2.3039 - val_accuracy: 0.1000\n",
            "Epoch 10/10\n",
            "1563/1563 [==============================] - 40s 26ms/step - loss: 2.3058 - accuracy: 0.0980 - val_loss: 2.3052 - val_accuracy: 0.1000\n"
          ]
        }
      ]
    },
    {
      "cell_type": "code",
      "source": [
        "y_train_pred2=model2.predict(x_train)\n",
        "y_train_pred2=np.argmax(y_train_pred2,axis=1)\n",
        "train_report2=classification_report(y_train, y_train_pred2)\n",
        "print(train_report2)"
      ],
      "metadata": {
        "colab": {
          "base_uri": "https://localhost:8080/"
        },
        "id": "Zlw_CiJ9oElm",
        "outputId": "045dc7bb-10cc-4ac6-9d60-bd0e22f6330d"
      },
      "execution_count": 157,
      "outputs": [
        {
          "output_type": "stream",
          "name": "stdout",
          "text": [
            "1563/1563 [==============================] - 13s 8ms/step\n",
            "              precision    recall  f1-score   support\n",
            "\n",
            "           0       0.10      1.00      0.18      5000\n",
            "           1       0.00      0.00      0.00      5000\n",
            "           2       0.00      0.00      0.00      5000\n",
            "           3       0.00      0.00      0.00      5000\n",
            "           4       0.67      0.00      0.00      5000\n",
            "           5       0.00      0.00      0.00      5000\n",
            "           6       0.00      0.00      0.00      5000\n",
            "           7       0.00      0.00      0.00      5000\n",
            "           8       0.00      0.00      0.00      5000\n",
            "           9       0.00      0.00      0.00      5000\n",
            "\n",
            "    accuracy                           0.10     50000\n",
            "   macro avg       0.08      0.10      0.02     50000\n",
            "weighted avg       0.08      0.10      0.02     50000\n",
            "\n"
          ]
        },
        {
          "output_type": "stream",
          "name": "stderr",
          "text": [
            "/usr/local/lib/python3.8/dist-packages/sklearn/metrics/_classification.py:1318: UndefinedMetricWarning: Precision and F-score are ill-defined and being set to 0.0 in labels with no predicted samples. Use `zero_division` parameter to control this behavior.\n",
            "  _warn_prf(average, modifier, msg_start, len(result))\n",
            "/usr/local/lib/python3.8/dist-packages/sklearn/metrics/_classification.py:1318: UndefinedMetricWarning: Precision and F-score are ill-defined and being set to 0.0 in labels with no predicted samples. Use `zero_division` parameter to control this behavior.\n",
            "  _warn_prf(average, modifier, msg_start, len(result))\n",
            "/usr/local/lib/python3.8/dist-packages/sklearn/metrics/_classification.py:1318: UndefinedMetricWarning: Precision and F-score are ill-defined and being set to 0.0 in labels with no predicted samples. Use `zero_division` parameter to control this behavior.\n",
            "  _warn_prf(average, modifier, msg_start, len(result))\n"
          ]
        }
      ]
    },
    {
      "cell_type": "code",
      "source": [
        "y_test_pred2=model2.predict(x_test)\n",
        "y_test_pred2=np.argmax(y_test_pred2,axis=1)\n",
        "test_report2=classification_report(y_test, y_test_pred2)\n",
        "print(test_report2)"
      ],
      "metadata": {
        "colab": {
          "base_uri": "https://localhost:8080/"
        },
        "id": "NrsKnmu7oI2H",
        "outputId": "37836e2b-3a26-4058-be5b-483a8050c8f0"
      },
      "execution_count": 50,
      "outputs": [
        {
          "output_type": "stream",
          "name": "stdout",
          "text": [
            "313/313 [==============================] - 3s 9ms/step\n",
            "              precision    recall  f1-score   support\n",
            "\n",
            "           0       0.00      0.00      0.00      1000\n",
            "           1       0.10      1.00      0.18      1000\n",
            "           2       0.00      0.00      0.00      1000\n",
            "           3       0.00      0.00      0.00      1000\n",
            "           4       0.00      0.00      0.00      1000\n",
            "           5       0.00      0.00      0.00      1000\n",
            "           6       0.00      0.00      0.00      1000\n",
            "           7       0.00      0.00      0.00      1000\n",
            "           8       0.00      0.00      0.00      1000\n",
            "           9       0.00      0.00      0.00      1000\n",
            "\n",
            "    accuracy                           0.10     10000\n",
            "   macro avg       0.01      0.10      0.02     10000\n",
            "weighted avg       0.01      0.10      0.02     10000\n",
            "\n"
          ]
        },
        {
          "output_type": "stream",
          "name": "stderr",
          "text": [
            "/usr/local/lib/python3.8/dist-packages/sklearn/metrics/_classification.py:1318: UndefinedMetricWarning: Precision and F-score are ill-defined and being set to 0.0 in labels with no predicted samples. Use `zero_division` parameter to control this behavior.\n",
            "  _warn_prf(average, modifier, msg_start, len(result))\n",
            "/usr/local/lib/python3.8/dist-packages/sklearn/metrics/_classification.py:1318: UndefinedMetricWarning: Precision and F-score are ill-defined and being set to 0.0 in labels with no predicted samples. Use `zero_division` parameter to control this behavior.\n",
            "  _warn_prf(average, modifier, msg_start, len(result))\n",
            "/usr/local/lib/python3.8/dist-packages/sklearn/metrics/_classification.py:1318: UndefinedMetricWarning: Precision and F-score are ill-defined and being set to 0.0 in labels with no predicted samples. Use `zero_division` parameter to control this behavior.\n",
            "  _warn_prf(average, modifier, msg_start, len(result))\n"
          ]
        }
      ]
    },
    {
      "cell_type": "code",
      "source": [
        "plt.plot(log2.history['accuracy'])\n",
        "plt.plot(log2.history['val_accuracy'])\n",
        "plt.xlabel('epoches')\n",
        "plt.ylabel('accuracy')\n",
        "plt.show()"
      ],
      "metadata": {
        "colab": {
          "base_uri": "https://localhost:8080/",
          "height": 279
        },
        "id": "hv-8EqxWoO9E",
        "outputId": "60f8709a-f1f8-498c-b499-878010175532"
      },
      "execution_count": 51,
      "outputs": [
        {
          "output_type": "display_data",
          "data": {
            "text/plain": [
              "<Figure size 432x288 with 1 Axes>"
            ],
            "image/png": "[encoded data removed]"
          },
          "metadata": {
            "needs_background": "light"
          }
        }
      ]
    },
    {
      "cell_type": "code",
      "source": [
        "plt.plot(log2.history['loss'])\n",
        "plt.plot(log2.history['val_loss'])\n",
        "plt.xlabel('epoches')\n",
        "plt.ylabel('loss')\n",
        "plt.show()"
      ],
      "metadata": {
        "colab": {
          "base_uri": "https://localhost:8080/",
          "height": 279
        },
        "id": "1tHNscmYoRvs",
        "outputId": "65e1493e-db5b-455a-fc8e-25f2d5b99260"
      },
      "execution_count": 52,
      "outputs": [
        {
          "output_type": "display_data",
          "data": {
            "text/plain": [
              "<Figure size 432x288 with 1 Axes>"
            ],
            "image/png": "[encoded data removed]"
          },
          "metadata": {
            "needs_background": "light"
          }
        }
      ]
    },
    {
      "cell_type": "markdown",
      "source": [
        "We can see that it didin't do well with this value."
      ],
      "metadata": {
        "id": "LLH5ofXRKWvQ"
      }
    },
    {
      "cell_type": "markdown",
      "source": [
        "when we have bigger momentum , we are taking bigger steps at reach run therefor sometimes greater values of momentum cause weaker results. \n",
        "\n",
        "Infact momentum is a term which can help us get out of local mins but using big momentum becuase of the explained reasons may cause bad effects."
      ],
      "metadata": {
        "id": "Ym7i9kJXo2YP"
      }
    },
    {
      "cell_type": "markdown",
      "source": [
        "Adam optimizer:"
      ],
      "metadata": {
        "id": "Yn8H3kvVfHi9"
      }
    },
    {
      "cell_type": "code",
      "source": [
        "model2 = tf.keras.models.Sequential([\n",
        "    tf.keras.layers.Flatten(input_shape=(32,32,3)),\n",
        "    tf.keras.layers.Dense(1024, activation='relu'),\n",
        "    tf.keras.layers.Dense(512, activation='relu'),\n",
        "    tf.keras.layers.Dense(256, activation='relu'),\n",
        "    tf.keras.layers.Dense(128, activation='relu'),\n",
        "    tf.keras.layers.Dense(64, activation='relu'),\n",
        "    tf.keras.layers.Dense(10, activation='softmax')\n",
        "\n",
        "])"
      ],
      "metadata": {
        "id": "u86yC5U_yeco"
      },
      "execution_count": 65,
      "outputs": []
    },
    {
      "cell_type": "code",
      "source": [
        "model2.compile(optimizer=keras.optimizers.Adam(learning_rate=0.001), loss=keras.losses.categorical_crossentropy, metrics=[\"accuracy\"])\n"
      ],
      "metadata": {
        "id": "xNcTmzymoayT"
      },
      "execution_count": 67,
      "outputs": []
    },
    {
      "cell_type": "code",
      "source": [
        "log2=model2.fit(x_train,y_train_cat,validation_data=(x_test, y_test_cat),epochs=10,batch_size=32)"
      ],
      "metadata": {
        "colab": {
          "base_uri": "https://localhost:8080/"
        },
        "id": "GMa0sanequOA",
        "outputId": "45f097fc-b9bc-4a2f-e472-8feff2f4fe26"
      },
      "execution_count": 68,
      "outputs": [
        {
          "output_type": "stream",
          "name": "stdout",
          "text": [
            "Epoch 1/10\n",
            "1563/1563 [==============================] - 51s 32ms/step - loss: 1.9214 - accuracy: 0.2914 - val_loss: 1.7986 - val_accuracy: 0.3573\n",
            "Epoch 2/10\n",
            "1563/1563 [==============================] - 49s 32ms/step - loss: 1.7285 - accuracy: 0.3775 - val_loss: 1.6813 - val_accuracy: 0.3898\n",
            "Epoch 3/10\n",
            "1563/1563 [==============================] - 49s 31ms/step - loss: 1.6348 - accuracy: 0.4118 - val_loss: 1.5932 - val_accuracy: 0.4281\n",
            "Epoch 4/10\n",
            "1563/1563 [==============================] - 48s 31ms/step - loss: 1.5732 - accuracy: 0.4357 - val_loss: 1.5531 - val_accuracy: 0.4407\n",
            "Epoch 5/10\n",
            "1563/1563 [==============================] - 48s 31ms/step - loss: 1.5274 - accuracy: 0.4523 - val_loss: 1.5223 - val_accuracy: 0.4651\n",
            "Epoch 6/10\n",
            "1563/1563 [==============================] - 48s 31ms/step - loss: 1.4916 - accuracy: 0.4636 - val_loss: 1.5468 - val_accuracy: 0.4447\n",
            "Epoch 7/10\n",
            "1563/1563 [==============================] - 49s 32ms/step - loss: 1.4575 - accuracy: 0.4740 - val_loss: 1.4864 - val_accuracy: 0.4732\n",
            "Epoch 8/10\n",
            "1563/1563 [==============================] - 48s 31ms/step - loss: 1.4283 - accuracy: 0.4872 - val_loss: 1.5153 - val_accuracy: 0.4652\n",
            "Epoch 9/10\n",
            "1563/1563 [==============================] - 49s 31ms/step - loss: 1.3971 - accuracy: 0.4994 - val_loss: 1.4620 - val_accuracy: 0.4783\n",
            "Epoch 10/10\n",
            "1563/1563 [==============================] - 48s 30ms/step - loss: 1.3736 - accuracy: 0.5069 - val_loss: 1.4970 - val_accuracy: 0.4690\n"
          ]
        }
      ]
    },
    {
      "cell_type": "code",
      "source": [
        "y_train_pred2=model2.predict(x_train)\n",
        "y_train_pred2=np.argmax(y_train_pred2,axis=1)\n",
        "train_report2=classification_report(y_train, y_train_pred2)\n",
        "print(train_report2)"
      ],
      "metadata": {
        "colab": {
          "base_uri": "https://localhost:8080/"
        },
        "id": "rC2Zud1xqygi",
        "outputId": "804cff40-e737-4133-fd5d-94012377c2c3"
      },
      "execution_count": 69,
      "outputs": [
        {
          "output_type": "stream",
          "name": "stdout",
          "text": [
            "1563/1563 [==============================] - 14s 9ms/step\n",
            "              precision    recall  f1-score   support\n",
            "\n",
            "           0       0.66      0.46      0.55      5000\n",
            "           1       0.73      0.54      0.62      5000\n",
            "           2       0.40      0.30      0.34      5000\n",
            "           3       0.38      0.27      0.32      5000\n",
            "           4       0.40      0.47      0.43      5000\n",
            "           5       0.48      0.36      0.41      5000\n",
            "           6       0.40      0.75      0.52      5000\n",
            "           7       0.64      0.56      0.59      5000\n",
            "           8       0.55      0.76      0.64      5000\n",
            "           9       0.60      0.60      0.60      5000\n",
            "\n",
            "    accuracy                           0.51     50000\n",
            "   macro avg       0.52      0.51      0.50     50000\n",
            "weighted avg       0.52      0.51      0.50     50000\n",
            "\n"
          ]
        }
      ]
    },
    {
      "cell_type": "code",
      "source": [
        "y_test_pred2=model2.predict(x_test)\n",
        "y_test_pred2=np.argmax(y_test_pred2,axis=1)\n",
        "test_report2=classification_report(y_test, y_test_pred2)\n",
        "print(test_report2)"
      ],
      "metadata": {
        "colab": {
          "base_uri": "https://localhost:8080/"
        },
        "id": "Fy4b08WPqzLG",
        "outputId": "76b41acd-9a76-4d8e-98b8-7d977fd8420b"
      },
      "execution_count": 70,
      "outputs": [
        {
          "output_type": "stream",
          "name": "stdout",
          "text": [
            "313/313 [==============================] - 3s 10ms/step\n",
            "              precision    recall  f1-score   support\n",
            "\n",
            "           0       0.62      0.43      0.51      1000\n",
            "           1       0.68      0.48      0.56      1000\n",
            "           2       0.36      0.29      0.32      1000\n",
            "           3       0.32      0.22      0.26      1000\n",
            "           4       0.40      0.45      0.42      1000\n",
            "           5       0.44      0.32      0.37      1000\n",
            "           6       0.38      0.74      0.50      1000\n",
            "           7       0.57      0.48      0.52      1000\n",
            "           8       0.50      0.72      0.59      1000\n",
            "           9       0.56      0.55      0.56      1000\n",
            "\n",
            "    accuracy                           0.47     10000\n",
            "   macro avg       0.48      0.47      0.46     10000\n",
            "weighted avg       0.48      0.47      0.46     10000\n",
            "\n"
          ]
        }
      ]
    },
    {
      "cell_type": "code",
      "source": [
        "plt.plot(log2.history['accuracy'])\n",
        "plt.plot(log2.history['val_accuracy'])\n",
        "plt.xlabel('epoches')\n",
        "plt.ylabel('accuracy')\n",
        "plt.show()"
      ],
      "metadata": {
        "colab": {
          "base_uri": "https://localhost:8080/",
          "height": 279
        },
        "id": "x4L3suoAq21z",
        "outputId": "44e77397-88d8-4a5c-d17e-b008638bc49b"
      },
      "execution_count": 71,
      "outputs": [
        {
          "output_type": "display_data",
          "data": {
            "text/plain": [
              "<Figure size 432x288 with 1 Axes>"
            ],
            "image/png": "[encoded data removed]"
          },
          "metadata": {
            "needs_background": "light"
          }
        }
      ]
    },
    {
      "cell_type": "code",
      "source": [
        "plt.plot(log2.history['loss'])\n",
        "plt.plot(log2.history['val_loss'])\n",
        "plt.xlabel('epoches')\n",
        "plt.ylabel('loss')\n",
        "plt.show()"
      ],
      "metadata": {
        "colab": {
          "base_uri": "https://localhost:8080/",
          "height": 279
        },
        "id": "UcXJEsqRq93i",
        "outputId": "31ecfdc4-78ee-4e58-8710-b192f9960dca"
      },
      "execution_count": 72,
      "outputs": [
        {
          "output_type": "display_data",
          "data": {
            "text/plain": [
              "<Figure size 432x288 with 1 Axes>"
            ],
            "image/png": "[encoded data removed]"
          },
          "metadata": {
            "needs_background": "light"
          }
        }
      ]
    },
    {
      "cell_type": "markdown",
      "source": [
        "Adam did worse than SGD .But as we see it is performing better and better by each iteration.We hope it would result in better accuracies by tuning its hyperparameters."
      ],
      "metadata": {
        "id": "56HB1WLQMSXu"
      }
    },
    {
      "cell_type": "markdown",
      "source": [
        "##ephoch\n",
        "\n",
        " \n",
        "\n",
        "*   In neural network weights are updated iteratively, as it is a gradient descent based algorithm. A single epoch in training is not enough and leads to underfitting.\n",
        "Also the purpose of implementing neural network is to run on the non-training data , therefor we perfer to iterate more in order to make better judgment with respect to statistics.\n",
        "\n",
        "\n",
        "\n",
        "*  Too many epochs can lead to overfitting of the training dataset,too.Early stopping can help us stop the training when the accuracy is acceptable on both training and test data.\n"
      ],
      "metadata": {
        "id": "j9QESYwLtnuB"
      }
    },
    {
      "cell_type": "code",
      "source": [
        "model2 = tf.keras.models.Sequential([\n",
        "    tf.keras.layers.Flatten(input_shape=(32,32,3)),\n",
        "    tf.keras.layers.Dense(1024, activation='relu'),\n",
        "    tf.keras.layers.Dense(512, activation='relu'),\n",
        "    tf.keras.layers.Dense(256, activation='relu'),\n",
        "    tf.keras.layers.Dense(128, activation='relu'),\n",
        "    tf.keras.layers.Dense(64, activation='relu'),\n",
        "    tf.keras.layers.Dense(10, activation='softmax')\n",
        "\n",
        "])"
      ],
      "metadata": {
        "id": "1-aw7iIe1dwC"
      },
      "execution_count": 74,
      "outputs": []
    },
    {
      "cell_type": "code",
      "source": [
        "model2.compile(optimizer=keras.optimizers.Adam(learning_rate=0.001), loss=keras.losses.categorical_crossentropy, metrics=[\"accuracy\"])"
      ],
      "metadata": {
        "id": "DZ2oMhPMrw_G"
      },
      "execution_count": 75,
      "outputs": []
    },
    {
      "cell_type": "code",
      "source": [
        "log2=model2.fit(x_train,y_train_cat,validation_data=(x_test, y_test_cat),epochs=20,batch_size=32)"
      ],
      "metadata": {
        "colab": {
          "base_uri": "https://localhost:8080/"
        },
        "id": "kHqlAKMZv53U",
        "outputId": "dd2b5aa9-ebdb-41e6-d910-8bba4ac2072e"
      },
      "execution_count": 76,
      "outputs": [
        {
          "output_type": "stream",
          "name": "stdout",
          "text": [
            "Epoch 1/20\n",
            "1563/1563 [==============================] - 50s 32ms/step - loss: 1.9089 - accuracy: 0.2975 - val_loss: 1.7826 - val_accuracy: 0.3650\n",
            "Epoch 2/20\n",
            "1563/1563 [==============================] - 48s 31ms/step - loss: 1.7353 - accuracy: 0.3741 - val_loss: 1.6819 - val_accuracy: 0.3978\n",
            "Epoch 3/20\n",
            "1563/1563 [==============================] - 49s 31ms/step - loss: 1.6500 - accuracy: 0.4040 - val_loss: 1.6013 - val_accuracy: 0.4276\n",
            "Epoch 4/20\n",
            "1563/1563 [==============================] - 49s 32ms/step - loss: 1.5864 - accuracy: 0.4309 - val_loss: 1.5539 - val_accuracy: 0.4406\n",
            "Epoch 5/20\n",
            "1563/1563 [==============================] - 50s 32ms/step - loss: 1.5329 - accuracy: 0.4476 - val_loss: 1.5503 - val_accuracy: 0.4403\n",
            "Epoch 6/20\n",
            "1563/1563 [==============================] - 48s 31ms/step - loss: 1.4962 - accuracy: 0.4618 - val_loss: 1.5026 - val_accuracy: 0.4640\n",
            "Epoch 7/20\n",
            "1563/1563 [==============================] - 49s 31ms/step - loss: 1.4616 - accuracy: 0.4736 - val_loss: 1.4910 - val_accuracy: 0.4667\n",
            "Epoch 8/20\n",
            "1563/1563 [==============================] - 49s 31ms/step - loss: 1.4281 - accuracy: 0.4872 - val_loss: 1.4924 - val_accuracy: 0.4710\n",
            "Epoch 9/20\n",
            "1563/1563 [==============================] - 50s 32ms/step - loss: 1.3981 - accuracy: 0.4982 - val_loss: 1.4973 - val_accuracy: 0.4668\n",
            "Epoch 10/20\n",
            "1563/1563 [==============================] - 49s 31ms/step - loss: 1.3791 - accuracy: 0.5052 - val_loss: 1.4448 - val_accuracy: 0.4889\n",
            "Epoch 11/20\n",
            "1563/1563 [==============================] - 49s 32ms/step - loss: 1.3556 - accuracy: 0.5144 - val_loss: 1.4348 - val_accuracy: 0.4934\n",
            "Epoch 12/20\n",
            "1563/1563 [==============================] - 49s 31ms/step - loss: 1.3280 - accuracy: 0.5242 - val_loss: 1.4461 - val_accuracy: 0.4876\n",
            "Epoch 13/20\n",
            "1563/1563 [==============================] - 51s 32ms/step - loss: 1.3002 - accuracy: 0.5340 - val_loss: 1.4616 - val_accuracy: 0.4825\n",
            "Epoch 14/20\n",
            "1563/1563 [==============================] - 49s 31ms/step - loss: 1.2846 - accuracy: 0.5382 - val_loss: 1.4381 - val_accuracy: 0.4964\n",
            "Epoch 15/20\n",
            "1563/1563 [==============================] - 49s 31ms/step - loss: 1.2594 - accuracy: 0.5463 - val_loss: 1.4398 - val_accuracy: 0.4953\n",
            "Epoch 16/20\n",
            "1563/1563 [==============================] - 49s 31ms/step - loss: 1.2353 - accuracy: 0.5537 - val_loss: 1.4847 - val_accuracy: 0.4904\n",
            "Epoch 17/20\n",
            "1563/1563 [==============================] - 48s 31ms/step - loss: 1.2134 - accuracy: 0.5628 - val_loss: 1.4892 - val_accuracy: 0.4929\n",
            "Epoch 18/20\n",
            "1563/1563 [==============================] - 49s 32ms/step - loss: 1.1959 - accuracy: 0.5687 - val_loss: 1.4390 - val_accuracy: 0.5016\n",
            "Epoch 19/20\n",
            "1563/1563 [==============================] - 48s 31ms/step - loss: 1.1755 - accuracy: 0.5752 - val_loss: 1.4446 - val_accuracy: 0.5005\n",
            "Epoch 20/20\n",
            "1563/1563 [==============================] - 49s 32ms/step - loss: 1.1600 - accuracy: 0.5835 - val_loss: 1.4683 - val_accuracy: 0.4993\n"
          ]
        }
      ]
    },
    {
      "cell_type": "code",
      "source": [
        "y_train_pred2=model2.predict(x_train)\n",
        "y_train_pred2=np.argmax(y_train_pred2,axis=1)\n",
        "train_report2=classification_report(y_train, y_train_pred2)\n",
        "print(train_report2)"
      ],
      "metadata": {
        "colab": {
          "base_uri": "https://localhost:8080/"
        },
        "id": "Utbw9iGmyJaQ",
        "outputId": "eafefdc0-78f6-4a39-cf7a-e5bb7f414d28"
      },
      "execution_count": 77,
      "outputs": [
        {
          "output_type": "stream",
          "name": "stdout",
          "text": [
            "1563/1563 [==============================] - 14s 9ms/step\n",
            "              precision    recall  f1-score   support\n",
            "\n",
            "           0       0.61      0.65      0.63      5000\n",
            "           1       0.71      0.73      0.72      5000\n",
            "           2       0.58      0.34      0.43      5000\n",
            "           3       0.44      0.52      0.48      5000\n",
            "           4       0.51      0.57      0.54      5000\n",
            "           5       0.63      0.35      0.45      5000\n",
            "           6       0.64      0.64      0.64      5000\n",
            "           7       0.62      0.72      0.67      5000\n",
            "           8       0.64      0.79      0.70      5000\n",
            "           9       0.65      0.68      0.67      5000\n",
            "\n",
            "    accuracy                           0.60     50000\n",
            "   macro avg       0.60      0.60      0.59     50000\n",
            "weighted avg       0.60      0.60      0.59     50000\n",
            "\n"
          ]
        }
      ]
    },
    {
      "cell_type": "code",
      "source": [
        "y_test_pred2=model2.predict(x_test)\n",
        "y_test_pred2=np.argmax(y_test_pred2,axis=1)\n",
        "test_report2=classification_report(y_test, y_test_pred2)\n",
        "print(test_report2)"
      ],
      "metadata": {
        "colab": {
          "base_uri": "https://localhost:8080/"
        },
        "id": "JciqimKPyMOa",
        "outputId": "0c3fc16a-6170-4938-ed2c-e48a2dccc639"
      },
      "execution_count": 78,
      "outputs": [
        {
          "output_type": "stream",
          "name": "stdout",
          "text": [
            "313/313 [==============================] - 3s 9ms/step\n",
            "              precision    recall  f1-score   support\n",
            "\n",
            "           0       0.55      0.59      0.57      1000\n",
            "           1       0.60      0.59      0.60      1000\n",
            "           2       0.44      0.26      0.32      1000\n",
            "           3       0.33      0.39      0.36      1000\n",
            "           4       0.43      0.47      0.45      1000\n",
            "           5       0.48      0.27      0.34      1000\n",
            "           6       0.52      0.55      0.54      1000\n",
            "           7       0.51      0.60      0.55      1000\n",
            "           8       0.56      0.72      0.63      1000\n",
            "           9       0.54      0.56      0.55      1000\n",
            "\n",
            "    accuracy                           0.50     10000\n",
            "   macro avg       0.50      0.50      0.49     10000\n",
            "weighted avg       0.50      0.50      0.49     10000\n",
            "\n"
          ]
        }
      ]
    },
    {
      "cell_type": "code",
      "source": [
        "plt.plot(log2.history['accuracy'])\n",
        "plt.plot(log2.history['val_accuracy'])\n",
        "plt.xlabel('epoches')\n",
        "plt.ylabel('accuracy')\n",
        "plt.show()"
      ],
      "metadata": {
        "colab": {
          "base_uri": "https://localhost:8080/",
          "height": 279
        },
        "id": "d0FFBdOYyRVz",
        "outputId": "6df6be01-bfab-4788-9868-4fa729464172"
      },
      "execution_count": 79,
      "outputs": [
        {
          "output_type": "display_data",
          "data": {
            "text/plain": [
              "<Figure size 432x288 with 1 Axes>"
            ],
            "image/png": "[encoded data removed]"
          },
          "metadata": {
            "needs_background": "light"
          }
        }
      ]
    },
    {
      "cell_type": "code",
      "source": [
        "plt.plot(log2.history['loss'])\n",
        "plt.plot(log2.history['val_loss'])\n",
        "plt.xlabel('epoches')\n",
        "plt.ylabel('loss')\n",
        "plt.show()"
      ],
      "metadata": {
        "colab": {
          "base_uri": "https://localhost:8080/",
          "height": 279
        },
        "id": "rdPr0EiqyY3e",
        "outputId": "5851e1c0-1bc4-495b-beb2-83c4b245869b"
      },
      "execution_count": 80,
      "outputs": [
        {
          "output_type": "display_data",
          "data": {
            "text/plain": [
              "<Figure size 432x288 with 1 Axes>"
            ],
            "image/png": "[encoded data removed]"
          },
          "metadata": {
            "needs_background": "light"
          }
        }
      ]
    },
    {
      "cell_type": "code",
      "source": [
        "model2 = tf.keras.models.Sequential([\n",
        "    tf.keras.layers.Flatten(input_shape=(32,32,3)),\n",
        "    tf.keras.layers.Dense(1024, activation='relu'),\n",
        "    tf.keras.layers.Dense(512, activation='relu'),\n",
        "    tf.keras.layers.Dense(256, activation='relu'),\n",
        "    tf.keras.layers.Dense(128, activation='relu'),\n",
        "    tf.keras.layers.Dense(64, activation='relu'),\n",
        "    tf.keras.layers.Dense(10, activation='softmax')\n",
        "\n",
        "])"
      ],
      "metadata": {
        "id": "L5o09W4j7dQh"
      },
      "execution_count": 81,
      "outputs": []
    },
    {
      "cell_type": "code",
      "source": [
        "model2.compile(optimizer=keras.optimizers.Adam(learning_rate=0.001), loss=keras.losses.categorical_crossentropy, metrics=[\"accuracy\"])"
      ],
      "metadata": {
        "id": "v1EDT4rXybI3"
      },
      "execution_count": 82,
      "outputs": []
    },
    {
      "cell_type": "code",
      "source": [
        "log2=model2.fit(x_train,y_train_cat,validation_data=(x_test, y_test_cat),epochs=30,batch_size=32)"
      ],
      "metadata": {
        "colab": {
          "base_uri": "https://localhost:8080/"
        },
        "id": "kf3P0lkyylEm",
        "outputId": "1440ad2a-c94d-4e3d-f935-d6392b8eaae8"
      },
      "execution_count": 83,
      "outputs": [
        {
          "output_type": "stream",
          "name": "stdout",
          "text": [
            "Epoch 1/30\n",
            "1563/1563 [==============================] - 49s 31ms/step - loss: 1.9332 - accuracy: 0.2889 - val_loss: 1.7874 - val_accuracy: 0.3614\n",
            "Epoch 2/30\n",
            "1563/1563 [==============================] - 49s 31ms/step - loss: 1.7177 - accuracy: 0.3822 - val_loss: 1.6541 - val_accuracy: 0.4030\n",
            "Epoch 3/30\n",
            "1563/1563 [==============================] - 48s 31ms/step - loss: 1.6357 - accuracy: 0.4126 - val_loss: 1.6007 - val_accuracy: 0.4230\n",
            "Epoch 4/30\n",
            "1563/1563 [==============================] - 50s 32ms/step - loss: 1.5767 - accuracy: 0.4307 - val_loss: 1.5386 - val_accuracy: 0.4541\n",
            "Epoch 5/30\n",
            "1563/1563 [==============================] - 50s 32ms/step - loss: 1.5317 - accuracy: 0.4489 - val_loss: 1.5546 - val_accuracy: 0.4480\n",
            "Epoch 6/30\n",
            "1563/1563 [==============================] - 49s 32ms/step - loss: 1.4944 - accuracy: 0.4639 - val_loss: 1.4866 - val_accuracy: 0.4714\n",
            "Epoch 7/30\n",
            "1563/1563 [==============================] - 48s 31ms/step - loss: 1.4597 - accuracy: 0.4754 - val_loss: 1.4728 - val_accuracy: 0.4768\n",
            "Epoch 8/30\n",
            "1563/1563 [==============================] - 49s 31ms/step - loss: 1.4368 - accuracy: 0.4844 - val_loss: 1.5017 - val_accuracy: 0.4699\n",
            "Epoch 9/30\n",
            "1563/1563 [==============================] - 49s 31ms/step - loss: 1.4035 - accuracy: 0.4967 - val_loss: 1.4755 - val_accuracy: 0.4730\n",
            "Epoch 10/30\n",
            "1563/1563 [==============================] - 48s 31ms/step - loss: 1.3766 - accuracy: 0.5050 - val_loss: 1.4598 - val_accuracy: 0.4822\n",
            "Epoch 11/30\n",
            "1563/1563 [==============================] - 52s 33ms/step - loss: 1.3521 - accuracy: 0.5127 - val_loss: 1.4705 - val_accuracy: 0.4834\n",
            "Epoch 12/30\n",
            "1563/1563 [==============================] - 48s 31ms/step - loss: 1.3323 - accuracy: 0.5214 - val_loss: 1.4532 - val_accuracy: 0.4844\n",
            "Epoch 13/30\n",
            "1563/1563 [==============================] - 48s 31ms/step - loss: 1.3109 - accuracy: 0.5312 - val_loss: 1.4591 - val_accuracy: 0.4810\n",
            "Epoch 14/30\n",
            "1563/1563 [==============================] - 49s 31ms/step - loss: 1.2833 - accuracy: 0.5365 - val_loss: 1.4575 - val_accuracy: 0.4867\n",
            "Epoch 15/30\n",
            "1563/1563 [==============================] - 49s 31ms/step - loss: 1.2613 - accuracy: 0.5457 - val_loss: 1.4736 - val_accuracy: 0.4901\n",
            "Epoch 16/30\n",
            "1563/1563 [==============================] - 49s 31ms/step - loss: 1.2413 - accuracy: 0.5522 - val_loss: 1.4716 - val_accuracy: 0.4918\n",
            "Epoch 17/30\n",
            "1563/1563 [==============================] - 49s 31ms/step - loss: 1.2240 - accuracy: 0.5577 - val_loss: 1.4695 - val_accuracy: 0.4972\n",
            "Epoch 18/30\n",
            "1563/1563 [==============================] - 49s 31ms/step - loss: 1.1999 - accuracy: 0.5690 - val_loss: 1.4646 - val_accuracy: 0.5023\n",
            "Epoch 19/30\n",
            "1563/1563 [==============================] - 48s 31ms/step - loss: 1.1790 - accuracy: 0.5732 - val_loss: 1.4898 - val_accuracy: 0.4948\n",
            "Epoch 20/30\n",
            "1563/1563 [==============================] - 48s 31ms/step - loss: 1.1649 - accuracy: 0.5771 - val_loss: 1.4698 - val_accuracy: 0.5014\n",
            "Epoch 21/30\n",
            "1563/1563 [==============================] - 50s 32ms/step - loss: 1.1383 - accuracy: 0.5884 - val_loss: 1.5246 - val_accuracy: 0.4897\n",
            "Epoch 22/30\n",
            "1563/1563 [==============================] - 49s 31ms/step - loss: 1.1200 - accuracy: 0.5963 - val_loss: 1.5131 - val_accuracy: 0.4947\n",
            "Epoch 23/30\n",
            "1563/1563 [==============================] - 50s 32ms/step - loss: 1.1040 - accuracy: 0.5998 - val_loss: 1.5431 - val_accuracy: 0.4859\n",
            "Epoch 24/30\n",
            "1563/1563 [==============================] - 49s 31ms/step - loss: 1.0757 - accuracy: 0.6103 - val_loss: 1.5204 - val_accuracy: 0.5005\n",
            "Epoch 25/30\n",
            "1563/1563 [==============================] - 48s 31ms/step - loss: 1.0649 - accuracy: 0.6144 - val_loss: 1.5857 - val_accuracy: 0.4866\n",
            "Epoch 26/30\n",
            "1563/1563 [==============================] - 49s 31ms/step - loss: 1.0484 - accuracy: 0.6192 - val_loss: 1.5779 - val_accuracy: 0.4915\n",
            "Epoch 27/30\n",
            "1563/1563 [==============================] - 50s 32ms/step - loss: 1.0286 - accuracy: 0.6275 - val_loss: 1.6223 - val_accuracy: 0.4823\n",
            "Epoch 28/30\n",
            "1563/1563 [==============================] - 49s 32ms/step - loss: 1.0131 - accuracy: 0.6319 - val_loss: 1.6322 - val_accuracy: 0.4908\n",
            "Epoch 29/30\n",
            "1563/1563 [==============================] - 49s 31ms/step - loss: 0.9995 - accuracy: 0.6367 - val_loss: 1.6276 - val_accuracy: 0.4924\n",
            "Epoch 30/30\n",
            "1563/1563 [==============================] - 49s 31ms/step - loss: 0.9837 - accuracy: 0.6427 - val_loss: 1.6528 - val_accuracy: 0.4890\n"
          ]
        }
      ]
    },
    {
      "cell_type": "code",
      "source": [
        "y_train_pred2=model2.predict(x_train)\n",
        "y_train_pred2=np.argmax(y_train_pred2,axis=1)\n",
        "train_report2=classification_report(y_train, y_train_pred2)\n",
        "print(train_report2)"
      ],
      "metadata": {
        "colab": {
          "base_uri": "https://localhost:8080/"
        },
        "id": "ncK76vPGzbFT",
        "outputId": "8515a2ab-98a5-4f19-ac32-09e21c4f1c06"
      },
      "execution_count": 84,
      "outputs": [
        {
          "output_type": "stream",
          "name": "stdout",
          "text": [
            "1563/1563 [==============================] - 14s 9ms/step\n",
            "              precision    recall  f1-score   support\n",
            "\n",
            "           0       0.63      0.69      0.66      5000\n",
            "           1       0.74      0.76      0.75      5000\n",
            "           2       0.56      0.50      0.53      5000\n",
            "           3       0.53      0.53      0.53      5000\n",
            "           4       0.56      0.54      0.55      5000\n",
            "           5       0.68      0.46      0.55      5000\n",
            "           6       0.62      0.72      0.67      5000\n",
            "           7       0.66      0.76      0.71      5000\n",
            "           8       0.70      0.78      0.74      5000\n",
            "           9       0.73      0.65      0.69      5000\n",
            "\n",
            "    accuracy                           0.64     50000\n",
            "   macro avg       0.64      0.64      0.64     50000\n",
            "weighted avg       0.64      0.64      0.64     50000\n",
            "\n"
          ]
        }
      ]
    },
    {
      "cell_type": "code",
      "source": [
        "y_test_pred2=model2.predict(x_test)\n",
        "y_test_pred2=np.argmax(y_test_pred2,axis=1)\n",
        "test_report2=classification_report(y_test, y_test_pred2)\n",
        "print(test_report2)"
      ],
      "metadata": {
        "colab": {
          "base_uri": "https://localhost:8080/"
        },
        "id": "uKEJ28lMzcj8",
        "outputId": "fdf11500-99cd-4b93-861b-a98847d79e7b"
      },
      "execution_count": 85,
      "outputs": [
        {
          "output_type": "stream",
          "name": "stdout",
          "text": [
            "313/313 [==============================] - 3s 9ms/step\n",
            "              precision    recall  f1-score   support\n",
            "\n",
            "           0       0.53      0.58      0.56      1000\n",
            "           1       0.59      0.61      0.60      1000\n",
            "           2       0.40      0.36      0.38      1000\n",
            "           3       0.32      0.34      0.33      1000\n",
            "           4       0.42      0.40      0.41      1000\n",
            "           5       0.42      0.28      0.34      1000\n",
            "           6       0.48      0.57      0.52      1000\n",
            "           7       0.53      0.61      0.57      1000\n",
            "           8       0.59      0.66      0.62      1000\n",
            "           9       0.57      0.48      0.52      1000\n",
            "\n",
            "    accuracy                           0.49     10000\n",
            "   macro avg       0.49      0.49      0.48     10000\n",
            "weighted avg       0.49      0.49      0.48     10000\n",
            "\n"
          ]
        }
      ]
    },
    {
      "cell_type": "code",
      "source": [
        "plt.plot(log2.history['accuracy'])\n",
        "plt.plot(log2.history['val_accuracy'])\n",
        "plt.xlabel('epoches')\n",
        "plt.ylabel('accuracy')\n",
        "plt.show()"
      ],
      "metadata": {
        "colab": {
          "base_uri": "https://localhost:8080/",
          "height": 279
        },
        "id": "a9gAnsZGzkPn",
        "outputId": "fcb9e11a-7063-4617-fc6f-2e8b8727d59b"
      },
      "execution_count": 86,
      "outputs": [
        {
          "output_type": "display_data",
          "data": {
            "text/plain": [
              "<Figure size 432x288 with 1 Axes>"
            ],
            "image/png": "[encoded data removed]"
          },
          "metadata": {
            "needs_background": "light"
          }
        }
      ]
    },
    {
      "cell_type": "code",
      "source": [
        "plt.plot(log2.history['loss'])\n",
        "plt.plot(log2.history['val_loss'])\n",
        "plt.xlabel('epoches')\n",
        "plt.ylabel('loss')\n",
        "plt.show()"
      ],
      "metadata": {
        "colab": {
          "base_uri": "https://localhost:8080/",
          "height": 279
        },
        "id": "bKNPi2Rszlew",
        "outputId": "de9c08b2-9318-4194-e005-07f365229c29"
      },
      "execution_count": 87,
      "outputs": [
        {
          "output_type": "display_data",
          "data": {
            "text/plain": [
              "<Figure size 432x288 with 1 Axes>"
            ],
            "image/png": "[encoded data removed]"
          },
          "metadata": {
            "needs_background": "light"
          }
        }
      ]
    },
    {
      "cell_type": "markdown",
      "source": [
        "##Loss Function"
      ],
      "metadata": {
        "id": "_MlmcYdzTB4U"
      }
    },
    {
      "cell_type": "code",
      "source": [
        "model2 = tf.keras.models.Sequential([\n",
        "    tf.keras.layers.Flatten(input_shape=(32,32,3)),\n",
        "    tf.keras.layers.Dense(1024, activation='relu'),\n",
        "    tf.keras.layers.Dense(512, activation='relu'),\n",
        "    tf.keras.layers.Dense(256, activation='relu'),\n",
        "    tf.keras.layers.Dense(128, activation='relu'),\n",
        "    tf.keras.layers.Dense(64, activation='relu'),\n",
        "    tf.keras.layers.Dense(10, activation='softmax')\n",
        "\n",
        "])"
      ],
      "metadata": {
        "id": "NemyFoT_QIPA"
      },
      "execution_count": 158,
      "outputs": []
    },
    {
      "cell_type": "code",
      "source": [
        "model2.compile(optimizer=keras.optimizers.Adam(learning_rate=0.001), loss=\"mse\", metrics=[\"accuracy\"])"
      ],
      "metadata": {
        "id": "pT_WiSLwTqjV"
      },
      "execution_count": 159,
      "outputs": []
    },
    {
      "cell_type": "code",
      "source": [
        "log2=model2.fit(x_train,y_train_cat,validation_data=(x_test, y_test_cat),epochs=10,batch_size=32)"
      ],
      "metadata": {
        "colab": {
          "base_uri": "https://localhost:8080/"
        },
        "id": "7lSkGXxJT48x",
        "outputId": "d47bce78-21d9-4362-e146-61b21c58ad93"
      },
      "execution_count": 160,
      "outputs": [
        {
          "output_type": "stream",
          "name": "stdout",
          "text": [
            "Epoch 1/10\n",
            "1563/1563 [==============================] - 47s 30ms/step - loss: 0.0821 - accuracy: 0.2780 - val_loss: 0.0771 - val_accuracy: 0.3534\n",
            "Epoch 2/10\n",
            "1563/1563 [==============================] - 47s 30ms/step - loss: 0.0763 - accuracy: 0.3593 - val_loss: 0.0745 - val_accuracy: 0.3774\n",
            "Epoch 3/10\n",
            "1563/1563 [==============================] - 48s 31ms/step - loss: 0.0741 - accuracy: 0.3884 - val_loss: 0.0729 - val_accuracy: 0.4029\n",
            "Epoch 4/10\n",
            "1563/1563 [==============================] - 47s 30ms/step - loss: 0.0723 - accuracy: 0.4105 - val_loss: 0.0712 - val_accuracy: 0.4175\n",
            "Epoch 5/10\n",
            "1563/1563 [==============================] - 47s 30ms/step - loss: 0.0709 - accuracy: 0.4250 - val_loss: 0.0702 - val_accuracy: 0.4291\n",
            "Epoch 6/10\n",
            "1563/1563 [==============================] - 47s 30ms/step - loss: 0.0696 - accuracy: 0.4410 - val_loss: 0.0707 - val_accuracy: 0.4353\n",
            "Epoch 7/10\n",
            "1563/1563 [==============================] - 47s 30ms/step - loss: 0.0687 - accuracy: 0.4497 - val_loss: 0.0706 - val_accuracy: 0.4377\n",
            "Epoch 8/10\n",
            "1563/1563 [==============================] - 46s 30ms/step - loss: 0.0675 - accuracy: 0.4605 - val_loss: 0.0705 - val_accuracy: 0.4273\n",
            "Epoch 9/10\n",
            "1563/1563 [==============================] - 46s 29ms/step - loss: 0.0668 - accuracy: 0.4670 - val_loss: 0.0682 - val_accuracy: 0.4640\n",
            "Epoch 10/10\n",
            "1563/1563 [==============================] - 46s 29ms/step - loss: 0.0663 - accuracy: 0.4714 - val_loss: 0.0677 - val_accuracy: 0.4622\n"
          ]
        }
      ]
    },
    {
      "cell_type": "code",
      "source": [
        "y_train_pred2=model2.predict(x_train)\n",
        "y_train_pred2=np.argmax(y_train_pred2,axis=1)\n",
        "train_report2=classification_report(y_train, y_train_pred2)\n",
        "print(train_report2)"
      ],
      "metadata": {
        "colab": {
          "base_uri": "https://localhost:8080/"
        },
        "id": "2m6HGNfKUgyX",
        "outputId": "067ee9e5-19bb-4a95-9c7c-4d9210af4529"
      },
      "execution_count": 161,
      "outputs": [
        {
          "output_type": "stream",
          "name": "stdout",
          "text": [
            "1563/1563 [==============================] - 13s 8ms/step\n",
            "              precision    recall  f1-score   support\n",
            "\n",
            "           0       0.46      0.63      0.53      5000\n",
            "           1       0.56      0.64      0.60      5000\n",
            "           2       0.41      0.24      0.31      5000\n",
            "           3       0.35      0.38      0.37      5000\n",
            "           4       0.48      0.33      0.39      5000\n",
            "           5       0.52      0.26      0.34      5000\n",
            "           6       0.42      0.67      0.52      5000\n",
            "           7       0.51      0.61      0.55      5000\n",
            "           8       0.70      0.52      0.60      5000\n",
            "           9       0.53      0.60      0.56      5000\n",
            "\n",
            "    accuracy                           0.49     50000\n",
            "   macro avg       0.49      0.49      0.48     50000\n",
            "weighted avg       0.49      0.49      0.48     50000\n",
            "\n"
          ]
        }
      ]
    },
    {
      "cell_type": "code",
      "source": [
        "y_test_pred2=model2.predict(x_test)\n",
        "y_test_pred2=np.argmax(y_test_pred2,axis=1)\n",
        "test_report2=classification_report(y_test, y_test_pred2)\n",
        "print(test_report2)"
      ],
      "metadata": {
        "colab": {
          "base_uri": "https://localhost:8080/"
        },
        "id": "HtNp7TP7WBZu",
        "outputId": "cb66d9a0-5600-445b-a5cd-910524837bb2"
      },
      "execution_count": 162,
      "outputs": [
        {
          "output_type": "stream",
          "name": "stdout",
          "text": [
            "313/313 [==============================] - 3s 9ms/step\n",
            "              precision    recall  f1-score   support\n",
            "\n",
            "           0       0.46      0.64      0.53      1000\n",
            "           1       0.53      0.60      0.57      1000\n",
            "           2       0.39      0.22      0.28      1000\n",
            "           3       0.33      0.34      0.33      1000\n",
            "           4       0.44      0.30      0.36      1000\n",
            "           5       0.47      0.24      0.32      1000\n",
            "           6       0.42      0.67      0.52      1000\n",
            "           7       0.47      0.57      0.52      1000\n",
            "           8       0.64      0.51      0.57      1000\n",
            "           9       0.50      0.53      0.52      1000\n",
            "\n",
            "    accuracy                           0.46     10000\n",
            "   macro avg       0.46      0.46      0.45     10000\n",
            "weighted avg       0.46      0.46      0.45     10000\n",
            "\n"
          ]
        }
      ]
    },
    {
      "cell_type": "code",
      "source": [
        "plt.plot(log2.history['accuracy'])\n",
        "plt.plot(log2.history['val_accuracy'])\n",
        "plt.xlabel('epoches')\n",
        "plt.ylabel('accuracy')\n",
        "plt.show()"
      ],
      "metadata": {
        "colab": {
          "base_uri": "https://localhost:8080/",
          "height": 279
        },
        "id": "G0ICoutIWVAY",
        "outputId": "dd8484ae-8247-4855-fa18-75c2acf806af"
      },
      "execution_count": 163,
      "outputs": [
        {
          "output_type": "display_data",
          "data": {
            "text/plain": [
              "<Figure size 432x288 with 1 Axes>"
            ],
            "image/png": "[encoded data removed]"
          },
          "metadata": {
            "needs_background": "light"
          }
        }
      ]
    },
    {
      "cell_type": "code",
      "source": [
        "plt.plot(log2.history['loss'])\n",
        "plt.plot(log2.history['val_loss'])\n",
        "plt.xlabel('epoches')\n",
        "plt.ylabel('loss')\n",
        "plt.show()"
      ],
      "metadata": {
        "colab": {
          "base_uri": "https://localhost:8080/",
          "height": 279
        },
        "id": "NDXVhQslXD0X",
        "outputId": "0a91a330-bb68-49f6-f3c3-c0048e2db5c8"
      },
      "execution_count": 164,
      "outputs": [
        {
          "output_type": "display_data",
          "data": {
            "text/plain": [
              "<Figure size 432x288 with 1 Axes>"
            ],
            "image/png": "[encoded data removed]"
          },
          "metadata": {
            "needs_background": "light"
          }
        }
      ]
    },
    {
      "cell_type": "markdown",
      "source": [
        "We can see that it did worse than categorical loss on model.\n",
        "\n",
        "It has some reasons:\n",
        "\n",
        "In fact MSE loss function calculates the distance between predicted value and correct value. In order to calculate this value it assign categories numrical values , bacause of that it calculate the distance between predicted class of 8 and true class of 10 more than the distance between predicted class of 3 and true class of 1 , which is not true.\n",
        "\n",
        "Also In categorical data we don't have normal distribution , but MSE assume that our data has.\n",
        "\n",
        "\n",
        "MSE is usually used as a loss function in regression problems."
      ],
      "metadata": {
        "id": "KB8LR4KtXne3"
      }
    },
    {
      "cell_type": "markdown",
      "source": [
        "##Regularization"
      ],
      "metadata": {
        "id": "nOFGr5-gan9m"
      }
    },
    {
      "cell_type": "markdown",
      "source": [
        "We have three kinds of layer weights regulizers:\n",
        "\n",
        "\n",
        "\n",
        "*   kernel_regularizer: Regularizer to apply a penalty on the layer's kernel\n",
        "*   bias_regularizer: Regularizer to apply a penalty on the layer's bias\n",
        "*   activity_regularizer: Regularizer to apply a penalty on the layer's output\n",
        "\n",
        "\n",
        "\n",
        "\n"
      ],
      "metadata": {
        "id": "5tsUJWeZcAHb"
      }
    },
    {
      "cell_type": "code",
      "source": [
        "model2 = tf.keras.models.Sequential([\n",
        "    tf.keras.layers.Flatten(input_shape=(32,32,3)),\n",
        "    tf.keras.layers.Dense(1024, activation='relu'),\n",
        "    tf.keras.layers.Dropout(rate=0.1),\n",
        "    tf.keras.layers.Dense(512, activation='relu'),\n",
        "    tf.keras.layers.Dropout(rate=0.1),\n",
        "    tf.keras.layers.Dense(256, activation='relu'),\n",
        "    tf.keras.layers.Dropout(rate=0.1),\n",
        "    tf.keras.layers.Dense(128, activation='relu'),\n",
        "    tf.keras.layers.Dropout(rate=0.1),\n",
        "    tf.keras.layers.Dense(64, activation='relu'),\n",
        "    tf.keras.layers.Dropout(rate=0.1),\n",
        "    tf.keras.layers.Dense(10, activation='softmax')\n",
        "\n",
        "])"
      ],
      "metadata": {
        "id": "G5jTw4n7X-te"
      },
      "execution_count": 173,
      "outputs": []
    },
    {
      "cell_type": "code",
      "source": [
        "model2.compile(optimizer=keras.optimizers.SGD(learning_rate=0.01), loss=keras.losses.categorical_crossentropy, metrics=[\"accuracy\"])"
      ],
      "metadata": {
        "id": "yOUTsRg0oiyo"
      },
      "execution_count": 174,
      "outputs": []
    },
    {
      "cell_type": "code",
      "source": [
        "log2=model2.fit(x_train,y_train_cat,validation_data=(x_test, y_test_cat),epochs=10,batch_size=32)"
      ],
      "metadata": {
        "colab": {
          "base_uri": "https://localhost:8080/"
        },
        "id": "X-RRheM8onz5",
        "outputId": "c41f7c6c-bd1e-4b11-f2e4-5debea9fface"
      },
      "execution_count": 175,
      "outputs": [
        {
          "output_type": "stream",
          "name": "stdout",
          "text": [
            "Epoch 1/10\n",
            "1563/1563 [==============================] - 39s 25ms/step - loss: 1.9889 - accuracy: 0.2662 - val_loss: 1.8117 - val_accuracy: 0.3367\n",
            "Epoch 2/10\n",
            "1563/1563 [==============================] - 38s 24ms/step - loss: 1.7928 - accuracy: 0.3508 - val_loss: 1.6698 - val_accuracy: 0.3946\n",
            "Epoch 3/10\n",
            "1563/1563 [==============================] - 39s 25ms/step - loss: 1.7097 - accuracy: 0.3860 - val_loss: 1.6005 - val_accuracy: 0.4259\n",
            "Epoch 4/10\n",
            "1563/1563 [==============================] - 38s 25ms/step - loss: 1.6530 - accuracy: 0.4069 - val_loss: 1.5400 - val_accuracy: 0.4567\n",
            "Epoch 5/10\n",
            "1563/1563 [==============================] - 38s 24ms/step - loss: 1.6074 - accuracy: 0.4244 - val_loss: 1.5352 - val_accuracy: 0.4485\n",
            "Epoch 6/10\n",
            "1563/1563 [==============================] - 37s 24ms/step - loss: 1.5706 - accuracy: 0.4398 - val_loss: 1.5574 - val_accuracy: 0.4389\n",
            "Epoch 7/10\n",
            "1563/1563 [==============================] - 38s 24ms/step - loss: 1.5328 - accuracy: 0.4526 - val_loss: 1.4951 - val_accuracy: 0.4659\n",
            "Epoch 8/10\n",
            "1563/1563 [==============================] - 37s 24ms/step - loss: 1.5089 - accuracy: 0.4584 - val_loss: 1.4491 - val_accuracy: 0.4817\n",
            "Epoch 9/10\n",
            "1563/1563 [==============================] - 37s 24ms/step - loss: 1.4821 - accuracy: 0.4700 - val_loss: 1.4306 - val_accuracy: 0.4895\n",
            "Epoch 10/10\n",
            "1563/1563 [==============================] - 37s 24ms/step - loss: 1.4544 - accuracy: 0.4773 - val_loss: 1.4193 - val_accuracy: 0.4927\n"
          ]
        }
      ]
    },
    {
      "cell_type": "code",
      "source": [
        "y_train_pred=model2.predict(x_train)\n",
        "y_train_pred=np.argmax(y_train_pred,axis=1)\n",
        "\n",
        "train_report=classification_report(y_train, y_train_pred)\n",
        "print(train_report)\n",
        "\n",
        "y_test_pred=model2.predict(x_test)\n",
        "y_test_pred=np.argmax(y_test_pred,axis=1)\n",
        "\n",
        "test_report=classification_report(y_test, y_test_pred)\n",
        "print(test_report)"
      ],
      "metadata": {
        "colab": {
          "base_uri": "https://localhost:8080/"
        },
        "id": "CWScUTpLWDxC",
        "outputId": "e16452d5-9062-41c5-c813-d9788e7166b5"
      },
      "execution_count": 176,
      "outputs": [
        {
          "output_type": "stream",
          "name": "stdout",
          "text": [
            "1563/1563 [==============================] - 13s 8ms/step\n",
            "              precision    recall  f1-score   support\n",
            "\n",
            "           0       0.60      0.53      0.56      5000\n",
            "           1       0.60      0.72      0.65      5000\n",
            "           2       0.40      0.32      0.35      5000\n",
            "           3       0.33      0.45      0.38      5000\n",
            "           4       0.58      0.28      0.38      5000\n",
            "           5       0.41      0.40      0.41      5000\n",
            "           6       0.48      0.64      0.55      5000\n",
            "           7       0.63      0.58      0.60      5000\n",
            "           8       0.72      0.58      0.64      5000\n",
            "           9       0.53      0.65      0.58      5000\n",
            "\n",
            "    accuracy                           0.51     50000\n",
            "   macro avg       0.53      0.51      0.51     50000\n",
            "weighted avg       0.53      0.51      0.51     50000\n",
            "\n",
            "313/313 [==============================] - 3s 8ms/step\n",
            "              precision    recall  f1-score   support\n",
            "\n",
            "           0       0.60      0.54      0.57      1000\n",
            "           1       0.59      0.70      0.64      1000\n",
            "           2       0.38      0.30      0.34      1000\n",
            "           3       0.30      0.40      0.34      1000\n",
            "           4       0.56      0.26      0.35      1000\n",
            "           5       0.39      0.40      0.40      1000\n",
            "           6       0.47      0.63      0.53      1000\n",
            "           7       0.59      0.53      0.56      1000\n",
            "           8       0.69      0.56      0.62      1000\n",
            "           9       0.50      0.61      0.55      1000\n",
            "\n",
            "    accuracy                           0.49     10000\n",
            "   macro avg       0.51      0.49      0.49     10000\n",
            "weighted avg       0.51      0.49      0.49     10000\n",
            "\n"
          ]
        }
      ]
    },
    {
      "cell_type": "code",
      "source": [
        "plt.plot(log2.history['accuracy'])\n",
        "plt.plot(log2.history['val_accuracy'])\n",
        "plt.xlabel('epoches')\n",
        "plt.ylabel('accuracy')\n",
        "plt.show()"
      ],
      "metadata": {
        "colab": {
          "base_uri": "https://localhost:8080/",
          "height": 280
        },
        "id": "KxXHhQ9XZNQ9",
        "outputId": "f5159c87-e870-4ea4-a217-6f3bdc8676de"
      },
      "execution_count": 179,
      "outputs": [
        {
          "output_type": "display_data",
          "data": {
            "text/plain": [
              "<Figure size 432x288 with 1 Axes>"
            ],
            "image/png": "[encoded data removed]"
          },
          "metadata": {
            "needs_background": "light"
          }
        }
      ]
    },
    {
      "cell_type": "code",
      "source": [
        "plt.plot(log2.history['loss'])\n",
        "plt.plot(log2.history['val_loss'])\n",
        "plt.xlabel('epoches')\n",
        "plt.ylabel('loss')\n",
        "plt.show()"
      ],
      "metadata": {
        "colab": {
          "base_uri": "https://localhost:8080/",
          "height": 279
        },
        "id": "NF4Ijf4PZU0K",
        "outputId": "0fd10625-6eaf-42a0-d4eb-249f245363ea"
      },
      "execution_count": 180,
      "outputs": [
        {
          "output_type": "display_data",
          "data": {
            "text/plain": [
              "<Figure size 432x288 with 1 Axes>"
            ],
            "image/png": "[encoded data removed]"
          },
          "metadata": {
            "needs_background": "light"
          }
        }
      ]
    },
    {
      "cell_type": "markdown",
      "source": [
        "Dropout is a technique where randomly selected neurons are ignored during training. They are “dropped out” randomly. This means that their contribution to the activation of downstream neurons is temporally removed on the forward pass, and any weight updates are not applied to the neuron on the backward pass."
      ],
      "metadata": {
        "id": "5T2wlddXptf9"
      }
    },
    {
      "cell_type": "markdown",
      "source": [
        "When we use dropout regularization , we see although it doesn't make tremendous change on accuaracy of train data but it results better on test data.\n",
        "\n",
        "In fact with using dropout method , we can avoid overfitting and high variance ."
      ],
      "metadata": {
        "id": "4XIhdBt6p5cs"
      }
    },
    {
      "cell_type": "markdown",
      "source": [
        "##Another model :\n",
        "We train another model in order to see the impacts of all changes we made better:"
      ],
      "metadata": {
        "id": "kckKVQRIjT1H"
      }
    },
    {
      "cell_type": "code",
      "source": [
        "model3 = tf.keras.models.Sequential([\n",
        "    tf.keras.layers.Flatten(input_shape=(32,32,3)),\n",
        "    tf.keras.layers.Dense(512, activation='relu'),\n",
        "    tf.keras.layers.Dense(256, activation='relu'),\n",
        "    tf.keras.layers.Dense(128, activation='relu'),\n",
        "    tf.keras.layers.Dense(10, activation='softmax')\n",
        "\n",
        "])"
      ],
      "metadata": {
        "id": "fXfg45qSjP7V"
      },
      "execution_count": 181,
      "outputs": []
    },
    {
      "cell_type": "code",
      "source": [
        "model3.compile(optimizer=keras.optimizers.SGD(learning_rate=0.01), loss=keras.losses.categorical_crossentropy, metrics=[\"accuracy\"])\n",
        "log2=model3.fit(x_train,y_train_cat,validation_data=(x_test, y_test_cat),epochs=10,batch_size=32)"
      ],
      "metadata": {
        "colab": {
          "base_uri": "https://localhost:8080/"
        },
        "id": "dCwYWpNalf5L",
        "outputId": "b8a95da0-e49b-476c-b506-8109b03968f0"
      },
      "execution_count": 182,
      "outputs": [
        {
          "output_type": "stream",
          "name": "stdout",
          "text": [
            "Epoch 1/10\n",
            "1563/1563 [==============================] - 16s 10ms/step - loss: 1.8768 - accuracy: 0.3260 - val_loss: 1.7578 - val_accuracy: 0.3579\n",
            "Epoch 2/10\n",
            "1563/1563 [==============================] - 15s 10ms/step - loss: 1.6796 - accuracy: 0.4011 - val_loss: 1.6502 - val_accuracy: 0.4045\n",
            "Epoch 3/10\n",
            "1563/1563 [==============================] - 16s 10ms/step - loss: 1.5918 - accuracy: 0.4335 - val_loss: 1.5847 - val_accuracy: 0.4286\n",
            "Epoch 4/10\n",
            "1563/1563 [==============================] - 16s 10ms/step - loss: 1.5326 - accuracy: 0.4566 - val_loss: 1.6049 - val_accuracy: 0.4323\n",
            "Epoch 5/10\n",
            "1563/1563 [==============================] - 16s 10ms/step - loss: 1.4837 - accuracy: 0.4753 - val_loss: 1.5245 - val_accuracy: 0.4569\n",
            "Epoch 6/10\n",
            "1563/1563 [==============================] - 15s 10ms/step - loss: 1.4426 - accuracy: 0.4864 - val_loss: 1.6398 - val_accuracy: 0.4071\n",
            "Epoch 7/10\n",
            "1563/1563 [==============================] - 16s 10ms/step - loss: 1.4076 - accuracy: 0.5031 - val_loss: 1.5294 - val_accuracy: 0.4556\n",
            "Epoch 8/10\n",
            "1563/1563 [==============================] - 16s 10ms/step - loss: 1.3755 - accuracy: 0.5118 - val_loss: 1.4276 - val_accuracy: 0.4881\n",
            "Epoch 9/10\n",
            "1563/1563 [==============================] - 16s 10ms/step - loss: 1.3453 - accuracy: 0.5202 - val_loss: 1.3969 - val_accuracy: 0.5030\n",
            "Epoch 10/10\n",
            "1563/1563 [==============================] - 15s 10ms/step - loss: 1.3183 - accuracy: 0.5291 - val_loss: 1.5128 - val_accuracy: 0.4721\n"
          ]
        }
      ]
    },
    {
      "cell_type": "code",
      "source": [
        "y_train_pred=model3.predict(x_train)\n",
        "y_train_pred=np.argmax(y_train_pred,axis=1)\n",
        "\n",
        "train_report=classification_report(y_train, y_train_pred)\n",
        "print(train_report)\n",
        "\n",
        "y_test_pred=model3.predict(x_test)\n",
        "y_test_pred=np.argmax(y_test_pred,axis=1)\n",
        "\n",
        "test_report=classification_report(y_test, y_test_pred)\n",
        "print(test_report)"
      ],
      "metadata": {
        "colab": {
          "base_uri": "https://localhost:8080/"
        },
        "id": "ZE94ZrC-kX7G",
        "outputId": "6bb60642-b09c-49d2-bc32-2e1682156c92"
      },
      "execution_count": 183,
      "outputs": [
        {
          "output_type": "stream",
          "name": "stdout",
          "text": [
            "1563/1563 [==============================] - 7s 4ms/step\n",
            "              precision    recall  f1-score   support\n",
            "\n",
            "           0       0.64      0.41      0.50      5000\n",
            "           1       0.41      0.87      0.55      5000\n",
            "           2       0.41      0.45      0.43      5000\n",
            "           3       0.41      0.40      0.41      5000\n",
            "           4       0.59      0.29      0.39      5000\n",
            "           5       0.56      0.26      0.35      5000\n",
            "           6       0.63      0.51      0.56      5000\n",
            "           7       0.69      0.53      0.60      5000\n",
            "           8       0.54      0.72      0.62      5000\n",
            "           9       0.49      0.61      0.54      5000\n",
            "\n",
            "    accuracy                           0.51     50000\n",
            "   macro avg       0.54      0.51      0.50     50000\n",
            "weighted avg       0.54      0.51      0.50     50000\n",
            "\n",
            "313/313 [==============================] - 1s 4ms/step\n",
            "              precision    recall  f1-score   support\n",
            "\n",
            "           0       0.61      0.41      0.49      1000\n",
            "           1       0.38      0.83      0.52      1000\n",
            "           2       0.38      0.42      0.40      1000\n",
            "           3       0.37      0.36      0.37      1000\n",
            "           4       0.57      0.27      0.36      1000\n",
            "           5       0.51      0.24      0.33      1000\n",
            "           6       0.61      0.51      0.56      1000\n",
            "           7       0.64      0.48      0.55      1000\n",
            "           8       0.50      0.68      0.58      1000\n",
            "           9       0.44      0.52      0.48      1000\n",
            "\n",
            "    accuracy                           0.47     10000\n",
            "   macro avg       0.50      0.47      0.46     10000\n",
            "weighted avg       0.50      0.47      0.46     10000\n",
            "\n"
          ]
        }
      ]
    },
    {
      "cell_type": "code",
      "source": [
        "plt.plot(log2.history['accuracy'])\n",
        "plt.plot(log2.history['val_accuracy'])\n",
        "plt.xlabel('epoches')\n",
        "plt.ylabel('accuracy')\n",
        "plt.show()"
      ],
      "metadata": {
        "colab": {
          "base_uri": "https://localhost:8080/",
          "height": 279
        },
        "id": "A9DR9nonkuki",
        "outputId": "769e9a5a-ef8d-400a-9926-79bb485356b7"
      },
      "execution_count": 184,
      "outputs": [
        {
          "output_type": "display_data",
          "data": {
            "text/plain": [
              "<Figure size 432x288 with 1 Axes>"
            ],
            "image/png": "[encoded data removed]"
          },
          "metadata": {
            "needs_background": "light"
          }
        }
      ]
    },
    {
      "cell_type": "code",
      "source": [
        "plt.plot(log2.history['loss'])\n",
        "plt.plot(log2.history['val_loss'])\n",
        "plt.xlabel('epoches')\n",
        "plt.ylabel('loss')\n",
        "plt.show()"
      ],
      "metadata": {
        "colab": {
          "base_uri": "https://localhost:8080/",
          "height": 282
        },
        "id": "K_yel9GokzY6",
        "outputId": "41ae8726-7188-42d0-e3b6-54cc65e5e9b4"
      },
      "execution_count": 185,
      "outputs": [
        {
          "output_type": "display_data",
          "data": {
            "text/plain": [
              "<Figure size 432x288 with 1 Axes>"
            ],
            "image/png": "[encoded data removed]"
          },
          "metadata": {
            "needs_background": "light"
          }
        }
      ]
    },
    {
      "cell_type": "markdown",
      "source": [
        "##momentum "
      ],
      "metadata": {
        "id": "gHcjFqTNlRIx"
      }
    },
    {
      "cell_type": "code",
      "source": [
        "model3 = tf.keras.models.Sequential([\n",
        "    tf.keras.layers.Flatten(input_shape=(32,32,3)),\n",
        "    tf.keras.layers.Dense(512, activation='relu'),\n",
        "    tf.keras.layers.Dense(256, activation='relu'),\n",
        "    tf.keras.layers.Dense(128, activation='relu'),\n",
        "    tf.keras.layers.Dense(10, activation='softmax')\n",
        "\n",
        "])"
      ],
      "metadata": {
        "id": "95Yx9v9qQ3iR"
      },
      "execution_count": 117,
      "outputs": []
    },
    {
      "cell_type": "code",
      "source": [
        "model3.compile(optimizer=keras.optimizers.SGD(learning_rate=0.01,momentum=0.5), loss=keras.losses.categorical_crossentropy, metrics=[\"accuracy\"])\n",
        "log2=model3.fit(x_train,y_train_cat,validation_data=(x_test, y_test_cat),epochs=10,batch_size=32)"
      ],
      "metadata": {
        "colab": {
          "base_uri": "https://localhost:8080/"
        },
        "id": "ypHDhhbFlQqk",
        "outputId": "c76cf189-76d9-404e-9039-ac8e8422f6b0"
      },
      "execution_count": 118,
      "outputs": [
        {
          "output_type": "stream",
          "name": "stdout",
          "text": [
            "Epoch 1/10\n",
            "1563/1563 [==============================] - 19s 12ms/step - loss: 1.8360 - accuracy: 0.3396 - val_loss: 1.7748 - val_accuracy: 0.3550\n",
            "Epoch 2/10\n",
            "1563/1563 [==============================] - 18s 12ms/step - loss: 1.6401 - accuracy: 0.4135 - val_loss: 1.6010 - val_accuracy: 0.4335\n",
            "Epoch 3/10\n",
            "1563/1563 [==============================] - 18s 12ms/step - loss: 1.5521 - accuracy: 0.4467 - val_loss: 1.5109 - val_accuracy: 0.4643\n",
            "Epoch 4/10\n",
            "1563/1563 [==============================] - 18s 12ms/step - loss: 1.4937 - accuracy: 0.4648 - val_loss: 1.4906 - val_accuracy: 0.4752\n",
            "Epoch 5/10\n",
            "1563/1563 [==============================] - 18s 11ms/step - loss: 1.4466 - accuracy: 0.4832 - val_loss: 1.4522 - val_accuracy: 0.4864\n",
            "Epoch 6/10\n",
            "1563/1563 [==============================] - 18s 12ms/step - loss: 1.4048 - accuracy: 0.4987 - val_loss: 1.4691 - val_accuracy: 0.4805\n",
            "Epoch 7/10\n",
            "1563/1563 [==============================] - 18s 12ms/step - loss: 1.3667 - accuracy: 0.5136 - val_loss: 1.3758 - val_accuracy: 0.5123\n",
            "Epoch 8/10\n",
            "1563/1563 [==============================] - 18s 11ms/step - loss: 1.3363 - accuracy: 0.5188 - val_loss: 1.3769 - val_accuracy: 0.5107\n",
            "Epoch 9/10\n",
            "1563/1563 [==============================] - 18s 11ms/step - loss: 1.3060 - accuracy: 0.5352 - val_loss: 1.3952 - val_accuracy: 0.5072\n",
            "Epoch 10/10\n",
            "1563/1563 [==============================] - 18s 11ms/step - loss: 1.2746 - accuracy: 0.5459 - val_loss: 1.4173 - val_accuracy: 0.5025\n"
          ]
        }
      ]
    },
    {
      "cell_type": "code",
      "source": [
        "y_train_pred=model3.predict(x_train)\n",
        "y_train_pred=np.argmax(y_train_pred,axis=1)\n",
        "\n",
        "train_report=classification_report(y_train, y_train_pred)\n",
        "print(train_report)\n",
        "\n",
        "y_test_pred=model3.predict(x_test)\n",
        "y_test_pred=np.argmax(y_test_pred,axis=1)\n",
        "\n",
        "test_report=classification_report(y_test, y_test_pred)\n",
        "print(test_report)"
      ],
      "metadata": {
        "colab": {
          "base_uri": "https://localhost:8080/"
        },
        "id": "w3FJKabblVPN",
        "outputId": "e9557770-86ae-48c3-d302-6989bba242e6"
      },
      "execution_count": 119,
      "outputs": [
        {
          "output_type": "stream",
          "name": "stdout",
          "text": [
            "1563/1563 [==============================] - 7s 4ms/step\n",
            "              precision    recall  f1-score   support\n",
            "\n",
            "           0       0.60      0.58      0.59      5000\n",
            "           1       0.60      0.77      0.67      5000\n",
            "           2       0.43      0.47      0.45      5000\n",
            "           3       0.49      0.30      0.37      5000\n",
            "           4       0.55      0.40      0.46      5000\n",
            "           5       0.67      0.22      0.34      5000\n",
            "           6       0.54      0.66      0.59      5000\n",
            "           7       0.53      0.69      0.60      5000\n",
            "           8       0.67      0.68      0.68      5000\n",
            "           9       0.49      0.73      0.59      5000\n",
            "\n",
            "    accuracy                           0.55     50000\n",
            "   macro avg       0.56      0.55      0.53     50000\n",
            "weighted avg       0.56      0.55      0.53     50000\n",
            "\n",
            "313/313 [==============================] - 1s 5ms/step\n",
            "              precision    recall  f1-score   support\n",
            "\n",
            "           0       0.59      0.55      0.57      1000\n",
            "           1       0.56      0.70      0.62      1000\n",
            "           2       0.39      0.43      0.41      1000\n",
            "           3       0.41      0.24      0.30      1000\n",
            "           4       0.50      0.36      0.42      1000\n",
            "           5       0.59      0.20      0.29      1000\n",
            "           6       0.51      0.61      0.56      1000\n",
            "           7       0.48      0.63      0.54      1000\n",
            "           8       0.62      0.65      0.63      1000\n",
            "           9       0.44      0.66      0.53      1000\n",
            "\n",
            "    accuracy                           0.50     10000\n",
            "   macro avg       0.51      0.50      0.49     10000\n",
            "weighted avg       0.51      0.50      0.49     10000\n",
            "\n"
          ]
        }
      ]
    },
    {
      "cell_type": "code",
      "source": [
        "plt.plot(log2.history['accuracy'])\n",
        "plt.plot(log2.history['val_accuracy'])\n",
        "plt.xlabel('epoches')\n",
        "plt.ylabel('accuracy')\n",
        "plt.show()"
      ],
      "metadata": {
        "colab": {
          "base_uri": "https://localhost:8080/",
          "height": 279
        },
        "id": "7MYsyX8XmCb2",
        "outputId": "9c6adef9-48a7-483d-cc8f-b382c744a926"
      },
      "execution_count": 120,
      "outputs": [
        {
          "output_type": "display_data",
          "data": {
            "text/plain": [
              "<Figure size 432x288 with 1 Axes>"
            ],
            "image/png": "[encoded data removed]"
          },
          "metadata": {
            "needs_background": "light"
          }
        }
      ]
    },
    {
      "cell_type": "code",
      "source": [
        "plt.plot(log2.history['loss'])\n",
        "plt.plot(log2.history['val_loss'])\n",
        "plt.xlabel('epoches')\n",
        "plt.ylabel('loss')\n",
        "plt.show()"
      ],
      "metadata": {
        "colab": {
          "base_uri": "https://localhost:8080/",
          "height": 279
        },
        "id": "jclmyjrHmFDf",
        "outputId": "38283e40-3717-4e43-ff88-147b1955206e"
      },
      "execution_count": 121,
      "outputs": [
        {
          "output_type": "display_data",
          "data": {
            "text/plain": [
              "<Figure size 432x288 with 1 Axes>"
            ],
            "image/png": "[encoded data removed]"
          },
          "metadata": {
            "needs_background": "light"
          }
        }
      ]
    },
    {
      "cell_type": "markdown",
      "source": [
        "momentum=0.9:"
      ],
      "metadata": {
        "id": "uvDiQq96mK_W"
      }
    },
    {
      "cell_type": "code",
      "source": [
        "model3 = tf.keras.models.Sequential([\n",
        "    tf.keras.layers.Flatten(input_shape=(32,32,3)),\n",
        "    tf.keras.layers.Dense(512, activation='relu'),\n",
        "    tf.keras.layers.Dense(256, activation='relu'),\n",
        "    tf.keras.layers.Dense(128, activation='relu'),\n",
        "    tf.keras.layers.Dense(10, activation='softmax')\n",
        "\n",
        "])"
      ],
      "metadata": {
        "id": "I7wsyoVvQ-Fo"
      },
      "execution_count": 122,
      "outputs": []
    },
    {
      "cell_type": "code",
      "source": [
        "model3.compile(optimizer=keras.optimizers.SGD(learning_rate=0.01,momentum=0.9), loss=keras.losses.categorical_crossentropy, metrics=[\"accuracy\"])\n",
        "log2=model3.fit(x_train,y_train_cat,validation_data=(x_test, y_test_cat),epochs=10,batch_size=32)"
      ],
      "metadata": {
        "colab": {
          "base_uri": "https://localhost:8080/"
        },
        "id": "TysmZRu7mIek",
        "outputId": "7ea26d2c-9c96-48c6-900d-49f7c949d55a"
      },
      "execution_count": 123,
      "outputs": [
        {
          "output_type": "stream",
          "name": "stdout",
          "text": [
            "Epoch 1/10\n",
            "1563/1563 [==============================] - 19s 12ms/step - loss: 1.8675 - accuracy: 0.3181 - val_loss: 1.7725 - val_accuracy: 0.3597\n",
            "Epoch 2/10\n",
            "1563/1563 [==============================] - 18s 12ms/step - loss: 1.6935 - accuracy: 0.3907 - val_loss: 1.6517 - val_accuracy: 0.4028\n",
            "Epoch 3/10\n",
            "1563/1563 [==============================] - 18s 12ms/step - loss: 1.6115 - accuracy: 0.4229 - val_loss: 1.5517 - val_accuracy: 0.4472\n",
            "Epoch 4/10\n",
            "1563/1563 [==============================] - 18s 12ms/step - loss: 1.5536 - accuracy: 0.4410 - val_loss: 1.5404 - val_accuracy: 0.4526\n",
            "Epoch 5/10\n",
            "1563/1563 [==============================] - 18s 12ms/step - loss: 1.5157 - accuracy: 0.4538 - val_loss: 1.5534 - val_accuracy: 0.4339\n",
            "Epoch 6/10\n",
            "1563/1563 [==============================] - 18s 11ms/step - loss: 1.4795 - accuracy: 0.4678 - val_loss: 1.4877 - val_accuracy: 0.4638\n",
            "Epoch 7/10\n",
            "1563/1563 [==============================] - 18s 11ms/step - loss: 1.4474 - accuracy: 0.4809 - val_loss: 1.4864 - val_accuracy: 0.4689\n",
            "Epoch 8/10\n",
            "1563/1563 [==============================] - 18s 11ms/step - loss: 1.4233 - accuracy: 0.4885 - val_loss: 1.4632 - val_accuracy: 0.4868\n",
            "Epoch 9/10\n",
            "1563/1563 [==============================] - 18s 12ms/step - loss: 1.3995 - accuracy: 0.4976 - val_loss: 1.4536 - val_accuracy: 0.4778\n",
            "Epoch 10/10\n",
            "1563/1563 [==============================] - 18s 12ms/step - loss: 1.3753 - accuracy: 0.5072 - val_loss: 1.4583 - val_accuracy: 0.4824\n"
          ]
        }
      ]
    },
    {
      "cell_type": "code",
      "source": [
        "y_train_pred=model3.predict(x_train)\n",
        "y_train_pred=np.argmax(y_train_pred,axis=1)\n",
        "\n",
        "train_report=classification_report(y_train, y_train_pred)\n",
        "print(train_report)\n",
        "\n",
        "y_test_pred=model3.predict(x_test)\n",
        "y_test_pred=np.argmax(y_test_pred,axis=1)\n",
        "\n",
        "test_report=classification_report(y_test, y_test_pred)\n",
        "print(test_report)"
      ],
      "metadata": {
        "colab": {
          "base_uri": "https://localhost:8080/"
        },
        "id": "wVvsAgtqmXHq",
        "outputId": "8bc05674-c29f-48c2-9982-4edb8c7dce6f"
      },
      "execution_count": 124,
      "outputs": [
        {
          "output_type": "stream",
          "name": "stdout",
          "text": [
            "1563/1563 [==============================] - 7s 5ms/step\n",
            "              precision    recall  f1-score   support\n",
            "\n",
            "           0       0.56      0.58      0.57      5000\n",
            "           1       0.75      0.58      0.65      5000\n",
            "           2       0.38      0.46      0.42      5000\n",
            "           3       0.35      0.43      0.38      5000\n",
            "           4       0.51      0.26      0.35      5000\n",
            "           5       0.43      0.39      0.41      5000\n",
            "           6       0.50      0.62      0.55      5000\n",
            "           7       0.59      0.62      0.60      5000\n",
            "           8       0.63      0.67      0.65      5000\n",
            "           9       0.63      0.59      0.61      5000\n",
            "\n",
            "    accuracy                           0.52     50000\n",
            "   macro avg       0.53      0.52      0.52     50000\n",
            "weighted avg       0.53      0.52      0.52     50000\n",
            "\n",
            "313/313 [==============================] - 1s 5ms/step\n",
            "              precision    recall  f1-score   support\n",
            "\n",
            "           0       0.54      0.56      0.55      1000\n",
            "           1       0.71      0.52      0.60      1000\n",
            "           2       0.34      0.43      0.38      1000\n",
            "           3       0.31      0.39      0.34      1000\n",
            "           4       0.47      0.23      0.31      1000\n",
            "           5       0.39      0.36      0.38      1000\n",
            "           6       0.47      0.61      0.53      1000\n",
            "           7       0.56      0.55      0.56      1000\n",
            "           8       0.58      0.64      0.61      1000\n",
            "           9       0.57      0.52      0.54      1000\n",
            "\n",
            "    accuracy                           0.48     10000\n",
            "   macro avg       0.50      0.48      0.48     10000\n",
            "weighted avg       0.50      0.48      0.48     10000\n",
            "\n"
          ]
        }
      ]
    },
    {
      "cell_type": "code",
      "source": [
        "plt.plot(log2.history['accuracy'])\n",
        "plt.plot(log2.history['val_accuracy'])\n",
        "plt.xlabel('epoches')\n",
        "plt.ylabel('accuracy')\n",
        "plt.show()"
      ],
      "metadata": {
        "colab": {
          "base_uri": "https://localhost:8080/",
          "height": 279
        },
        "id": "cJFCn_QZmgDY",
        "outputId": "b2670db1-6172-41ac-ecbb-4f5e1742edc0"
      },
      "execution_count": 125,
      "outputs": [
        {
          "output_type": "display_data",
          "data": {
            "text/plain": [
              "<Figure size 432x288 with 1 Axes>"
            ],
            "image/png": "[encoded data removed]"
          },
          "metadata": {
            "needs_background": "light"
          }
        }
      ]
    },
    {
      "cell_type": "code",
      "source": [
        "plt.plot(log2.history['loss'])\n",
        "plt.plot(log2.history['val_loss'])\n",
        "plt.xlabel('epoches')\n",
        "plt.ylabel('loss')\n",
        "plt.show()"
      ],
      "metadata": {
        "colab": {
          "base_uri": "https://localhost:8080/",
          "height": 279
        },
        "id": "OCdomysimjEk",
        "outputId": "f63cdf4f-a617-43c1-e5c9-73ed37829549"
      },
      "execution_count": 126,
      "outputs": [
        {
          "output_type": "display_data",
          "data": {
            "text/plain": [
              "<Figure size 432x288 with 1 Axes>"
            ],
            "image/png": "[encoded data removed]"
          },
          "metadata": {
            "needs_background": "light"
          }
        }
      ]
    },
    {
      "cell_type": "markdown",
      "source": [
        "momentum=0.98"
      ],
      "metadata": {
        "id": "SL2yeCatmrS7"
      }
    },
    {
      "cell_type": "code",
      "source": [
        "model3 = tf.keras.models.Sequential([\n",
        "    tf.keras.layers.Flatten(input_shape=(32,32,3)),\n",
        "    tf.keras.layers.Dense(512, activation='relu'),\n",
        "    tf.keras.layers.Dense(256, activation='relu'),\n",
        "    tf.keras.layers.Dense(128, activation='relu'),\n",
        "    tf.keras.layers.Dense(10, activation='softmax')\n",
        "\n",
        "])"
      ],
      "metadata": {
        "id": "B94DgTz-RKJJ"
      },
      "execution_count": 127,
      "outputs": []
    },
    {
      "cell_type": "code",
      "source": [
        "model3.compile(optimizer=keras.optimizers.SGD(learning_rate=0.01,momentum=0.9), loss=keras.losses.categorical_crossentropy, metrics=[\"accuracy\"])\n",
        "log2=model3.fit(x_train,y_train_cat,validation_data=(x_test, y_test_cat),epochs=10,batch_size=32)"
      ],
      "metadata": {
        "colab": {
          "base_uri": "https://localhost:8080/"
        },
        "id": "Mf-3vKX3mucl",
        "outputId": "bc5d714c-8d14-4f02-e456-1e4fd5f1940d"
      },
      "execution_count": 128,
      "outputs": [
        {
          "output_type": "stream",
          "name": "stdout",
          "text": [
            "Epoch 1/10\n",
            "1563/1563 [==============================] - 19s 12ms/step - loss: 1.8704 - accuracy: 0.3193 - val_loss: 1.7124 - val_accuracy: 0.3722\n",
            "Epoch 2/10\n",
            "1563/1563 [==============================] - 18s 12ms/step - loss: 1.6960 - accuracy: 0.3880 - val_loss: 1.6266 - val_accuracy: 0.4135\n",
            "Epoch 3/10\n",
            "1563/1563 [==============================] - 18s 12ms/step - loss: 1.6140 - accuracy: 0.4201 - val_loss: 1.5449 - val_accuracy: 0.4409\n",
            "Epoch 4/10\n",
            "1563/1563 [==============================] - 19s 12ms/step - loss: 1.5572 - accuracy: 0.4393 - val_loss: 1.5511 - val_accuracy: 0.4416\n",
            "Epoch 5/10\n",
            "1563/1563 [==============================] - 18s 11ms/step - loss: 1.5137 - accuracy: 0.4561 - val_loss: 1.5128 - val_accuracy: 0.4588\n",
            "Epoch 6/10\n",
            "1563/1563 [==============================] - 18s 12ms/step - loss: 1.4828 - accuracy: 0.4673 - val_loss: 1.4777 - val_accuracy: 0.4811\n",
            "Epoch 7/10\n",
            "1563/1563 [==============================] - 18s 11ms/step - loss: 1.4490 - accuracy: 0.4785 - val_loss: 1.4627 - val_accuracy: 0.4708\n",
            "Epoch 8/10\n",
            "1563/1563 [==============================] - 18s 11ms/step - loss: 1.4290 - accuracy: 0.4871 - val_loss: 1.4418 - val_accuracy: 0.4870\n",
            "Epoch 9/10\n",
            "1563/1563 [==============================] - 18s 12ms/step - loss: 1.4023 - accuracy: 0.4973 - val_loss: 1.4353 - val_accuracy: 0.4911\n",
            "Epoch 10/10\n",
            "1563/1563 [==============================] - 18s 12ms/step - loss: 1.3785 - accuracy: 0.5044 - val_loss: 1.4665 - val_accuracy: 0.4825\n"
          ]
        }
      ]
    },
    {
      "cell_type": "code",
      "source": [
        "y_train_pred=model3.predict(x_train)\n",
        "y_train_pred=np.argmax(y_train_pred,axis=1)\n",
        "\n",
        "train_report=classification_report(y_train, y_train_pred)\n",
        "print(train_report)\n",
        "\n",
        "y_test_pred=model3.predict(x_test)\n",
        "y_test_pred=np.argmax(y_test_pred,axis=1)\n",
        "\n",
        "test_report=classification_report(y_test, y_test_pred)\n",
        "print(test_report)"
      ],
      "metadata": {
        "colab": {
          "base_uri": "https://localhost:8080/"
        },
        "id": "KMLK17NsmxQO",
        "outputId": "6a8ce685-a477-42c2-feb0-b0c9d48284f1"
      },
      "execution_count": 129,
      "outputs": [
        {
          "output_type": "stream",
          "name": "stdout",
          "text": [
            "1563/1563 [==============================] - 7s 5ms/step\n",
            "              precision    recall  f1-score   support\n",
            "\n",
            "           0       0.58      0.53      0.56      5000\n",
            "           1       0.58      0.72      0.65      5000\n",
            "           2       0.54      0.20      0.29      5000\n",
            "           3       0.45      0.26      0.33      5000\n",
            "           4       0.43      0.41      0.42      5000\n",
            "           5       0.57      0.30      0.39      5000\n",
            "           6       0.43      0.76      0.55      5000\n",
            "           7       0.50      0.72      0.59      5000\n",
            "           8       0.56      0.75      0.64      5000\n",
            "           9       0.62      0.53      0.57      5000\n",
            "\n",
            "    accuracy                           0.52     50000\n",
            "   macro avg       0.53      0.52      0.50     50000\n",
            "weighted avg       0.53      0.52      0.50     50000\n",
            "\n",
            "313/313 [==============================] - 1s 5ms/step\n",
            "              precision    recall  f1-score   support\n",
            "\n",
            "           0       0.55      0.51      0.53      1000\n",
            "           1       0.55      0.69      0.61      1000\n",
            "           2       0.45      0.17      0.25      1000\n",
            "           3       0.39      0.24      0.30      1000\n",
            "           4       0.40      0.37      0.38      1000\n",
            "           5       0.54      0.28      0.37      1000\n",
            "           6       0.40      0.73      0.51      1000\n",
            "           7       0.48      0.68      0.56      1000\n",
            "           8       0.52      0.71      0.60      1000\n",
            "           9       0.58      0.46      0.52      1000\n",
            "\n",
            "    accuracy                           0.48     10000\n",
            "   macro avg       0.49      0.48      0.46     10000\n",
            "weighted avg       0.49      0.48      0.46     10000\n",
            "\n"
          ]
        }
      ]
    },
    {
      "cell_type": "code",
      "source": [
        "plt.plot(log2.history['accuracy'])\n",
        "plt.plot(log2.history['val_accuracy'])\n",
        "plt.xlabel('epoches')\n",
        "plt.ylabel('accuracy')\n",
        "plt.show()"
      ],
      "metadata": {
        "colab": {
          "base_uri": "https://localhost:8080/",
          "height": 279
        },
        "id": "q2VVXTjTm18h",
        "outputId": "6d8394ef-5878-4cbc-84e5-f6e18061ccb6"
      },
      "execution_count": 130,
      "outputs": [
        {
          "output_type": "display_data",
          "data": {
            "text/plain": [
              "<Figure size 432x288 with 1 Axes>"
            ],
            "image/png": "[encoded data removed]"
          },
          "metadata": {
            "needs_background": "light"
          }
        }
      ]
    },
    {
      "cell_type": "code",
      "source": [
        "plt.plot(log2.history['loss'])\n",
        "plt.plot(log2.history['val_loss'])\n",
        "plt.xlabel('epoches')\n",
        "plt.ylabel('loss')\n",
        "plt.show()"
      ],
      "metadata": {
        "colab": {
          "base_uri": "https://localhost:8080/",
          "height": 279
        },
        "id": "KCToEw_Lm4l3",
        "outputId": "cc03169c-f719-4776-b3a8-2d6df126c239"
      },
      "execution_count": 131,
      "outputs": [
        {
          "output_type": "display_data",
          "data": {
            "text/plain": [
              "<Figure size 432x288 with 1 Axes>"
            ],
            "image/png": "[encoded data removed]"
          },
          "metadata": {
            "needs_background": "light"
          }
        }
      ]
    },
    {
      "cell_type": "markdown",
      "source": [
        "Adam optimizer:"
      ],
      "metadata": {
        "id": "119tLAyfnw-m"
      }
    },
    {
      "cell_type": "code",
      "source": [
        "model3 = tf.keras.models.Sequential([\n",
        "    tf.keras.layers.Flatten(input_shape=(32,32,3)),\n",
        "    tf.keras.layers.Dense(512, activation='relu'),\n",
        "    tf.keras.layers.Dense(256, activation='relu'),\n",
        "    tf.keras.layers.Dense(128, activation='relu'),\n",
        "    tf.keras.layers.Dense(10, activation='softmax')\n",
        "\n",
        "])"
      ],
      "metadata": {
        "id": "BUtO5HSgROxK"
      },
      "execution_count": 132,
      "outputs": []
    },
    {
      "cell_type": "code",
      "source": [
        "model3.compile(optimizer=keras.optimizers.Adam(learning_rate=0.001), loss=keras.losses.categorical_crossentropy, metrics=[\"accuracy\"])\n",
        "log2=model3.fit(x_train,y_train_cat,validation_data=(x_test, y_test_cat),epochs=10,batch_size=32)"
      ],
      "metadata": {
        "colab": {
          "base_uri": "https://localhost:8080/"
        },
        "id": "HDMvhfvInUx5",
        "outputId": "c956e03e-845d-43be-bf16-ca3a56c48bfd"
      },
      "execution_count": 133,
      "outputs": [
        {
          "output_type": "stream",
          "name": "stdout",
          "text": [
            "Epoch 1/10\n",
            "1563/1563 [==============================] - 22s 14ms/step - loss: 1.8599 - accuracy: 0.3239 - val_loss: 1.7723 - val_accuracy: 0.3671\n",
            "Epoch 2/10\n",
            "1563/1563 [==============================] - 21s 13ms/step - loss: 1.6698 - accuracy: 0.3992 - val_loss: 1.6139 - val_accuracy: 0.4172\n",
            "Epoch 3/10\n",
            "1563/1563 [==============================] - 21s 13ms/step - loss: 1.5882 - accuracy: 0.4295 - val_loss: 1.5474 - val_accuracy: 0.4438\n",
            "Epoch 4/10\n",
            "1563/1563 [==============================] - 21s 13ms/step - loss: 1.5404 - accuracy: 0.4469 - val_loss: 1.5765 - val_accuracy: 0.4336\n",
            "Epoch 5/10\n",
            "1563/1563 [==============================] - 21s 13ms/step - loss: 1.4972 - accuracy: 0.4644 - val_loss: 1.5268 - val_accuracy: 0.4590\n",
            "Epoch 6/10\n",
            "1563/1563 [==============================] - 20s 13ms/step - loss: 1.4630 - accuracy: 0.4741 - val_loss: 1.5081 - val_accuracy: 0.4676\n",
            "Epoch 7/10\n",
            "1563/1563 [==============================] - 21s 13ms/step - loss: 1.4344 - accuracy: 0.4881 - val_loss: 1.4747 - val_accuracy: 0.4768\n",
            "Epoch 8/10\n",
            "1563/1563 [==============================] - 21s 13ms/step - loss: 1.4071 - accuracy: 0.4960 - val_loss: 1.4580 - val_accuracy: 0.4849\n",
            "Epoch 9/10\n",
            "1563/1563 [==============================] - 21s 13ms/step - loss: 1.3794 - accuracy: 0.5038 - val_loss: 1.4633 - val_accuracy: 0.4796\n",
            "Epoch 10/10\n",
            "1563/1563 [==============================] - 20s 13ms/step - loss: 1.3611 - accuracy: 0.5094 - val_loss: 1.4422 - val_accuracy: 0.4872\n"
          ]
        }
      ]
    },
    {
      "cell_type": "code",
      "source": [
        "y_train_pred=model3.predict(x_train)\n",
        "y_train_pred=np.argmax(y_train_pred,axis=1)\n",
        "\n",
        "train_report=classification_report(y_train, y_train_pred)\n",
        "print(train_report)\n",
        "\n",
        "y_test_pred=model3.predict(x_test)\n",
        "y_test_pred=np.argmax(y_test_pred,axis=1)\n",
        "\n",
        "test_report=classification_report(y_test, y_test_pred)\n",
        "print(test_report)"
      ],
      "metadata": {
        "colab": {
          "base_uri": "https://localhost:8080/"
        },
        "id": "WCzjqD_Ln_P2",
        "outputId": "8fad9230-3ed0-4c73-9d1a-4cb454943e09"
      },
      "execution_count": 134,
      "outputs": [
        {
          "output_type": "stream",
          "name": "stdout",
          "text": [
            "1563/1563 [==============================] - 7s 4ms/step\n",
            "              precision    recall  f1-score   support\n",
            "\n",
            "           0       0.61      0.53      0.57      5000\n",
            "           1       0.61      0.71      0.65      5000\n",
            "           2       0.41      0.38      0.40      5000\n",
            "           3       0.39      0.37      0.38      5000\n",
            "           4       0.49      0.40      0.44      5000\n",
            "           5       0.46      0.38      0.41      5000\n",
            "           6       0.44      0.70      0.54      5000\n",
            "           7       0.65      0.55      0.59      5000\n",
            "           8       0.62      0.70      0.66      5000\n",
            "           9       0.62      0.53      0.57      5000\n",
            "\n",
            "    accuracy                           0.53     50000\n",
            "   macro avg       0.53      0.53      0.52     50000\n",
            "weighted avg       0.53      0.53      0.52     50000\n",
            "\n",
            "313/313 [==============================] - 1s 4ms/step\n",
            "              precision    recall  f1-score   support\n",
            "\n",
            "           0       0.58      0.50      0.54      1000\n",
            "           1       0.56      0.66      0.60      1000\n",
            "           2       0.36      0.35      0.36      1000\n",
            "           3       0.32      0.31      0.31      1000\n",
            "           4       0.48      0.37      0.42      1000\n",
            "           5       0.44      0.35      0.39      1000\n",
            "           6       0.42      0.70      0.52      1000\n",
            "           7       0.61      0.48      0.54      1000\n",
            "           8       0.57      0.67      0.62      1000\n",
            "           9       0.59      0.48      0.53      1000\n",
            "\n",
            "    accuracy                           0.49     10000\n",
            "   macro avg       0.49      0.49      0.48     10000\n",
            "weighted avg       0.49      0.49      0.48     10000\n",
            "\n"
          ]
        }
      ]
    },
    {
      "cell_type": "code",
      "source": [
        "plt.plot(log2.history['accuracy'])\n",
        "plt.plot(log2.history['val_accuracy'])\n",
        "plt.xlabel('epoches')\n",
        "plt.ylabel('accuracy')\n",
        "plt.show()"
      ],
      "metadata": {
        "colab": {
          "base_uri": "https://localhost:8080/",
          "height": 279
        },
        "id": "XItfFEV3oC5p",
        "outputId": "606b41a5-7d49-43a6-f358-a1ca2295b4c2"
      },
      "execution_count": 135,
      "outputs": [
        {
          "output_type": "display_data",
          "data": {
            "text/plain": [
              "<Figure size 432x288 with 1 Axes>"
            ],
            "image/png": "[encoded data removed]"
          },
          "metadata": {
            "needs_background": "light"
          }
        }
      ]
    },
    {
      "cell_type": "code",
      "source": [
        "plt.plot(log2.history['loss'])\n",
        "plt.plot(log2.history['val_loss'])\n",
        "plt.xlabel('epoches')\n",
        "plt.ylabel('loss')\n",
        "plt.show()"
      ],
      "metadata": {
        "colab": {
          "base_uri": "https://localhost:8080/",
          "height": 279
        },
        "id": "dgJuAPw5oGen",
        "outputId": "1e005768-6e88-4746-8763-3ef4d7174613"
      },
      "execution_count": 136,
      "outputs": [
        {
          "output_type": "display_data",
          "data": {
            "text/plain": [
              "<Figure size 432x288 with 1 Axes>"
            ],
            "image/png": "[encoded data removed]"
          },
          "metadata": {
            "needs_background": "light"
          }
        }
      ]
    },
    {
      "cell_type": "markdown",
      "source": [
        "##epochs"
      ],
      "metadata": {
        "id": "DZi7kUM1LAsI"
      }
    },
    {
      "cell_type": "code",
      "source": [
        "model3 = tf.keras.models.Sequential([\n",
        "    tf.keras.layers.Flatten(input_shape=(32,32,3)),\n",
        "    tf.keras.layers.Dense(512, activation='relu'),\n",
        "    tf.keras.layers.Dense(256, activation='relu'),\n",
        "    tf.keras.layers.Dense(128, activation='relu'),\n",
        "    tf.keras.layers.Dense(10, activation='softmax')\n",
        "\n",
        "])"
      ],
      "metadata": {
        "id": "Va_387Uw9Jmr"
      },
      "execution_count": 137,
      "outputs": []
    },
    {
      "cell_type": "code",
      "source": [
        "model3.compile(optimizer=keras.optimizers.Adam(learning_rate=0.001), loss=keras.losses.categorical_crossentropy, metrics=[\"accuracy\"])\n",
        "log3=model3.fit(x_train,y_train_cat,validation_data=(x_test, y_test_cat),epochs=20,batch_size=32)"
      ],
      "metadata": {
        "colab": {
          "base_uri": "https://localhost:8080/"
        },
        "id": "AGQmeHsuLK9o",
        "outputId": "ae455dc8-1d01-4091-b3d8-e81a3bed3cab"
      },
      "execution_count": 138,
      "outputs": [
        {
          "output_type": "stream",
          "name": "stdout",
          "text": [
            "Epoch 1/20\n",
            "1563/1563 [==============================] - 23s 14ms/step - loss: 1.8635 - accuracy: 0.3205 - val_loss: 1.7137 - val_accuracy: 0.3886\n",
            "Epoch 2/20\n",
            "1563/1563 [==============================] - 21s 13ms/step - loss: 1.6806 - accuracy: 0.3942 - val_loss: 1.6155 - val_accuracy: 0.4176\n",
            "Epoch 3/20\n",
            "1563/1563 [==============================] - 21s 13ms/step - loss: 1.6005 - accuracy: 0.4257 - val_loss: 1.5922 - val_accuracy: 0.4294\n",
            "Epoch 4/20\n",
            "1563/1563 [==============================] - 20s 13ms/step - loss: 1.5438 - accuracy: 0.4484 - val_loss: 1.5319 - val_accuracy: 0.4454\n",
            "Epoch 5/20\n",
            "1563/1563 [==============================] - 21s 13ms/step - loss: 1.5066 - accuracy: 0.4601 - val_loss: 1.5322 - val_accuracy: 0.4499\n",
            "Epoch 6/20\n",
            "1563/1563 [==============================] - 21s 14ms/step - loss: 1.4751 - accuracy: 0.4745 - val_loss: 1.5322 - val_accuracy: 0.4552\n",
            "Epoch 7/20\n",
            "1563/1563 [==============================] - 21s 13ms/step - loss: 1.4430 - accuracy: 0.4831 - val_loss: 1.4900 - val_accuracy: 0.4756\n",
            "Epoch 8/20\n",
            "1563/1563 [==============================] - 21s 13ms/step - loss: 1.4241 - accuracy: 0.4896 - val_loss: 1.5160 - val_accuracy: 0.4560\n",
            "Epoch 9/20\n",
            "1563/1563 [==============================] - 21s 13ms/step - loss: 1.4021 - accuracy: 0.4965 - val_loss: 1.4737 - val_accuracy: 0.4812\n",
            "Epoch 10/20\n",
            "1563/1563 [==============================] - 21s 13ms/step - loss: 1.3833 - accuracy: 0.5036 - val_loss: 1.4819 - val_accuracy: 0.4775\n",
            "Epoch 11/20\n",
            "1563/1563 [==============================] - 21s 13ms/step - loss: 1.3577 - accuracy: 0.5127 - val_loss: 1.4713 - val_accuracy: 0.4813\n",
            "Epoch 12/20\n",
            "1563/1563 [==============================] - 22s 14ms/step - loss: 1.3443 - accuracy: 0.5187 - val_loss: 1.5099 - val_accuracy: 0.4737\n",
            "Epoch 13/20\n",
            "1563/1563 [==============================] - 21s 13ms/step - loss: 1.3278 - accuracy: 0.5221 - val_loss: 1.4533 - val_accuracy: 0.4870\n",
            "Epoch 14/20\n",
            "1563/1563 [==============================] - 21s 13ms/step - loss: 1.3059 - accuracy: 0.5309 - val_loss: 1.4674 - val_accuracy: 0.4823\n",
            "Epoch 15/20\n",
            "1563/1563 [==============================] - 21s 13ms/step - loss: 1.2902 - accuracy: 0.5353 - val_loss: 1.4709 - val_accuracy: 0.4845\n",
            "Epoch 16/20\n",
            "1563/1563 [==============================] - 21s 13ms/step - loss: 1.2747 - accuracy: 0.5401 - val_loss: 1.4514 - val_accuracy: 0.4950\n",
            "Epoch 17/20\n",
            "1563/1563 [==============================] - 21s 13ms/step - loss: 1.2618 - accuracy: 0.5471 - val_loss: 1.4411 - val_accuracy: 0.4954\n",
            "Epoch 18/20\n",
            "1563/1563 [==============================] - 21s 13ms/step - loss: 1.2487 - accuracy: 0.5543 - val_loss: 1.4407 - val_accuracy: 0.4988\n",
            "Epoch 19/20\n",
            "1563/1563 [==============================] - 21s 13ms/step - loss: 1.2348 - accuracy: 0.5565 - val_loss: 1.4897 - val_accuracy: 0.4857\n",
            "Epoch 20/20\n",
            "1563/1563 [==============================] - 21s 13ms/step - loss: 1.2223 - accuracy: 0.5617 - val_loss: 1.4484 - val_accuracy: 0.4957\n"
          ]
        }
      ]
    },
    {
      "cell_type": "code",
      "source": [
        "y_train_pred3=model3.predict(x_train)\n",
        "y_train_pred3=np.argmax(y_train_pred3,axis=1)\n",
        "train_report3=classification_report(y_train, y_train_pred3)\n",
        "print(train_report3)"
      ],
      "metadata": {
        "colab": {
          "base_uri": "https://localhost:8080/"
        },
        "id": "kQys4USjLXM3",
        "outputId": "9f73fc8b-f1c1-4856-b938-f1dab0fe39e9"
      },
      "execution_count": 139,
      "outputs": [
        {
          "output_type": "stream",
          "name": "stdout",
          "text": [
            "1563/1563 [==============================] - 7s 5ms/step\n",
            "              precision    recall  f1-score   support\n",
            "\n",
            "           0       0.67      0.60      0.63      5000\n",
            "           1       0.69      0.69      0.69      5000\n",
            "           2       0.45      0.50      0.47      5000\n",
            "           3       0.44      0.50      0.47      5000\n",
            "           4       0.51      0.49      0.50      5000\n",
            "           5       0.59      0.38      0.46      5000\n",
            "           6       0.56      0.67      0.61      5000\n",
            "           7       0.73      0.61      0.66      5000\n",
            "           8       0.65      0.76      0.70      5000\n",
            "           9       0.63      0.66      0.65      5000\n",
            "\n",
            "    accuracy                           0.59     50000\n",
            "   macro avg       0.59      0.59      0.58     50000\n",
            "weighted avg       0.59      0.59      0.58     50000\n",
            "\n"
          ]
        }
      ]
    },
    {
      "cell_type": "code",
      "source": [
        "y_test_pred3=model3.predict(x_test)\n",
        "y_test_pred3=np.argmax(y_test_pred3,axis=1)\n",
        "test_report3=classification_report(y_test, y_test_pred3)\n",
        "print(test_report3)"
      ],
      "metadata": {
        "colab": {
          "base_uri": "https://localhost:8080/"
        },
        "id": "4cSrWUvg0a5Z",
        "outputId": "1afa0e9a-dbb7-4c30-f942-62458ae88e96"
      },
      "execution_count": 140,
      "outputs": [
        {
          "output_type": "stream",
          "name": "stdout",
          "text": [
            "313/313 [==============================] - 1s 4ms/step\n",
            "              precision    recall  f1-score   support\n",
            "\n",
            "           0       0.59      0.55      0.57      1000\n",
            "           1       0.62      0.59      0.61      1000\n",
            "           2       0.37      0.42      0.40      1000\n",
            "           3       0.33      0.39      0.36      1000\n",
            "           4       0.44      0.42      0.43      1000\n",
            "           5       0.45      0.27      0.34      1000\n",
            "           6       0.46      0.57      0.51      1000\n",
            "           7       0.62      0.49      0.55      1000\n",
            "           8       0.57      0.68      0.62      1000\n",
            "           9       0.56      0.56      0.56      1000\n",
            "\n",
            "    accuracy                           0.50     10000\n",
            "   macro avg       0.50      0.50      0.49     10000\n",
            "weighted avg       0.50      0.50      0.49     10000\n",
            "\n"
          ]
        }
      ]
    },
    {
      "cell_type": "code",
      "source": [
        "plt.plot(log3.history['accuracy'])\n",
        "plt.plot(log3.history['val_accuracy'])\n",
        "plt.xlabel('epoches')\n",
        "plt.ylabel('accuracy')\n",
        "plt.show()"
      ],
      "metadata": {
        "colab": {
          "base_uri": "https://localhost:8080/",
          "height": 279
        },
        "id": "GhwzFa_hMluU",
        "outputId": "c1d53872-7b54-4484-e021-f7e813e8d835"
      },
      "execution_count": 141,
      "outputs": [
        {
          "output_type": "display_data",
          "data": {
            "text/plain": [
              "<Figure size 432x288 with 1 Axes>"
            ],
            "image/png": "[encoded data removed]"
          },
          "metadata": {
            "needs_background": "light"
          }
        }
      ]
    },
    {
      "cell_type": "code",
      "source": [
        "plt.plot(log2.history['loss'])\n",
        "plt.plot(log2.history['val_loss'])\n",
        "plt.xlabel('epoches')\n",
        "plt.ylabel('loss')\n",
        "plt.show()"
      ],
      "metadata": {
        "colab": {
          "base_uri": "https://localhost:8080/",
          "height": 279
        },
        "id": "nbPaixQyNrho",
        "outputId": "f0b850e4-d446-4190-c49f-dd19e8cb6e4e"
      },
      "execution_count": 142,
      "outputs": [
        {
          "output_type": "display_data",
          "data": {
            "text/plain": [
              "<Figure size 432x288 with 1 Axes>"
            ],
            "image/png": "[encoded data removed]"
          },
          "metadata": {
            "needs_background": "light"
          }
        }
      ]
    },
    {
      "cell_type": "code",
      "source": [
        "model3 = tf.keras.models.Sequential([\n",
        "    tf.keras.layers.Flatten(input_shape=(32,32,3)),\n",
        "    tf.keras.layers.Dense(512, activation='relu'),\n",
        "    tf.keras.layers.Dense(256, activation='relu'),\n",
        "    tf.keras.layers.Dense(128, activation='relu'),\n",
        "    tf.keras.layers.Dense(10, activation='softmax')\n",
        "\n",
        "])"
      ],
      "metadata": {
        "id": "K1AOBJ806OEh"
      },
      "execution_count": 144,
      "outputs": []
    },
    {
      "cell_type": "code",
      "source": [
        "model3.compile(optimizer=keras.optimizers.Adam(learning_rate=0.001), loss=keras.losses.categorical_crossentropy, metrics=[\"accuracy\"])\n",
        "log3=model3.fit(x_train,y_train_cat,validation_data=(x_test, y_test_cat),epochs=30,batch_size=32)"
      ],
      "metadata": {
        "colab": {
          "base_uri": "https://localhost:8080/"
        },
        "id": "9myqOIIsNx0O",
        "outputId": "6c9634b9-2c7c-46fb-9b92-d80fe19126b5"
      },
      "execution_count": 145,
      "outputs": [
        {
          "output_type": "stream",
          "name": "stdout",
          "text": [
            "Epoch 1/30\n",
            "1563/1563 [==============================] - 22s 14ms/step - loss: 1.8673 - accuracy: 0.3212 - val_loss: 1.6924 - val_accuracy: 0.3855\n",
            "Epoch 2/30\n",
            "1563/1563 [==============================] - 21s 13ms/step - loss: 1.6821 - accuracy: 0.3962 - val_loss: 1.6905 - val_accuracy: 0.3956\n",
            "Epoch 3/30\n",
            "1563/1563 [==============================] - 21s 13ms/step - loss: 1.6009 - accuracy: 0.4262 - val_loss: 1.5612 - val_accuracy: 0.4433\n",
            "Epoch 4/30\n",
            "1563/1563 [==============================] - 21s 13ms/step - loss: 1.5402 - accuracy: 0.4473 - val_loss: 1.5179 - val_accuracy: 0.4534\n",
            "Epoch 5/30\n",
            "1563/1563 [==============================] - 21s 13ms/step - loss: 1.5013 - accuracy: 0.4615 - val_loss: 1.5045 - val_accuracy: 0.4593\n",
            "Epoch 6/30\n",
            "1563/1563 [==============================] - 21s 13ms/step - loss: 1.4688 - accuracy: 0.4738 - val_loss: 1.4798 - val_accuracy: 0.4721\n",
            "Epoch 7/30\n",
            "1563/1563 [==============================] - 21s 13ms/step - loss: 1.4388 - accuracy: 0.4835 - val_loss: 1.4695 - val_accuracy: 0.4782\n",
            "Epoch 8/30\n",
            "1563/1563 [==============================] - 21s 13ms/step - loss: 1.4135 - accuracy: 0.4937 - val_loss: 1.4718 - val_accuracy: 0.4801\n",
            "Epoch 9/30\n",
            "1563/1563 [==============================] - 21s 13ms/step - loss: 1.3941 - accuracy: 0.4998 - val_loss: 1.4939 - val_accuracy: 0.4688\n",
            "Epoch 10/30\n",
            "1563/1563 [==============================] - 21s 13ms/step - loss: 1.3716 - accuracy: 0.5100 - val_loss: 1.4340 - val_accuracy: 0.4906\n",
            "Epoch 11/30\n",
            "1563/1563 [==============================] - 21s 13ms/step - loss: 1.3575 - accuracy: 0.5144 - val_loss: 1.4552 - val_accuracy: 0.4861\n",
            "Epoch 12/30\n",
            "1563/1563 [==============================] - 21s 13ms/step - loss: 1.3360 - accuracy: 0.5216 - val_loss: 1.4644 - val_accuracy: 0.4813\n",
            "Epoch 13/30\n",
            "1563/1563 [==============================] - 21s 13ms/step - loss: 1.3199 - accuracy: 0.5288 - val_loss: 1.4613 - val_accuracy: 0.4853\n",
            "Epoch 14/30\n",
            "1563/1563 [==============================] - 21s 13ms/step - loss: 1.3020 - accuracy: 0.5341 - val_loss: 1.4675 - val_accuracy: 0.4822\n",
            "Epoch 15/30\n",
            "1563/1563 [==============================] - 21s 13ms/step - loss: 1.2893 - accuracy: 0.5387 - val_loss: 1.4296 - val_accuracy: 0.5010\n",
            "Epoch 16/30\n",
            "1563/1563 [==============================] - 20s 13ms/step - loss: 1.2760 - accuracy: 0.5421 - val_loss: 1.4431 - val_accuracy: 0.4947\n",
            "Epoch 17/30\n",
            "1563/1563 [==============================] - 20s 13ms/step - loss: 1.2565 - accuracy: 0.5483 - val_loss: 1.4784 - val_accuracy: 0.4831\n",
            "Epoch 18/30\n",
            "1563/1563 [==============================] - 21s 13ms/step - loss: 1.2505 - accuracy: 0.5516 - val_loss: 1.4400 - val_accuracy: 0.4996\n",
            "Epoch 19/30\n",
            "1563/1563 [==============================] - 21s 13ms/step - loss: 1.2362 - accuracy: 0.5566 - val_loss: 1.4609 - val_accuracy: 0.4899\n",
            "Epoch 20/30\n",
            "1563/1563 [==============================] - 21s 13ms/step - loss: 1.2197 - accuracy: 0.5601 - val_loss: 1.5290 - val_accuracy: 0.4713\n",
            "Epoch 21/30\n",
            "1563/1563 [==============================] - 21s 13ms/step - loss: 1.2030 - accuracy: 0.5673 - val_loss: 1.4975 - val_accuracy: 0.4831\n",
            "Epoch 22/30\n",
            "1563/1563 [==============================] - 21s 13ms/step - loss: 1.1959 - accuracy: 0.5693 - val_loss: 1.4554 - val_accuracy: 0.4987\n",
            "Epoch 23/30\n",
            "1563/1563 [==============================] - 21s 13ms/step - loss: 1.1862 - accuracy: 0.5770 - val_loss: 1.4762 - val_accuracy: 0.4975\n",
            "Epoch 24/30\n",
            "1563/1563 [==============================] - 21s 13ms/step - loss: 1.1682 - accuracy: 0.5809 - val_loss: 1.4803 - val_accuracy: 0.4959\n",
            "Epoch 25/30\n",
            "1563/1563 [==============================] - 21s 13ms/step - loss: 1.1575 - accuracy: 0.5837 - val_loss: 1.5222 - val_accuracy: 0.4822\n",
            "Epoch 26/30\n",
            "1563/1563 [==============================] - 21s 13ms/step - loss: 1.1534 - accuracy: 0.5839 - val_loss: 1.5337 - val_accuracy: 0.4825\n",
            "Epoch 27/30\n",
            "1563/1563 [==============================] - 21s 13ms/step - loss: 1.1435 - accuracy: 0.5881 - val_loss: 1.5648 - val_accuracy: 0.4829\n",
            "Epoch 28/30\n",
            "1563/1563 [==============================] - 20s 13ms/step - loss: 1.1313 - accuracy: 0.5923 - val_loss: 1.5448 - val_accuracy: 0.4863\n",
            "Epoch 29/30\n",
            "1563/1563 [==============================] - 21s 13ms/step - loss: 1.1181 - accuracy: 0.5957 - val_loss: 1.5794 - val_accuracy: 0.4807\n",
            "Epoch 30/30\n",
            "1563/1563 [==============================] - 21s 13ms/step - loss: 1.1145 - accuracy: 0.5982 - val_loss: 1.5114 - val_accuracy: 0.4925\n"
          ]
        }
      ]
    },
    {
      "cell_type": "code",
      "source": [
        "y_train_pred3=model3.predict(x_train)\n",
        "y_train_pred3=np.argmax(y_train_pred3,axis=1)\n",
        "train_report3=classification_report(y_train, y_train_pred3)\n",
        "print(train_report3)"
      ],
      "metadata": {
        "colab": {
          "base_uri": "https://localhost:8080/"
        },
        "id": "TxNsG3lSOuu1",
        "outputId": "5d88c6ac-f988-4a4d-f79c-448fb0e77ef6"
      },
      "execution_count": 146,
      "outputs": [
        {
          "output_type": "stream",
          "name": "stdout",
          "text": [
            "1563/1563 [==============================] - 7s 4ms/step\n",
            "              precision    recall  f1-score   support\n",
            "\n",
            "           0       0.61      0.68      0.64      5000\n",
            "           1       0.73      0.75      0.74      5000\n",
            "           2       0.50      0.53      0.52      5000\n",
            "           3       0.52      0.42      0.47      5000\n",
            "           4       0.57      0.47      0.52      5000\n",
            "           5       0.53      0.51      0.52      5000\n",
            "           6       0.62      0.66      0.64      5000\n",
            "           7       0.67      0.71      0.69      5000\n",
            "           8       0.64      0.79      0.70      5000\n",
            "           9       0.73      0.62      0.67      5000\n",
            "\n",
            "    accuracy                           0.61     50000\n",
            "   macro avg       0.61      0.61      0.61     50000\n",
            "weighted avg       0.61      0.61      0.61     50000\n",
            "\n"
          ]
        }
      ]
    },
    {
      "cell_type": "code",
      "source": [
        "y_test_pred3=model3.predict(x_test)\n",
        "y_test_pred3=np.argmax(y_test_pred3,axis=1)\n",
        "test_report3=classification_report(y_test, y_test_pred3)\n",
        "print(test_report3)"
      ],
      "metadata": {
        "colab": {
          "base_uri": "https://localhost:8080/"
        },
        "id": "RWG1WpIrOyeW",
        "outputId": "de1143e3-d81d-4d44-abe8-ece86e6a36c0"
      },
      "execution_count": 147,
      "outputs": [
        {
          "output_type": "stream",
          "name": "stdout",
          "text": [
            "313/313 [==============================] - 1s 4ms/step\n",
            "              precision    recall  f1-score   support\n",
            "\n",
            "           0       0.51      0.58      0.55      1000\n",
            "           1       0.61      0.61      0.61      1000\n",
            "           2       0.38      0.42      0.40      1000\n",
            "           3       0.36      0.29      0.32      1000\n",
            "           4       0.45      0.35      0.39      1000\n",
            "           5       0.42      0.40      0.41      1000\n",
            "           6       0.50      0.56      0.53      1000\n",
            "           7       0.57      0.55      0.56      1000\n",
            "           8       0.53      0.68      0.60      1000\n",
            "           9       0.58      0.48      0.53      1000\n",
            "\n",
            "    accuracy                           0.49     10000\n",
            "   macro avg       0.49      0.49      0.49     10000\n",
            "weighted avg       0.49      0.49      0.49     10000\n",
            "\n"
          ]
        }
      ]
    },
    {
      "cell_type": "code",
      "source": [
        "plt.plot(log3.history['accuracy'])\n",
        "plt.plot(log3.history['val_accuracy'])\n",
        "plt.xlabel('epoches')\n",
        "plt.ylabel('accuracy')\n",
        "plt.show()"
      ],
      "metadata": {
        "colab": {
          "base_uri": "https://localhost:8080/",
          "height": 279
        },
        "id": "lKU46pRiPHk4",
        "outputId": "15266f1d-5752-4f7f-de46-0ef0ba43595f"
      },
      "execution_count": 148,
      "outputs": [
        {
          "output_type": "display_data",
          "data": {
            "text/plain": [
              "<Figure size 432x288 with 1 Axes>"
            ],
            "image/png": "[encoded data removed]"
          },
          "metadata": {
            "needs_background": "light"
          }
        }
      ]
    },
    {
      "cell_type": "code",
      "source": [
        "plt.plot(log2.history['loss'])\n",
        "plt.plot(log2.history['val_loss'])\n",
        "plt.xlabel('epoches')\n",
        "plt.ylabel('loss')\n",
        "plt.show()"
      ],
      "metadata": {
        "colab": {
          "base_uri": "https://localhost:8080/",
          "height": 279
        },
        "id": "-nJoXWqjPMzr",
        "outputId": "aa85b318-e18b-4a8d-e432-7d86bee11129"
      },
      "execution_count": 149,
      "outputs": [
        {
          "output_type": "display_data",
          "data": {
            "text/plain": [
              "<Figure size 432x288 with 1 Axes>"
            ],
            "image/png": "[encoded data removed]"
          },
          "metadata": {
            "needs_background": "light"
          }
        }
      ]
    },
    {
      "cell_type": "markdown",
      "source": [
        "##Loss Function"
      ],
      "metadata": {
        "id": "xlZKXvhMQA0p"
      }
    },
    {
      "cell_type": "code",
      "source": [
        "model3 = tf.keras.models.Sequential([\n",
        "    tf.keras.layers.Flatten(input_shape=(32,32,3)),\n",
        "    tf.keras.layers.Dense(512, activation='relu'),\n",
        "    tf.keras.layers.Dense(256, activation='relu'),\n",
        "    tf.keras.layers.Dense(128, activation='relu'),\n",
        "    tf.keras.layers.Dense(10, activation='softmax')\n",
        "\n",
        "])"
      ],
      "metadata": {
        "id": "PZuZnv11QZWw"
      },
      "execution_count": 150,
      "outputs": []
    },
    {
      "cell_type": "code",
      "source": [
        "model3.compile(optimizer=keras.optimizers.Adam(learning_rate=0.001), loss=\"mse\", metrics=[\"accuracy\"])\n",
        "log3=model3.fit(x_train,y_train_cat,validation_data=(x_test, y_test_cat),epochs=10,batch_size=32)"
      ],
      "metadata": {
        "colab": {
          "base_uri": "https://localhost:8080/"
        },
        "id": "_odCBRsXQaKj",
        "outputId": "ace513d0-59dd-4a29-e4b7-9638e3c145eb"
      },
      "execution_count": 151,
      "outputs": [
        {
          "output_type": "stream",
          "name": "stdout",
          "text": [
            "Epoch 1/10\n",
            "1563/1563 [==============================] - 23s 14ms/step - loss: 0.0802 - accuracy: 0.3128 - val_loss: 0.0781 - val_accuracy: 0.3417\n",
            "Epoch 2/10\n",
            "1563/1563 [==============================] - 20s 13ms/step - loss: 0.0749 - accuracy: 0.3787 - val_loss: 0.0736 - val_accuracy: 0.3974\n",
            "Epoch 3/10\n",
            "1563/1563 [==============================] - 21s 13ms/step - loss: 0.0724 - accuracy: 0.4100 - val_loss: 0.0718 - val_accuracy: 0.4178\n",
            "Epoch 4/10\n",
            "1563/1563 [==============================] - 20s 13ms/step - loss: 0.0705 - accuracy: 0.4292 - val_loss: 0.0728 - val_accuracy: 0.4089\n",
            "Epoch 5/10\n",
            "1563/1563 [==============================] - 20s 13ms/step - loss: 0.0688 - accuracy: 0.4488 - val_loss: 0.0700 - val_accuracy: 0.4368\n",
            "Epoch 6/10\n",
            "1563/1563 [==============================] - 20s 13ms/step - loss: 0.0677 - accuracy: 0.4591 - val_loss: 0.0688 - val_accuracy: 0.4473\n",
            "Epoch 7/10\n",
            "1563/1563 [==============================] - 20s 13ms/step - loss: 0.0667 - accuracy: 0.4701 - val_loss: 0.0666 - val_accuracy: 0.4704\n",
            "Epoch 8/10\n",
            "1563/1563 [==============================] - 20s 13ms/step - loss: 0.0657 - accuracy: 0.4787 - val_loss: 0.0670 - val_accuracy: 0.4685\n",
            "Epoch 9/10\n",
            "1563/1563 [==============================] - 20s 13ms/step - loss: 0.0650 - accuracy: 0.4852 - val_loss: 0.0661 - val_accuracy: 0.4783\n",
            "Epoch 10/10\n",
            "1563/1563 [==============================] - 20s 13ms/step - loss: 0.0644 - accuracy: 0.4927 - val_loss: 0.0670 - val_accuracy: 0.4699\n"
          ]
        }
      ]
    },
    {
      "cell_type": "code",
      "source": [
        "y_train_pred=model3.predict(x_train)\n",
        "y_train_pred=np.argmax(y_train_pred,axis=1)\n",
        "\n",
        "train_report=classification_report(y_train, y_train_pred)\n",
        "print(train_report)\n",
        "\n",
        "y_test_pred=model3.predict(x_test)\n",
        "y_test_pred=np.argmax(y_test_pred,axis=1)\n",
        "\n",
        "test_report=classification_report(y_test, y_test_pred)\n",
        "print(test_report)"
      ],
      "metadata": {
        "colab": {
          "base_uri": "https://localhost:8080/"
        },
        "id": "Eia9U6EKRyQn",
        "outputId": "0f9a5996-d6ac-443a-8117-b444ecc1970e"
      },
      "execution_count": 152,
      "outputs": [
        {
          "output_type": "stream",
          "name": "stdout",
          "text": [
            "1563/1563 [==============================] - 7s 4ms/step\n",
            "              precision    recall  f1-score   support\n",
            "\n",
            "           0       0.52      0.57      0.55      5000\n",
            "           1       0.68      0.58      0.63      5000\n",
            "           2       0.40      0.39      0.39      5000\n",
            "           3       0.39      0.35      0.37      5000\n",
            "           4       0.40      0.52      0.45      5000\n",
            "           5       0.45      0.37      0.41      5000\n",
            "           6       0.61      0.46      0.52      5000\n",
            "           7       0.51      0.60      0.55      5000\n",
            "           8       0.61      0.64      0.63      5000\n",
            "           9       0.55      0.60      0.58      5000\n",
            "\n",
            "    accuracy                           0.51     50000\n",
            "   macro avg       0.51      0.51      0.51     50000\n",
            "weighted avg       0.51      0.51      0.51     50000\n",
            "\n",
            "313/313 [==============================] - 1s 4ms/step\n",
            "              precision    recall  f1-score   support\n",
            "\n",
            "           0       0.51      0.55      0.53      1000\n",
            "           1       0.63      0.53      0.57      1000\n",
            "           2       0.34      0.33      0.33      1000\n",
            "           3       0.35      0.31      0.33      1000\n",
            "           4       0.38      0.46      0.41      1000\n",
            "           5       0.40      0.34      0.37      1000\n",
            "           6       0.56      0.45      0.50      1000\n",
            "           7       0.48      0.57      0.52      1000\n",
            "           8       0.56      0.61      0.58      1000\n",
            "           9       0.52      0.57      0.54      1000\n",
            "\n",
            "    accuracy                           0.47     10000\n",
            "   macro avg       0.47      0.47      0.47     10000\n",
            "weighted avg       0.47      0.47      0.47     10000\n",
            "\n"
          ]
        }
      ]
    },
    {
      "cell_type": "code",
      "source": [],
      "metadata": {
        "id": "1zne7-FhR4il"
      },
      "execution_count": null,
      "outputs": []
    }
  ]
}